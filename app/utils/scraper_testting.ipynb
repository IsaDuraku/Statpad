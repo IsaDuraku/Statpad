{
 "cells": [
  {
   "cell_type": "code",
   "execution_count": 74,
   "id": "9fbf8b48-70f6-4e73-9f7e-1890826b4cec",
   "metadata": {
    "tags": [],
    "ExecuteTime": {
     "end_time": "2023-11-29T13:17:02.417129Z",
     "start_time": "2023-11-29T13:17:02.411352900Z"
    }
   },
   "outputs": [],
   "source": [
    "import requests"
   ]
  },
  {
   "cell_type": "code",
   "execution_count": 75,
   "id": "3950793c-0f37-4005-a21d-1cea050c8178",
   "metadata": {
    "tags": [],
    "ExecuteTime": {
     "end_time": "2023-11-29T13:17:02.682399600Z",
     "start_time": "2023-11-29T13:17:02.680890100Z"
    }
   },
   "outputs": [],
   "source": [
    "standings_url = \"https://fbref.com/en/comps/11/Serie-A-Stats\""
   ]
  },
  {
   "cell_type": "code",
   "execution_count": 76,
   "id": "54016583-0e6e-40dd-8dff-d1bd4cfab47d",
   "metadata": {
    "tags": [],
    "ExecuteTime": {
     "end_time": "2023-11-29T13:17:03.569300Z",
     "start_time": "2023-11-29T13:17:02.967121700Z"
    }
   },
   "outputs": [],
   "source": [
    "data = requests.get(standings_url)"
   ]
  },
  {
   "cell_type": "code",
   "execution_count": 77,
   "id": "8c44dcc4-73f5-448c-afc8-607b50136c74",
   "metadata": {
    "tags": [],
    "ExecuteTime": {
     "end_time": "2023-11-29T13:17:03.574926400Z",
     "start_time": "2023-11-29T13:17:03.569300Z"
    }
   },
   "outputs": [],
   "source": [
    "from bs4 import BeautifulSoup"
   ]
  },
  {
   "cell_type": "code",
   "execution_count": 78,
   "id": "f5fb619d-c952-487f-91a1-abdb88f5a08e",
   "metadata": {
    "tags": [],
    "ExecuteTime": {
     "end_time": "2023-11-29T13:17:04.258437800Z",
     "start_time": "2023-11-29T13:17:03.757137700Z"
    }
   },
   "outputs": [],
   "source": [
    "soup = BeautifulSoup(data.text)\n",
    "standings_table = soup.select('table.stats_table')[0]\n",
    "links = standings_table.find_all('a')\n",
    "links = [l.get(\"href\") for l in links]\n",
    "links = [l for l in links if '/squads/' in l]"
   ]
  },
  {
   "cell_type": "code",
   "execution_count": 79,
   "id": "3c4a89ae-6a56-4755-8904-ea5cce40109c",
   "metadata": {
    "ExecuteTime": {
     "end_time": "2023-11-29T13:17:04.265658500Z",
     "start_time": "2023-11-29T13:17:04.260636Z"
    }
   },
   "outputs": [],
   "source": [
    "team_urls = [f\"https://fbref.com{l}\" for l in links]"
   ]
  },
  {
   "cell_type": "code",
   "execution_count": 80,
   "id": "16a616cb-f835-49fa-9278-a528fda5a460",
   "metadata": {
    "tags": [],
    "ExecuteTime": {
     "end_time": "2023-11-29T13:17:12.242379400Z",
     "start_time": "2023-11-29T13:17:04.700147400Z"
    }
   },
   "outputs": [],
   "source": [
    "data = requests.get(team_urls[0])"
   ]
  },
  {
   "cell_type": "code",
   "execution_count": 81,
   "id": "4935a343-d431-44d9-90b8-ed0f162ace7a",
   "metadata": {
    "ExecuteTime": {
     "end_time": "2023-11-29T13:17:12.332187Z",
     "start_time": "2023-11-29T13:17:12.243883400Z"
    }
   },
   "outputs": [
    {
     "name": "stderr",
     "output_type": "stream",
     "text": [
      "C:\\Users\\isabo\\AppData\\Local\\Temp\\ipykernel_3224\\3144540431.py:2: FutureWarning: Passing literal html to 'read_html' is deprecated and will be removed in a future version. To read from a literal string, wrap it in a 'StringIO' object.\n",
      "  matches = pd.read_html(data.text, match=\"Scores & Fixtures\")[0]\n"
     ]
    }
   ],
   "source": [
    "import pandas as pd\n",
    "matches = pd.read_html(data.text, match=\"Scores & Fixtures\")[0]"
   ]
  },
  {
   "cell_type": "code",
   "execution_count": 82,
   "id": "8d9bf75f",
   "metadata": {
    "ExecuteTime": {
     "end_time": "2023-11-29T13:17:12.465129900Z",
     "start_time": "2023-11-29T13:17:12.334697500Z"
    }
   },
   "outputs": [],
   "source": [
    "soup = BeautifulSoup(data.text)\n",
    "links = soup.find_all('a')\n",
    "links = [l.get(\"href\") for l in links]\n",
    "links = [l for l in links if l and 'all_comps/shooting/' in l]"
   ]
  },
  {
   "cell_type": "code",
   "execution_count": 83,
   "id": "973b88fa",
   "metadata": {
    "ExecuteTime": {
     "end_time": "2023-11-29T13:17:12.991105600Z",
     "start_time": "2023-11-29T13:17:12.466134400Z"
    }
   },
   "outputs": [],
   "source": [
    "data = requests.get(f\"https://fbref.com{links[0]}\")"
   ]
  },
  {
   "cell_type": "code",
   "execution_count": 84,
   "id": "13080ec9",
   "metadata": {
    "ExecuteTime": {
     "end_time": "2023-11-29T13:17:13.031632400Z",
     "start_time": "2023-11-29T13:17:12.995180500Z"
    }
   },
   "outputs": [
    {
     "name": "stderr",
     "output_type": "stream",
     "text": [
      "C:\\Users\\isabo\\AppData\\Local\\Temp\\ipykernel_3224\\2775863936.py:1: FutureWarning: Passing literal html to 'read_html' is deprecated and will be removed in a future version. To read from a literal string, wrap it in a 'StringIO' object.\n",
      "  shooting = pd.read_html(data.text, match=\"Shooting\")[0]\n"
     ]
    }
   ],
   "source": [
    "shooting = pd.read_html(data.text, match=\"Shooting\")[0]"
   ]
  },
  {
   "cell_type": "code",
   "execution_count": 85,
   "id": "95d2ac25",
   "metadata": {
    "ExecuteTime": {
     "end_time": "2023-11-29T13:17:13.045209400Z",
     "start_time": "2023-11-29T13:17:13.026632900Z"
    }
   },
   "outputs": [
    {
     "data": {
      "text/plain": "  For Internazionale                                                           \\\n                Date   Time          Comp        Round  Day Venue Result   GF   \n0         2023-08-19  20:45       Serie A  Matchweek 1  Sat  Home      W  2.0   \n1         2023-08-28  20:45       Serie A  Matchweek 2  Mon  Away      W  2.0   \n2         2023-09-03  18:30       Serie A  Matchweek 3  Sun  Home      W  4.0   \n3         2023-09-16  18:00       Serie A  Matchweek 4  Sat  Home      W  5.0   \n4         2023-09-20  21:00  Champions Lg  Group stage  Wed  Away      D  1.0   \n\n                          ... Standard             Expected                    \\\n    GA          Opponent  ...     Dist FK PK PKatt       xG npxG npxG/Sh G-xG   \n0  0.0             Monza  ...     17.2  1  0     0      2.7  2.7    0.12 -0.7   \n1  0.0          Cagliari  ...     15.9  0  0     0      0.9  0.9    0.05  1.1   \n2  0.0        Fiorentina  ...     14.5  1  1     1      3.7  2.9    0.15  0.3   \n3  1.0             Milan  ...     15.2  1  1     1      2.6  1.8    0.14  2.4   \n4  1.0  es Real Sociedad  ...     14.7  0  0     0      0.5  0.5    0.09  0.5   \n\n          Unnamed: 25_level_0  \n  np:G-xG        Match Report  \n0    -0.7        Match Report  \n1     1.1        Match Report  \n2     0.1        Match Report  \n3     2.2        Match Report  \n4     0.5        Match Report  \n\n[5 rows x 26 columns]",
      "text/html": "<div>\n<style scoped>\n    .dataframe tbody tr th:only-of-type {\n        vertical-align: middle;\n    }\n\n    .dataframe tbody tr th {\n        vertical-align: top;\n    }\n\n    .dataframe thead tr th {\n        text-align: left;\n    }\n</style>\n<table border=\"1\" class=\"dataframe\">\n  <thead>\n    <tr>\n      <th></th>\n      <th colspan=\"10\" halign=\"left\">For Internazionale</th>\n      <th>...</th>\n      <th colspan=\"4\" halign=\"left\">Standard</th>\n      <th colspan=\"5\" halign=\"left\">Expected</th>\n      <th>Unnamed: 25_level_0</th>\n    </tr>\n    <tr>\n      <th></th>\n      <th>Date</th>\n      <th>Time</th>\n      <th>Comp</th>\n      <th>Round</th>\n      <th>Day</th>\n      <th>Venue</th>\n      <th>Result</th>\n      <th>GF</th>\n      <th>GA</th>\n      <th>Opponent</th>\n      <th>...</th>\n      <th>Dist</th>\n      <th>FK</th>\n      <th>PK</th>\n      <th>PKatt</th>\n      <th>xG</th>\n      <th>npxG</th>\n      <th>npxG/Sh</th>\n      <th>G-xG</th>\n      <th>np:G-xG</th>\n      <th>Match Report</th>\n    </tr>\n  </thead>\n  <tbody>\n    <tr>\n      <th>0</th>\n      <td>2023-08-19</td>\n      <td>20:45</td>\n      <td>Serie A</td>\n      <td>Matchweek 1</td>\n      <td>Sat</td>\n      <td>Home</td>\n      <td>W</td>\n      <td>2.0</td>\n      <td>0.0</td>\n      <td>Monza</td>\n      <td>...</td>\n      <td>17.2</td>\n      <td>1</td>\n      <td>0</td>\n      <td>0</td>\n      <td>2.7</td>\n      <td>2.7</td>\n      <td>0.12</td>\n      <td>-0.7</td>\n      <td>-0.7</td>\n      <td>Match Report</td>\n    </tr>\n    <tr>\n      <th>1</th>\n      <td>2023-08-28</td>\n      <td>20:45</td>\n      <td>Serie A</td>\n      <td>Matchweek 2</td>\n      <td>Mon</td>\n      <td>Away</td>\n      <td>W</td>\n      <td>2.0</td>\n      <td>0.0</td>\n      <td>Cagliari</td>\n      <td>...</td>\n      <td>15.9</td>\n      <td>0</td>\n      <td>0</td>\n      <td>0</td>\n      <td>0.9</td>\n      <td>0.9</td>\n      <td>0.05</td>\n      <td>1.1</td>\n      <td>1.1</td>\n      <td>Match Report</td>\n    </tr>\n    <tr>\n      <th>2</th>\n      <td>2023-09-03</td>\n      <td>18:30</td>\n      <td>Serie A</td>\n      <td>Matchweek 3</td>\n      <td>Sun</td>\n      <td>Home</td>\n      <td>W</td>\n      <td>4.0</td>\n      <td>0.0</td>\n      <td>Fiorentina</td>\n      <td>...</td>\n      <td>14.5</td>\n      <td>1</td>\n      <td>1</td>\n      <td>1</td>\n      <td>3.7</td>\n      <td>2.9</td>\n      <td>0.15</td>\n      <td>0.3</td>\n      <td>0.1</td>\n      <td>Match Report</td>\n    </tr>\n    <tr>\n      <th>3</th>\n      <td>2023-09-16</td>\n      <td>18:00</td>\n      <td>Serie A</td>\n      <td>Matchweek 4</td>\n      <td>Sat</td>\n      <td>Home</td>\n      <td>W</td>\n      <td>5.0</td>\n      <td>1.0</td>\n      <td>Milan</td>\n      <td>...</td>\n      <td>15.2</td>\n      <td>1</td>\n      <td>1</td>\n      <td>1</td>\n      <td>2.6</td>\n      <td>1.8</td>\n      <td>0.14</td>\n      <td>2.4</td>\n      <td>2.2</td>\n      <td>Match Report</td>\n    </tr>\n    <tr>\n      <th>4</th>\n      <td>2023-09-20</td>\n      <td>21:00</td>\n      <td>Champions Lg</td>\n      <td>Group stage</td>\n      <td>Wed</td>\n      <td>Away</td>\n      <td>D</td>\n      <td>1.0</td>\n      <td>1.0</td>\n      <td>es Real Sociedad</td>\n      <td>...</td>\n      <td>14.7</td>\n      <td>0</td>\n      <td>0</td>\n      <td>0</td>\n      <td>0.5</td>\n      <td>0.5</td>\n      <td>0.09</td>\n      <td>0.5</td>\n      <td>0.5</td>\n      <td>Match Report</td>\n    </tr>\n  </tbody>\n</table>\n<p>5 rows × 26 columns</p>\n</div>"
     },
     "execution_count": 85,
     "metadata": {},
     "output_type": "execute_result"
    }
   ],
   "source": [
    "shooting.head()"
   ]
  },
  {
   "cell_type": "code",
   "execution_count": 86,
   "id": "0d147f36",
   "metadata": {
    "ExecuteTime": {
     "end_time": "2023-11-29T13:17:13.063784300Z",
     "start_time": "2023-11-29T13:17:13.042138400Z"
    }
   },
   "outputs": [],
   "source": [
    "shooting.columns = shooting.columns.droplevel()"
   ]
  },
  {
   "cell_type": "code",
   "execution_count": 87,
   "id": "0f83ec96",
   "metadata": {
    "ExecuteTime": {
     "end_time": "2023-11-29T13:17:13.064850200Z",
     "start_time": "2023-11-29T13:17:13.046240400Z"
    }
   },
   "outputs": [],
   "source": [
    "team_data = matches.merge(shooting[[\"Date\", \"Sh\", \"SoT\", \"Dist\", \"FK\", \"PK\", \"PKatt\"]], on=\"Date\")"
   ]
  },
  {
   "cell_type": "code",
   "execution_count": 88,
   "id": "5a3356aa",
   "metadata": {
    "ExecuteTime": {
     "end_time": "2023-11-29T13:17:13.085359200Z",
     "start_time": "2023-11-29T13:17:13.052879700Z"
    }
   },
   "outputs": [
    {
     "data": {
      "text/plain": "         Date   Time          Comp        Round  Day Venue Result   GF   GA  \\\n0  2023-08-19  20:45       Serie A  Matchweek 1  Sat  Home      W  2.0  0.0   \n1  2023-08-28  20:45       Serie A  Matchweek 2  Mon  Away      W  2.0  0.0   \n2  2023-09-03  18:30       Serie A  Matchweek 3  Sun  Home      W  4.0  0.0   \n3  2023-09-16  18:00       Serie A  Matchweek 4  Sat  Home      W  5.0  1.0   \n4  2023-09-20  21:00  Champions Lg  Group stage  Wed  Away      D  1.0  1.0   \n\n           Opponent  ...  Formation           Referee  Match Report  Notes  \\\n0             Monza  ...      3-5-2    Andrea Colombo  Match Report    NaN   \n1          Cagliari  ...      3-5-2    Michael Fabbri  Match Report    NaN   \n2        Fiorentina  ...      3-5-2  Matteo Marchetti  Match Report    NaN   \n3             Milan  ...      3-5-2      Simone Sozza  Match Report    NaN   \n4  es Real Sociedad  ...      3-5-2    Michael Oliver  Match Report    NaN   \n\n   Sh SoT  Dist FK  PK  PKatt  \n0  22   3  17.2  1   0      0  \n1  17   3  15.9  0   0      0  \n2  20  10  14.5  1   1      1  \n3  13   6  15.2  1   1      1  \n4   6   1  14.7  0   0      0  \n\n[5 rows x 25 columns]",
      "text/html": "<div>\n<style scoped>\n    .dataframe tbody tr th:only-of-type {\n        vertical-align: middle;\n    }\n\n    .dataframe tbody tr th {\n        vertical-align: top;\n    }\n\n    .dataframe thead th {\n        text-align: right;\n    }\n</style>\n<table border=\"1\" class=\"dataframe\">\n  <thead>\n    <tr style=\"text-align: right;\">\n      <th></th>\n      <th>Date</th>\n      <th>Time</th>\n      <th>Comp</th>\n      <th>Round</th>\n      <th>Day</th>\n      <th>Venue</th>\n      <th>Result</th>\n      <th>GF</th>\n      <th>GA</th>\n      <th>Opponent</th>\n      <th>...</th>\n      <th>Formation</th>\n      <th>Referee</th>\n      <th>Match Report</th>\n      <th>Notes</th>\n      <th>Sh</th>\n      <th>SoT</th>\n      <th>Dist</th>\n      <th>FK</th>\n      <th>PK</th>\n      <th>PKatt</th>\n    </tr>\n  </thead>\n  <tbody>\n    <tr>\n      <th>0</th>\n      <td>2023-08-19</td>\n      <td>20:45</td>\n      <td>Serie A</td>\n      <td>Matchweek 1</td>\n      <td>Sat</td>\n      <td>Home</td>\n      <td>W</td>\n      <td>2.0</td>\n      <td>0.0</td>\n      <td>Monza</td>\n      <td>...</td>\n      <td>3-5-2</td>\n      <td>Andrea Colombo</td>\n      <td>Match Report</td>\n      <td>NaN</td>\n      <td>22</td>\n      <td>3</td>\n      <td>17.2</td>\n      <td>1</td>\n      <td>0</td>\n      <td>0</td>\n    </tr>\n    <tr>\n      <th>1</th>\n      <td>2023-08-28</td>\n      <td>20:45</td>\n      <td>Serie A</td>\n      <td>Matchweek 2</td>\n      <td>Mon</td>\n      <td>Away</td>\n      <td>W</td>\n      <td>2.0</td>\n      <td>0.0</td>\n      <td>Cagliari</td>\n      <td>...</td>\n      <td>3-5-2</td>\n      <td>Michael Fabbri</td>\n      <td>Match Report</td>\n      <td>NaN</td>\n      <td>17</td>\n      <td>3</td>\n      <td>15.9</td>\n      <td>0</td>\n      <td>0</td>\n      <td>0</td>\n    </tr>\n    <tr>\n      <th>2</th>\n      <td>2023-09-03</td>\n      <td>18:30</td>\n      <td>Serie A</td>\n      <td>Matchweek 3</td>\n      <td>Sun</td>\n      <td>Home</td>\n      <td>W</td>\n      <td>4.0</td>\n      <td>0.0</td>\n      <td>Fiorentina</td>\n      <td>...</td>\n      <td>3-5-2</td>\n      <td>Matteo Marchetti</td>\n      <td>Match Report</td>\n      <td>NaN</td>\n      <td>20</td>\n      <td>10</td>\n      <td>14.5</td>\n      <td>1</td>\n      <td>1</td>\n      <td>1</td>\n    </tr>\n    <tr>\n      <th>3</th>\n      <td>2023-09-16</td>\n      <td>18:00</td>\n      <td>Serie A</td>\n      <td>Matchweek 4</td>\n      <td>Sat</td>\n      <td>Home</td>\n      <td>W</td>\n      <td>5.0</td>\n      <td>1.0</td>\n      <td>Milan</td>\n      <td>...</td>\n      <td>3-5-2</td>\n      <td>Simone Sozza</td>\n      <td>Match Report</td>\n      <td>NaN</td>\n      <td>13</td>\n      <td>6</td>\n      <td>15.2</td>\n      <td>1</td>\n      <td>1</td>\n      <td>1</td>\n    </tr>\n    <tr>\n      <th>4</th>\n      <td>2023-09-20</td>\n      <td>21:00</td>\n      <td>Champions Lg</td>\n      <td>Group stage</td>\n      <td>Wed</td>\n      <td>Away</td>\n      <td>D</td>\n      <td>1.0</td>\n      <td>1.0</td>\n      <td>es Real Sociedad</td>\n      <td>...</td>\n      <td>3-5-2</td>\n      <td>Michael Oliver</td>\n      <td>Match Report</td>\n      <td>NaN</td>\n      <td>6</td>\n      <td>1</td>\n      <td>14.7</td>\n      <td>0</td>\n      <td>0</td>\n      <td>0</td>\n    </tr>\n  </tbody>\n</table>\n<p>5 rows × 25 columns</p>\n</div>"
     },
     "execution_count": 88,
     "metadata": {},
     "output_type": "execute_result"
    }
   ],
   "source": [
    "team_data.head()"
   ]
  },
  {
   "cell_type": "code",
   "execution_count": 89,
   "id": "d44aebb1",
   "metadata": {
    "ExecuteTime": {
     "end_time": "2023-11-29T13:17:13.107454200Z",
     "start_time": "2023-11-29T13:17:13.066216200Z"
    }
   },
   "outputs": [],
   "source": [
    "years = list(range(2024, 2023, -1))\n",
    "all_matches = []"
   ]
  },
  {
   "cell_type": "code",
   "execution_count": 90,
   "id": "f7b2c518",
   "metadata": {
    "ExecuteTime": {
     "end_time": "2023-11-29T13:17:15.314709700Z",
     "start_time": "2023-11-29T13:17:15.301561300Z"
    }
   },
   "outputs": [],
   "source": [
    "standings_url = \"https://fbref.com/en/comps/11/Serie-A-Stats\""
   ]
  },
  {
   "cell_type": "code",
   "execution_count": 91,
   "id": "48d4f43b",
   "metadata": {
    "ExecuteTime": {
     "end_time": "2023-11-29T13:19:56.222822400Z",
     "start_time": "2023-11-29T13:17:25.126250200Z"
    }
   },
   "outputs": [
    {
     "name": "stderr",
     "output_type": "stream",
     "text": [
      "C:\\Users\\isabo\\AppData\\Local\\Temp\\ipykernel_3224\\3659070056.py:17: FutureWarning: Passing literal html to 'read_html' is deprecated and will be removed in a future version. To read from a literal string, wrap it in a 'StringIO' object.\n",
      "  matches = pd.read_html(data.text, match=\"Scores & Fixtures\")[0]\n",
      "C:\\Users\\isabo\\AppData\\Local\\Temp\\ipykernel_3224\\3659070056.py:22: FutureWarning: Passing literal html to 'read_html' is deprecated and will be removed in a future version. To read from a literal string, wrap it in a 'StringIO' object.\n",
      "  shooting = pd.read_html(data.text, match=\"Shooting\")[0]\n",
      "C:\\Users\\isabo\\AppData\\Local\\Temp\\ipykernel_3224\\3659070056.py:17: FutureWarning: Passing literal html to 'read_html' is deprecated and will be removed in a future version. To read from a literal string, wrap it in a 'StringIO' object.\n",
      "  matches = pd.read_html(data.text, match=\"Scores & Fixtures\")[0]\n",
      "C:\\Users\\isabo\\AppData\\Local\\Temp\\ipykernel_3224\\3659070056.py:22: FutureWarning: Passing literal html to 'read_html' is deprecated and will be removed in a future version. To read from a literal string, wrap it in a 'StringIO' object.\n",
      "  shooting = pd.read_html(data.text, match=\"Shooting\")[0]\n",
      "C:\\Users\\isabo\\AppData\\Local\\Temp\\ipykernel_3224\\3659070056.py:17: FutureWarning: Passing literal html to 'read_html' is deprecated and will be removed in a future version. To read from a literal string, wrap it in a 'StringIO' object.\n",
      "  matches = pd.read_html(data.text, match=\"Scores & Fixtures\")[0]\n",
      "C:\\Users\\isabo\\AppData\\Local\\Temp\\ipykernel_3224\\3659070056.py:22: FutureWarning: Passing literal html to 'read_html' is deprecated and will be removed in a future version. To read from a literal string, wrap it in a 'StringIO' object.\n",
      "  shooting = pd.read_html(data.text, match=\"Shooting\")[0]\n",
      "C:\\Users\\isabo\\AppData\\Local\\Temp\\ipykernel_3224\\3659070056.py:17: FutureWarning: Passing literal html to 'read_html' is deprecated and will be removed in a future version. To read from a literal string, wrap it in a 'StringIO' object.\n",
      "  matches = pd.read_html(data.text, match=\"Scores & Fixtures\")[0]\n",
      "C:\\Users\\isabo\\AppData\\Local\\Temp\\ipykernel_3224\\3659070056.py:22: FutureWarning: Passing literal html to 'read_html' is deprecated and will be removed in a future version. To read from a literal string, wrap it in a 'StringIO' object.\n",
      "  shooting = pd.read_html(data.text, match=\"Shooting\")[0]\n",
      "C:\\Users\\isabo\\AppData\\Local\\Temp\\ipykernel_3224\\3659070056.py:17: FutureWarning: Passing literal html to 'read_html' is deprecated and will be removed in a future version. To read from a literal string, wrap it in a 'StringIO' object.\n",
      "  matches = pd.read_html(data.text, match=\"Scores & Fixtures\")[0]\n",
      "C:\\Users\\isabo\\AppData\\Local\\Temp\\ipykernel_3224\\3659070056.py:22: FutureWarning: Passing literal html to 'read_html' is deprecated and will be removed in a future version. To read from a literal string, wrap it in a 'StringIO' object.\n",
      "  shooting = pd.read_html(data.text, match=\"Shooting\")[0]\n",
      "C:\\Users\\isabo\\AppData\\Local\\Temp\\ipykernel_3224\\3659070056.py:17: FutureWarning: Passing literal html to 'read_html' is deprecated and will be removed in a future version. To read from a literal string, wrap it in a 'StringIO' object.\n",
      "  matches = pd.read_html(data.text, match=\"Scores & Fixtures\")[0]\n",
      "C:\\Users\\isabo\\AppData\\Local\\Temp\\ipykernel_3224\\3659070056.py:22: FutureWarning: Passing literal html to 'read_html' is deprecated and will be removed in a future version. To read from a literal string, wrap it in a 'StringIO' object.\n",
      "  shooting = pd.read_html(data.text, match=\"Shooting\")[0]\n",
      "C:\\Users\\isabo\\AppData\\Local\\Temp\\ipykernel_3224\\3659070056.py:17: FutureWarning: Passing literal html to 'read_html' is deprecated and will be removed in a future version. To read from a literal string, wrap it in a 'StringIO' object.\n",
      "  matches = pd.read_html(data.text, match=\"Scores & Fixtures\")[0]\n",
      "C:\\Users\\isabo\\AppData\\Local\\Temp\\ipykernel_3224\\3659070056.py:22: FutureWarning: Passing literal html to 'read_html' is deprecated and will be removed in a future version. To read from a literal string, wrap it in a 'StringIO' object.\n",
      "  shooting = pd.read_html(data.text, match=\"Shooting\")[0]\n",
      "C:\\Users\\isabo\\AppData\\Local\\Temp\\ipykernel_3224\\3659070056.py:17: FutureWarning: Passing literal html to 'read_html' is deprecated and will be removed in a future version. To read from a literal string, wrap it in a 'StringIO' object.\n",
      "  matches = pd.read_html(data.text, match=\"Scores & Fixtures\")[0]\n",
      "C:\\Users\\isabo\\AppData\\Local\\Temp\\ipykernel_3224\\3659070056.py:22: FutureWarning: Passing literal html to 'read_html' is deprecated and will be removed in a future version. To read from a literal string, wrap it in a 'StringIO' object.\n",
      "  shooting = pd.read_html(data.text, match=\"Shooting\")[0]\n",
      "C:\\Users\\isabo\\AppData\\Local\\Temp\\ipykernel_3224\\3659070056.py:17: FutureWarning: Passing literal html to 'read_html' is deprecated and will be removed in a future version. To read from a literal string, wrap it in a 'StringIO' object.\n",
      "  matches = pd.read_html(data.text, match=\"Scores & Fixtures\")[0]\n",
      "C:\\Users\\isabo\\AppData\\Local\\Temp\\ipykernel_3224\\3659070056.py:22: FutureWarning: Passing literal html to 'read_html' is deprecated and will be removed in a future version. To read from a literal string, wrap it in a 'StringIO' object.\n",
      "  shooting = pd.read_html(data.text, match=\"Shooting\")[0]\n",
      "C:\\Users\\isabo\\AppData\\Local\\Temp\\ipykernel_3224\\3659070056.py:17: FutureWarning: Passing literal html to 'read_html' is deprecated and will be removed in a future version. To read from a literal string, wrap it in a 'StringIO' object.\n",
      "  matches = pd.read_html(data.text, match=\"Scores & Fixtures\")[0]\n",
      "C:\\Users\\isabo\\AppData\\Local\\Temp\\ipykernel_3224\\3659070056.py:22: FutureWarning: Passing literal html to 'read_html' is deprecated and will be removed in a future version. To read from a literal string, wrap it in a 'StringIO' object.\n",
      "  shooting = pd.read_html(data.text, match=\"Shooting\")[0]\n",
      "C:\\Users\\isabo\\AppData\\Local\\Temp\\ipykernel_3224\\3659070056.py:17: FutureWarning: Passing literal html to 'read_html' is deprecated and will be removed in a future version. To read from a literal string, wrap it in a 'StringIO' object.\n",
      "  matches = pd.read_html(data.text, match=\"Scores & Fixtures\")[0]\n",
      "C:\\Users\\isabo\\AppData\\Local\\Temp\\ipykernel_3224\\3659070056.py:22: FutureWarning: Passing literal html to 'read_html' is deprecated and will be removed in a future version. To read from a literal string, wrap it in a 'StringIO' object.\n",
      "  shooting = pd.read_html(data.text, match=\"Shooting\")[0]\n",
      "C:\\Users\\isabo\\AppData\\Local\\Temp\\ipykernel_3224\\3659070056.py:17: FutureWarning: Passing literal html to 'read_html' is deprecated and will be removed in a future version. To read from a literal string, wrap it in a 'StringIO' object.\n",
      "  matches = pd.read_html(data.text, match=\"Scores & Fixtures\")[0]\n",
      "C:\\Users\\isabo\\AppData\\Local\\Temp\\ipykernel_3224\\3659070056.py:22: FutureWarning: Passing literal html to 'read_html' is deprecated and will be removed in a future version. To read from a literal string, wrap it in a 'StringIO' object.\n",
      "  shooting = pd.read_html(data.text, match=\"Shooting\")[0]\n",
      "C:\\Users\\isabo\\AppData\\Local\\Temp\\ipykernel_3224\\3659070056.py:17: FutureWarning: Passing literal html to 'read_html' is deprecated and will be removed in a future version. To read from a literal string, wrap it in a 'StringIO' object.\n",
      "  matches = pd.read_html(data.text, match=\"Scores & Fixtures\")[0]\n",
      "C:\\Users\\isabo\\AppData\\Local\\Temp\\ipykernel_3224\\3659070056.py:22: FutureWarning: Passing literal html to 'read_html' is deprecated and will be removed in a future version. To read from a literal string, wrap it in a 'StringIO' object.\n",
      "  shooting = pd.read_html(data.text, match=\"Shooting\")[0]\n",
      "C:\\Users\\isabo\\AppData\\Local\\Temp\\ipykernel_3224\\3659070056.py:17: FutureWarning: Passing literal html to 'read_html' is deprecated and will be removed in a future version. To read from a literal string, wrap it in a 'StringIO' object.\n",
      "  matches = pd.read_html(data.text, match=\"Scores & Fixtures\")[0]\n",
      "C:\\Users\\isabo\\AppData\\Local\\Temp\\ipykernel_3224\\3659070056.py:22: FutureWarning: Passing literal html to 'read_html' is deprecated and will be removed in a future version. To read from a literal string, wrap it in a 'StringIO' object.\n",
      "  shooting = pd.read_html(data.text, match=\"Shooting\")[0]\n",
      "C:\\Users\\isabo\\AppData\\Local\\Temp\\ipykernel_3224\\3659070056.py:17: FutureWarning: Passing literal html to 'read_html' is deprecated and will be removed in a future version. To read from a literal string, wrap it in a 'StringIO' object.\n",
      "  matches = pd.read_html(data.text, match=\"Scores & Fixtures\")[0]\n",
      "C:\\Users\\isabo\\AppData\\Local\\Temp\\ipykernel_3224\\3659070056.py:22: FutureWarning: Passing literal html to 'read_html' is deprecated and will be removed in a future version. To read from a literal string, wrap it in a 'StringIO' object.\n",
      "  shooting = pd.read_html(data.text, match=\"Shooting\")[0]\n",
      "C:\\Users\\isabo\\AppData\\Local\\Temp\\ipykernel_3224\\3659070056.py:17: FutureWarning: Passing literal html to 'read_html' is deprecated and will be removed in a future version. To read from a literal string, wrap it in a 'StringIO' object.\n",
      "  matches = pd.read_html(data.text, match=\"Scores & Fixtures\")[0]\n",
      "C:\\Users\\isabo\\AppData\\Local\\Temp\\ipykernel_3224\\3659070056.py:22: FutureWarning: Passing literal html to 'read_html' is deprecated and will be removed in a future version. To read from a literal string, wrap it in a 'StringIO' object.\n",
      "  shooting = pd.read_html(data.text, match=\"Shooting\")[0]\n",
      "C:\\Users\\isabo\\AppData\\Local\\Temp\\ipykernel_3224\\3659070056.py:17: FutureWarning: Passing literal html to 'read_html' is deprecated and will be removed in a future version. To read from a literal string, wrap it in a 'StringIO' object.\n",
      "  matches = pd.read_html(data.text, match=\"Scores & Fixtures\")[0]\n",
      "C:\\Users\\isabo\\AppData\\Local\\Temp\\ipykernel_3224\\3659070056.py:22: FutureWarning: Passing literal html to 'read_html' is deprecated and will be removed in a future version. To read from a literal string, wrap it in a 'StringIO' object.\n",
      "  shooting = pd.read_html(data.text, match=\"Shooting\")[0]\n",
      "C:\\Users\\isabo\\AppData\\Local\\Temp\\ipykernel_3224\\3659070056.py:17: FutureWarning: Passing literal html to 'read_html' is deprecated and will be removed in a future version. To read from a literal string, wrap it in a 'StringIO' object.\n",
      "  matches = pd.read_html(data.text, match=\"Scores & Fixtures\")[0]\n",
      "C:\\Users\\isabo\\AppData\\Local\\Temp\\ipykernel_3224\\3659070056.py:22: FutureWarning: Passing literal html to 'read_html' is deprecated and will be removed in a future version. To read from a literal string, wrap it in a 'StringIO' object.\n",
      "  shooting = pd.read_html(data.text, match=\"Shooting\")[0]\n",
      "C:\\Users\\isabo\\AppData\\Local\\Temp\\ipykernel_3224\\3659070056.py:17: FutureWarning: Passing literal html to 'read_html' is deprecated and will be removed in a future version. To read from a literal string, wrap it in a 'StringIO' object.\n",
      "  matches = pd.read_html(data.text, match=\"Scores & Fixtures\")[0]\n",
      "C:\\Users\\isabo\\AppData\\Local\\Temp\\ipykernel_3224\\3659070056.py:22: FutureWarning: Passing literal html to 'read_html' is deprecated and will be removed in a future version. To read from a literal string, wrap it in a 'StringIO' object.\n",
      "  shooting = pd.read_html(data.text, match=\"Shooting\")[0]\n",
      "C:\\Users\\isabo\\AppData\\Local\\Temp\\ipykernel_3224\\3659070056.py:17: FutureWarning: Passing literal html to 'read_html' is deprecated and will be removed in a future version. To read from a literal string, wrap it in a 'StringIO' object.\n",
      "  matches = pd.read_html(data.text, match=\"Scores & Fixtures\")[0]\n",
      "C:\\Users\\isabo\\AppData\\Local\\Temp\\ipykernel_3224\\3659070056.py:22: FutureWarning: Passing literal html to 'read_html' is deprecated and will be removed in a future version. To read from a literal string, wrap it in a 'StringIO' object.\n",
      "  shooting = pd.read_html(data.text, match=\"Shooting\")[0]\n"
     ]
    }
   ],
   "source": [
    "import time\n",
    "for year in years:\n",
    "    data = requests.get(standings_url)\n",
    "    soup = BeautifulSoup(data.text)\n",
    "    standings_table = soup.select('table.stats_table')[0]\n",
    "\n",
    "    links = [l.get(\"href\") for l in standings_table.find_all('a')]\n",
    "    links = [l for l in links if '/squads/' in l]\n",
    "    team_urls = [f\"https://fbref.com{l}\" for l in links]\n",
    "    \n",
    "    previous_season = soup.select(\"a.prev\")[0].get(\"href\")\n",
    "    standings_url = f\"https://fbref.com{previous_season}\"\n",
    "    \n",
    "    for team_url in team_urls:\n",
    "        team_name = team_url.split(\"/\")[-1].replace(\"-Stats\", \"\").replace(\"-\", \" \")\n",
    "        data = requests.get(team_url)\n",
    "        matches = pd.read_html(data.text, match=\"Scores & Fixtures\")[0]\n",
    "        soup = BeautifulSoup(data.text)\n",
    "        links = [l.get(\"href\") for l in soup.find_all('a')]\n",
    "        links = [l for l in links if l and 'all_comps/shooting/' in l]\n",
    "        data = requests.get(f\"https://fbref.com{links[0]}\")\n",
    "        shooting = pd.read_html(data.text, match=\"Shooting\")[0]\n",
    "        shooting.columns = shooting.columns.droplevel()\n",
    "        try:\n",
    "            team_data = matches.merge(shooting[[\"Date\", \"Sh\", \"SoT\", \"Dist\", \"FK\", \"PK\", \"PKatt\"]], on=\"Date\")\n",
    "        except ValueError:\n",
    "            continue\n",
    "        competitions_to_filter = [\"Champions League\", \"Serie A\", \"Europa League\", ]\n",
    "        team_data = team_data[team_data[\"Comp\"].isin(competitions_to_filter)]\n",
    "        \n",
    "        team_data[\"Season\"] = year\n",
    "        team_data[\"Team\"] = team_name\n",
    "        all_matches.append(team_data)\n",
    "        time.sleep(1)"
   ]
  },
  {
   "cell_type": "code",
   "execution_count": 92,
   "id": "a89f5447",
   "metadata": {
    "ExecuteTime": {
     "end_time": "2023-11-29T13:19:56.233885600Z",
     "start_time": "2023-11-29T13:19:56.223828900Z"
    }
   },
   "outputs": [
    {
     "data": {
      "text/plain": "20"
     },
     "execution_count": 92,
     "metadata": {},
     "output_type": "execute_result"
    }
   ],
   "source": [
    "len(all_matches)"
   ]
  },
  {
   "cell_type": "code",
   "execution_count": 93,
   "id": "261b95ee",
   "metadata": {
    "ExecuteTime": {
     "end_time": "2023-11-29T13:19:56.240710300Z",
     "start_time": "2023-11-29T13:19:56.229034900Z"
    }
   },
   "outputs": [],
   "source": [
    "match_df = pd.concat(all_matches)"
   ]
  },
  {
   "cell_type": "code",
   "execution_count": 94,
   "id": "a8f426c1",
   "metadata": {
    "ExecuteTime": {
     "end_time": "2023-11-29T13:19:56.240710300Z",
     "start_time": "2023-11-29T13:19:56.236905500Z"
    }
   },
   "outputs": [],
   "source": [
    "match_df.columns = [c.lower() for c in match_df.columns]"
   ]
  },
  {
   "cell_type": "code",
   "execution_count": 95,
   "id": "ba06b50b",
   "metadata": {
    "ExecuteTime": {
     "end_time": "2023-11-29T13:19:56.302170600Z",
     "start_time": "2023-11-29T13:19:56.241710Z"
    }
   },
   "outputs": [
    {
     "data": {
      "text/plain": "          date   time     comp         round  day venue result   gf   ga  \\\n0   2023-08-19  20:45  Serie A   Matchweek 1  Sat  Home      W  2.0  0.0   \n1   2023-08-28  20:45  Serie A   Matchweek 2  Mon  Away      W  2.0  0.0   \n2   2023-09-03  18:30  Serie A   Matchweek 3  Sun  Home      W  4.0  0.0   \n3   2023-09-16  18:00  Serie A   Matchweek 4  Sat  Home      W  5.0  1.0   \n5   2023-09-24  12:30  Serie A   Matchweek 5  Sun  Away      W  1.0  0.0   \n..         ...    ...      ...           ...  ...   ...    ...  ...  ...   \n9   2023-10-22  15:00  Serie A   Matchweek 9  Sun  Home      D  2.0  2.0   \n10  2023-10-27  20:45  Serie A  Matchweek 10  Fri  Away      L  0.0  1.0   \n12  2023-11-04  15:00  Serie A  Matchweek 11  Sat  Home      L  0.0  2.0   \n13  2023-11-10  18:30  Serie A  Matchweek 12  Fri  Away      D  2.0  2.0   \n14  2023-11-25  15:00  Serie A  Matchweek 13  Sat  Home      W  2.0  1.0   \n\n      opponent  ...  match report  notes    sh   sot  dist   fk pk pkatt  \\\n0        Monza  ...  Match Report    NaN  22.0   3.0  17.2  1.0  0     0   \n1     Cagliari  ...  Match Report    NaN  17.0   3.0  15.9  0.0  0     0   \n2   Fiorentina  ...  Match Report    NaN  20.0  10.0  14.5  1.0  1     1   \n3        Milan  ...  Match Report    NaN  13.0   6.0  15.2  1.0  1     1   \n5       Empoli  ...  Match Report    NaN  23.0   5.0  16.8  0.0  0     0   \n..         ...  ...           ...    ...   ...   ...   ...  ... ..   ...   \n9     Cagliari  ...  Match Report    NaN  12.0   1.0  19.4  0.0  1     1   \n10       Genoa  ...  Match Report    NaN   7.0   2.0  21.3  1.0  0     0   \n12      Napoli  ...  Match Report    NaN  10.0   3.0  18.8  0.0  0     0   \n13    Sassuolo  ...  Match Report    NaN   9.0   2.0  23.2  1.0  0     0   \n14       Lazio  ...  Match Report    NaN  13.0   6.0  19.0  0.0  0     0   \n\n   season            team  \n0    2024  Internazionale  \n1    2024  Internazionale  \n2    2024  Internazionale  \n3    2024  Internazionale  \n5    2024  Internazionale  \n..    ...             ...  \n9    2024     Salernitana  \n10   2024     Salernitana  \n12   2024     Salernitana  \n13   2024     Salernitana  \n14   2024     Salernitana  \n\n[260 rows x 27 columns]",
      "text/html": "<div>\n<style scoped>\n    .dataframe tbody tr th:only-of-type {\n        vertical-align: middle;\n    }\n\n    .dataframe tbody tr th {\n        vertical-align: top;\n    }\n\n    .dataframe thead th {\n        text-align: right;\n    }\n</style>\n<table border=\"1\" class=\"dataframe\">\n  <thead>\n    <tr style=\"text-align: right;\">\n      <th></th>\n      <th>date</th>\n      <th>time</th>\n      <th>comp</th>\n      <th>round</th>\n      <th>day</th>\n      <th>venue</th>\n      <th>result</th>\n      <th>gf</th>\n      <th>ga</th>\n      <th>opponent</th>\n      <th>...</th>\n      <th>match report</th>\n      <th>notes</th>\n      <th>sh</th>\n      <th>sot</th>\n      <th>dist</th>\n      <th>fk</th>\n      <th>pk</th>\n      <th>pkatt</th>\n      <th>season</th>\n      <th>team</th>\n    </tr>\n  </thead>\n  <tbody>\n    <tr>\n      <th>0</th>\n      <td>2023-08-19</td>\n      <td>20:45</td>\n      <td>Serie A</td>\n      <td>Matchweek 1</td>\n      <td>Sat</td>\n      <td>Home</td>\n      <td>W</td>\n      <td>2.0</td>\n      <td>0.0</td>\n      <td>Monza</td>\n      <td>...</td>\n      <td>Match Report</td>\n      <td>NaN</td>\n      <td>22.0</td>\n      <td>3.0</td>\n      <td>17.2</td>\n      <td>1.0</td>\n      <td>0</td>\n      <td>0</td>\n      <td>2024</td>\n      <td>Internazionale</td>\n    </tr>\n    <tr>\n      <th>1</th>\n      <td>2023-08-28</td>\n      <td>20:45</td>\n      <td>Serie A</td>\n      <td>Matchweek 2</td>\n      <td>Mon</td>\n      <td>Away</td>\n      <td>W</td>\n      <td>2.0</td>\n      <td>0.0</td>\n      <td>Cagliari</td>\n      <td>...</td>\n      <td>Match Report</td>\n      <td>NaN</td>\n      <td>17.0</td>\n      <td>3.0</td>\n      <td>15.9</td>\n      <td>0.0</td>\n      <td>0</td>\n      <td>0</td>\n      <td>2024</td>\n      <td>Internazionale</td>\n    </tr>\n    <tr>\n      <th>2</th>\n      <td>2023-09-03</td>\n      <td>18:30</td>\n      <td>Serie A</td>\n      <td>Matchweek 3</td>\n      <td>Sun</td>\n      <td>Home</td>\n      <td>W</td>\n      <td>4.0</td>\n      <td>0.0</td>\n      <td>Fiorentina</td>\n      <td>...</td>\n      <td>Match Report</td>\n      <td>NaN</td>\n      <td>20.0</td>\n      <td>10.0</td>\n      <td>14.5</td>\n      <td>1.0</td>\n      <td>1</td>\n      <td>1</td>\n      <td>2024</td>\n      <td>Internazionale</td>\n    </tr>\n    <tr>\n      <th>3</th>\n      <td>2023-09-16</td>\n      <td>18:00</td>\n      <td>Serie A</td>\n      <td>Matchweek 4</td>\n      <td>Sat</td>\n      <td>Home</td>\n      <td>W</td>\n      <td>5.0</td>\n      <td>1.0</td>\n      <td>Milan</td>\n      <td>...</td>\n      <td>Match Report</td>\n      <td>NaN</td>\n      <td>13.0</td>\n      <td>6.0</td>\n      <td>15.2</td>\n      <td>1.0</td>\n      <td>1</td>\n      <td>1</td>\n      <td>2024</td>\n      <td>Internazionale</td>\n    </tr>\n    <tr>\n      <th>5</th>\n      <td>2023-09-24</td>\n      <td>12:30</td>\n      <td>Serie A</td>\n      <td>Matchweek 5</td>\n      <td>Sun</td>\n      <td>Away</td>\n      <td>W</td>\n      <td>1.0</td>\n      <td>0.0</td>\n      <td>Empoli</td>\n      <td>...</td>\n      <td>Match Report</td>\n      <td>NaN</td>\n      <td>23.0</td>\n      <td>5.0</td>\n      <td>16.8</td>\n      <td>0.0</td>\n      <td>0</td>\n      <td>0</td>\n      <td>2024</td>\n      <td>Internazionale</td>\n    </tr>\n    <tr>\n      <th>...</th>\n      <td>...</td>\n      <td>...</td>\n      <td>...</td>\n      <td>...</td>\n      <td>...</td>\n      <td>...</td>\n      <td>...</td>\n      <td>...</td>\n      <td>...</td>\n      <td>...</td>\n      <td>...</td>\n      <td>...</td>\n      <td>...</td>\n      <td>...</td>\n      <td>...</td>\n      <td>...</td>\n      <td>...</td>\n      <td>...</td>\n      <td>...</td>\n      <td>...</td>\n      <td>...</td>\n    </tr>\n    <tr>\n      <th>9</th>\n      <td>2023-10-22</td>\n      <td>15:00</td>\n      <td>Serie A</td>\n      <td>Matchweek 9</td>\n      <td>Sun</td>\n      <td>Home</td>\n      <td>D</td>\n      <td>2.0</td>\n      <td>2.0</td>\n      <td>Cagliari</td>\n      <td>...</td>\n      <td>Match Report</td>\n      <td>NaN</td>\n      <td>12.0</td>\n      <td>1.0</td>\n      <td>19.4</td>\n      <td>0.0</td>\n      <td>1</td>\n      <td>1</td>\n      <td>2024</td>\n      <td>Salernitana</td>\n    </tr>\n    <tr>\n      <th>10</th>\n      <td>2023-10-27</td>\n      <td>20:45</td>\n      <td>Serie A</td>\n      <td>Matchweek 10</td>\n      <td>Fri</td>\n      <td>Away</td>\n      <td>L</td>\n      <td>0.0</td>\n      <td>1.0</td>\n      <td>Genoa</td>\n      <td>...</td>\n      <td>Match Report</td>\n      <td>NaN</td>\n      <td>7.0</td>\n      <td>2.0</td>\n      <td>21.3</td>\n      <td>1.0</td>\n      <td>0</td>\n      <td>0</td>\n      <td>2024</td>\n      <td>Salernitana</td>\n    </tr>\n    <tr>\n      <th>12</th>\n      <td>2023-11-04</td>\n      <td>15:00</td>\n      <td>Serie A</td>\n      <td>Matchweek 11</td>\n      <td>Sat</td>\n      <td>Home</td>\n      <td>L</td>\n      <td>0.0</td>\n      <td>2.0</td>\n      <td>Napoli</td>\n      <td>...</td>\n      <td>Match Report</td>\n      <td>NaN</td>\n      <td>10.0</td>\n      <td>3.0</td>\n      <td>18.8</td>\n      <td>0.0</td>\n      <td>0</td>\n      <td>0</td>\n      <td>2024</td>\n      <td>Salernitana</td>\n    </tr>\n    <tr>\n      <th>13</th>\n      <td>2023-11-10</td>\n      <td>18:30</td>\n      <td>Serie A</td>\n      <td>Matchweek 12</td>\n      <td>Fri</td>\n      <td>Away</td>\n      <td>D</td>\n      <td>2.0</td>\n      <td>2.0</td>\n      <td>Sassuolo</td>\n      <td>...</td>\n      <td>Match Report</td>\n      <td>NaN</td>\n      <td>9.0</td>\n      <td>2.0</td>\n      <td>23.2</td>\n      <td>1.0</td>\n      <td>0</td>\n      <td>0</td>\n      <td>2024</td>\n      <td>Salernitana</td>\n    </tr>\n    <tr>\n      <th>14</th>\n      <td>2023-11-25</td>\n      <td>15:00</td>\n      <td>Serie A</td>\n      <td>Matchweek 13</td>\n      <td>Sat</td>\n      <td>Home</td>\n      <td>W</td>\n      <td>2.0</td>\n      <td>1.0</td>\n      <td>Lazio</td>\n      <td>...</td>\n      <td>Match Report</td>\n      <td>NaN</td>\n      <td>13.0</td>\n      <td>6.0</td>\n      <td>19.0</td>\n      <td>0.0</td>\n      <td>0</td>\n      <td>0</td>\n      <td>2024</td>\n      <td>Salernitana</td>\n    </tr>\n  </tbody>\n</table>\n<p>260 rows × 27 columns</p>\n</div>"
     },
     "execution_count": 95,
     "metadata": {},
     "output_type": "execute_result"
    }
   ],
   "source": [
    "match_df"
   ]
  },
  {
   "cell_type": "code",
   "execution_count": 96,
   "id": "7f4108d6",
   "metadata": {
    "ExecuteTime": {
     "end_time": "2023-11-29T13:20:19.469488300Z",
     "start_time": "2023-11-29T13:20:19.458095300Z"
    }
   },
   "outputs": [],
   "source": [
    "match_df.to_csv(\"Premier_matches.csv\")"
   ]
  },
  {
   "cell_type": "code",
   "execution_count": null,
   "id": "e151d37b",
   "metadata": {},
   "outputs": [],
   "source": []
  }
 ],
 "metadata": {
  "kernelspec": {
   "display_name": "Python 3 (ipykernel)",
   "language": "python",
   "name": "python3"
  },
  "language_info": {
   "codemirror_mode": {
    "name": "ipython",
    "version": 3
   },
   "file_extension": ".py",
   "mimetype": "text/x-python",
   "name": "python",
   "nbconvert_exporter": "python",
   "pygments_lexer": "ipython3",
   "version": "3.11.5"
  }
 },
 "nbformat": 4,
 "nbformat_minor": 5
}
