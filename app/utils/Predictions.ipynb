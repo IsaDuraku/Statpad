{
 "cells": [
  {
   "cell_type": "code",
   "execution_count": 22,
   "id": "6b44198f",
   "metadata": {
    "ExecuteTime": {
     "end_time": "2023-12-01T14:23:19.364870900Z",
     "start_time": "2023-12-01T14:23:19.332311700Z"
    }
   },
   "outputs": [],
   "source": [
    "import pandas as pd"
   ]
  },
  {
   "cell_type": "code",
   "execution_count": 31,
   "id": "2ea8fddc",
   "metadata": {
    "ExecuteTime": {
     "end_time": "2023-12-01T14:25:37.590037600Z",
     "start_time": "2023-12-01T14:25:37.531988400Z"
    }
   },
   "outputs": [],
   "source": [
    "matches = pd.read_csv(\"all_matches.csv\",index_col=0)"
   ]
  },
  {
   "cell_type": "code",
   "execution_count": 32,
   "id": "bfe3ece1",
   "metadata": {
    "ExecuteTime": {
     "end_time": "2023-12-01T14:25:38.038066500Z",
     "start_time": "2023-12-01T14:25:38.021774500Z"
    }
   },
   "outputs": [
    {
     "data": {
      "text/plain": "           date   time        comp        round  day venue result  gf  ga  \\\nNaN  2023-08-19  15:30  Bundesliga  Matchweek 1  Sat  Home      W   3   2   \nNaN  2023-08-26  18:30  Bundesliga  Matchweek 2  Sat  Away      W   3   0   \nNaN  2023-09-02  15:30  Bundesliga  Matchweek 3  Sat  Home      W   5   1   \nNaN  2023-09-15  20:30  Bundesliga  Matchweek 4  Fri  Away      D   2   2   \nNaN  2023-09-24  15:30  Bundesliga  Matchweek 5  Sun  Home      W   4   1   \n\n          opponent  ...  match report  notes  sh  sot  dist   fk pk pkatt  \\\nNaN     RB Leipzig  ...  Match Report    NaN  11    7  19.0  0.0  0     0   \nNaN     M'Gladbach  ...  Match Report    NaN  24   11  15.8  0.0  0     0   \nNaN   Darmstadt 98  ...  Match Report    NaN  25   13  17.3  1.0  0     0   \nNaN  Bayern Munich  ...  Match Report    NaN  12    4  20.7  1.0  1     1   \nNaN     Heidenheim  ...  Match Report    NaN  20    9  16.7  0.0  1     1   \n\n    season              team  \nNaN   2024  Bayer Leverkusen  \nNaN   2024  Bayer Leverkusen  \nNaN   2024  Bayer Leverkusen  \nNaN   2024  Bayer Leverkusen  \nNaN   2024  Bayer Leverkusen  \n\n[5 rows x 27 columns]",
      "text/html": "<div>\n<style scoped>\n    .dataframe tbody tr th:only-of-type {\n        vertical-align: middle;\n    }\n\n    .dataframe tbody tr th {\n        vertical-align: top;\n    }\n\n    .dataframe thead th {\n        text-align: right;\n    }\n</style>\n<table border=\"1\" class=\"dataframe\">\n  <thead>\n    <tr style=\"text-align: right;\">\n      <th></th>\n      <th>date</th>\n      <th>time</th>\n      <th>comp</th>\n      <th>round</th>\n      <th>day</th>\n      <th>venue</th>\n      <th>result</th>\n      <th>gf</th>\n      <th>ga</th>\n      <th>opponent</th>\n      <th>...</th>\n      <th>match report</th>\n      <th>notes</th>\n      <th>sh</th>\n      <th>sot</th>\n      <th>dist</th>\n      <th>fk</th>\n      <th>pk</th>\n      <th>pkatt</th>\n      <th>season</th>\n      <th>team</th>\n    </tr>\n  </thead>\n  <tbody>\n    <tr>\n      <th>NaN</th>\n      <td>2023-08-19</td>\n      <td>15:30</td>\n      <td>Bundesliga</td>\n      <td>Matchweek 1</td>\n      <td>Sat</td>\n      <td>Home</td>\n      <td>W</td>\n      <td>3</td>\n      <td>2</td>\n      <td>RB Leipzig</td>\n      <td>...</td>\n      <td>Match Report</td>\n      <td>NaN</td>\n      <td>11</td>\n      <td>7</td>\n      <td>19.0</td>\n      <td>0.0</td>\n      <td>0</td>\n      <td>0</td>\n      <td>2024</td>\n      <td>Bayer Leverkusen</td>\n    </tr>\n    <tr>\n      <th>NaN</th>\n      <td>2023-08-26</td>\n      <td>18:30</td>\n      <td>Bundesliga</td>\n      <td>Matchweek 2</td>\n      <td>Sat</td>\n      <td>Away</td>\n      <td>W</td>\n      <td>3</td>\n      <td>0</td>\n      <td>M'Gladbach</td>\n      <td>...</td>\n      <td>Match Report</td>\n      <td>NaN</td>\n      <td>24</td>\n      <td>11</td>\n      <td>15.8</td>\n      <td>0.0</td>\n      <td>0</td>\n      <td>0</td>\n      <td>2024</td>\n      <td>Bayer Leverkusen</td>\n    </tr>\n    <tr>\n      <th>NaN</th>\n      <td>2023-09-02</td>\n      <td>15:30</td>\n      <td>Bundesliga</td>\n      <td>Matchweek 3</td>\n      <td>Sat</td>\n      <td>Home</td>\n      <td>W</td>\n      <td>5</td>\n      <td>1</td>\n      <td>Darmstadt 98</td>\n      <td>...</td>\n      <td>Match Report</td>\n      <td>NaN</td>\n      <td>25</td>\n      <td>13</td>\n      <td>17.3</td>\n      <td>1.0</td>\n      <td>0</td>\n      <td>0</td>\n      <td>2024</td>\n      <td>Bayer Leverkusen</td>\n    </tr>\n    <tr>\n      <th>NaN</th>\n      <td>2023-09-15</td>\n      <td>20:30</td>\n      <td>Bundesliga</td>\n      <td>Matchweek 4</td>\n      <td>Fri</td>\n      <td>Away</td>\n      <td>D</td>\n      <td>2</td>\n      <td>2</td>\n      <td>Bayern Munich</td>\n      <td>...</td>\n      <td>Match Report</td>\n      <td>NaN</td>\n      <td>12</td>\n      <td>4</td>\n      <td>20.7</td>\n      <td>1.0</td>\n      <td>1</td>\n      <td>1</td>\n      <td>2024</td>\n      <td>Bayer Leverkusen</td>\n    </tr>\n    <tr>\n      <th>NaN</th>\n      <td>2023-09-24</td>\n      <td>15:30</td>\n      <td>Bundesliga</td>\n      <td>Matchweek 5</td>\n      <td>Sun</td>\n      <td>Home</td>\n      <td>W</td>\n      <td>4</td>\n      <td>1</td>\n      <td>Heidenheim</td>\n      <td>...</td>\n      <td>Match Report</td>\n      <td>NaN</td>\n      <td>20</td>\n      <td>9</td>\n      <td>16.7</td>\n      <td>0.0</td>\n      <td>1</td>\n      <td>1</td>\n      <td>2024</td>\n      <td>Bayer Leverkusen</td>\n    </tr>\n  </tbody>\n</table>\n<p>5 rows × 27 columns</p>\n</div>"
     },
     "execution_count": 32,
     "metadata": {},
     "output_type": "execute_result"
    }
   ],
   "source": [
    "matches.head()"
   ]
  },
  {
   "cell_type": "code",
   "execution_count": 33,
   "id": "5e1e5d63",
   "metadata": {
    "ExecuteTime": {
     "end_time": "2023-12-01T14:25:42.002249600Z",
     "start_time": "2023-12-01T14:25:41.997866600Z"
    }
   },
   "outputs": [
    {
     "data": {
      "text/plain": "(19304, 27)"
     },
     "execution_count": 33,
     "metadata": {},
     "output_type": "execute_result"
    }
   ],
   "source": [
    "matches.shape"
   ]
  },
  {
   "cell_type": "code",
   "execution_count": 33,
   "id": "95075f0e",
   "metadata": {
    "ExecuteTime": {
     "end_time": "2023-12-01T14:25:42.873918300Z",
     "start_time": "2023-12-01T14:25:42.868317700Z"
    }
   },
   "outputs": [],
   "source": []
  },
  {
   "cell_type": "code",
   "execution_count": 33,
   "id": "b484fe7d",
   "metadata": {
    "ExecuteTime": {
     "end_time": "2023-12-01T14:25:43.208687500Z",
     "start_time": "2023-12-01T14:25:43.203660Z"
    }
   },
   "outputs": [],
   "source": []
  },
  {
   "cell_type": "code",
   "execution_count": 34,
   "id": "ba948d8c",
   "metadata": {
    "ExecuteTime": {
     "end_time": "2023-12-01T14:25:43.941922400Z",
     "start_time": "2023-12-01T14:25:43.935586900Z"
    }
   },
   "outputs": [
    {
     "data": {
      "text/plain": "team\nReal Madrid      204\nBarcelona        204\nAthletic Club    204\nReal Sociedad    204\nReal Betis       204\n                ... \nLas Palmas        14\nLuton Town        13\nLe Havre          13\nHeidenheim        12\nDarmstadt 98      12\nName: count, Length: 140, dtype: int64"
     },
     "execution_count": 34,
     "metadata": {},
     "output_type": "execute_result"
    }
   ],
   "source": [
    "matches[\"team\"].value_counts()"
   ]
  },
  {
   "cell_type": "code",
   "execution_count": 35,
   "id": "d6e7397b",
   "metadata": {
    "ExecuteTime": {
     "end_time": "2023-12-01T14:25:44.784678600Z",
     "start_time": "2023-12-01T14:25:44.764212900Z"
    }
   },
   "outputs": [
    {
     "data": {
      "text/plain": "round\nMatchweek 1               586\nMatchweek 6               586\nMatchweek 9               586\nMatchweek 8               586\nMatchweek 7               586\nMatchweek 11              586\nMatchweek 5               586\nMatchweek 3               586\nMatchweek 2               586\nMatchweek 4               584\nMatchweek 10              584\nMatchweek 12              584\nMatchweek 13              568\nMatchweek 14              510\nMatchweek 22              490\nMatchweek 27              490\nMatchweek 26              490\nMatchweek 25              490\nMatchweek 24              490\nMatchweek 23              490\nMatchweek 20              490\nMatchweek 21              490\nMatchweek 18              490\nMatchweek 17              490\nMatchweek 16              490\nMatchweek 15              490\nMatchweek 19              490\nMatchweek 28              488\nMatchweek 32              470\nMatchweek 34              470\nMatchweek 33              470\nMatchweek 31              470\nMatchweek 30              470\nMatchweek 29              470\nMatchweek 35              380\nMatchweek 36              380\nMatchweek 37              380\nMatchweek 38              380\nRelegation tie-breaker      2\nName: count, dtype: int64"
     },
     "execution_count": 35,
     "metadata": {},
     "output_type": "execute_result"
    }
   ],
   "source": [
    "matches[\"round\"].value_counts()"
   ]
  },
  {
   "cell_type": "code",
   "execution_count": 36,
   "id": "0da54122",
   "metadata": {
    "ExecuteTime": {
     "end_time": "2023-12-01T14:25:45.281348100Z",
     "start_time": "2023-12-01T14:25:45.274956500Z"
    }
   },
   "outputs": [
    {
     "data": {
      "text/plain": "date             object\ntime             object\ncomp             object\nround            object\nday              object\nvenue            object\nresult           object\ngf                int64\nga                int64\nopponent         object\nxg              float64\nxga             float64\nposs              int64\nattendance      float64\ncaptain          object\nformation        object\nreferee          object\nmatch report     object\nnotes            object\nsh                int64\nsot               int64\ndist            float64\nfk              float64\npk                int64\npkatt             int64\nseason           object\nteam             object\ndtype: object"
     },
     "execution_count": 36,
     "metadata": {},
     "output_type": "execute_result"
    }
   ],
   "source": [
    "matches.dtypes"
   ]
  },
  {
   "cell_type": "code",
   "execution_count": 37,
   "id": "821d9365",
   "metadata": {
    "ExecuteTime": {
     "end_time": "2023-12-01T14:25:45.912535100Z",
     "start_time": "2023-12-01T14:25:45.903493Z"
    }
   },
   "outputs": [],
   "source": [
    "matches[\"date\"] = pd.to_datetime(matches[\"date\"])"
   ]
  },
  {
   "cell_type": "code",
   "execution_count": 38,
   "id": "84a5292e",
   "metadata": {
    "ExecuteTime": {
     "end_time": "2023-12-01T14:25:47.066723Z",
     "start_time": "2023-12-01T14:25:47.034958700Z"
    }
   },
   "outputs": [
    {
     "data": {
      "text/plain": "date            datetime64[ns]\ntime                    object\ncomp                    object\nround                   object\nday                     object\nvenue                   object\nresult                  object\ngf                       int64\nga                       int64\nopponent                object\nxg                     float64\nxga                    float64\nposs                     int64\nattendance             float64\ncaptain                 object\nformation               object\nreferee                 object\nmatch report            object\nnotes                   object\nsh                       int64\nsot                      int64\ndist                   float64\nfk                     float64\npk                       int64\npkatt                    int64\nseason                  object\nteam                    object\ndtype: object"
     },
     "execution_count": 38,
     "metadata": {},
     "output_type": "execute_result"
    }
   ],
   "source": [
    "matches.dtypes"
   ]
  },
  {
   "cell_type": "code",
   "execution_count": 7,
   "id": "398f80c3",
   "metadata": {
    "ExecuteTime": {
     "end_time": "2023-12-01T14:22:09.438607100Z",
     "start_time": "2023-12-01T14:22:09.432679200Z"
    }
   },
   "outputs": [],
   "source": [
    "matches[\"venue_code\"] = matches[\"venue\"].astype(\"category\").cat.codes"
   ]
  },
  {
   "cell_type": "code",
   "execution_count": 8,
   "id": "3af30c28",
   "metadata": {
    "ExecuteTime": {
     "end_time": "2023-12-01T14:22:10.130453700Z",
     "start_time": "2023-12-01T14:22:10.097664200Z"
    }
   },
   "outputs": [
    {
     "data": {
      "text/plain": "             time        comp         round  day venue result  gf  ga  \\\ndate                                                                    \n2023-08-19  15:30  Bundesliga   Matchweek 1  Sat  Home      W   3   2   \n2023-08-26  18:30  Bundesliga   Matchweek 2  Sat  Away      W   3   0   \n2023-09-02  15:30  Bundesliga   Matchweek 3  Sat  Home      W   5   1   \n2023-09-15  20:30  Bundesliga   Matchweek 4  Fri  Away      D   2   2   \n2023-09-24  15:30  Bundesliga   Matchweek 5  Sun  Home      W   4   1   \n...           ...         ...           ...  ...   ...    ...  ..  ..   \n2019-04-28  15:00     Ligue 1  Matchweek 34  Sun  Away      L   0   3   \n2019-05-04  20:00     Ligue 1  Matchweek 35  Sat  Home      D   0   0   \n2019-05-12  15:00     Ligue 1  Matchweek 36  Sun  Away      D   1   1   \n2019-05-18  21:00     Ligue 1  Matchweek 37  Sat  Home      D   2   2   \n2019-05-24  21:05     Ligue 1  Matchweek 38  Fri  Away      L   1   2   \n\n                 opponent   xg  ...  notes  sh  sot  dist   fk pk pkatt  \\\ndate                            ...                                       \n2023-08-19     RB Leipzig  1.4  ...    NaN  11    7  19.0  0.0  0     0   \n2023-08-26     M'Gladbach  2.7  ...    NaN  24   11  15.8  0.0  0     0   \n2023-09-02   Darmstadt 98  2.8  ...    NaN  25   13  17.3  1.0  0     0   \n2023-09-15  Bayern Munich  2.1  ...    NaN  12    4  20.7  1.0  1     1   \n2023-09-24     Heidenheim  3.4  ...    NaN  20    9  16.7  0.0  1     1   \n...                   ...  ...  ...    ...  ..  ...   ...  ... ..   ...   \n2019-04-28           Nice  0.8  ...    NaN  13    3  21.4  1.0  0     0   \n2019-05-04           Caen  0.5  ...    NaN  10    1  20.0  0.0  0     0   \n2019-05-12         Rennes  2.7  ...    NaN  22    8  17.1  0.0  0     1   \n2019-05-18          Nîmes  2.9  ...    NaN  19    9  16.2  0.0  0     0   \n2019-05-24         Amiens  1.1  ...    NaN  16    4  22.9  0.0  0     0   \n\n            season              team  venue_code  \ndate                                              \n2023-08-19    2024  Bayer Leverkusen           1  \n2023-08-26    2024  Bayer Leverkusen           0  \n2023-09-02    2024  Bayer Leverkusen           1  \n2023-09-15    2024  Bayer Leverkusen           0  \n2023-09-24    2024  Bayer Leverkusen           1  \n...            ...               ...         ...  \n2019-04-28  string          Guingamp           0  \n2019-05-04  string          Guingamp           1  \n2019-05-12  string          Guingamp           0  \n2019-05-18  string          Guingamp           1  \n2019-05-24  string          Guingamp           0  \n\n[19304 rows x 27 columns]",
      "text/html": "<div>\n<style scoped>\n    .dataframe tbody tr th:only-of-type {\n        vertical-align: middle;\n    }\n\n    .dataframe tbody tr th {\n        vertical-align: top;\n    }\n\n    .dataframe thead th {\n        text-align: right;\n    }\n</style>\n<table border=\"1\" class=\"dataframe\">\n  <thead>\n    <tr style=\"text-align: right;\">\n      <th></th>\n      <th>time</th>\n      <th>comp</th>\n      <th>round</th>\n      <th>day</th>\n      <th>venue</th>\n      <th>result</th>\n      <th>gf</th>\n      <th>ga</th>\n      <th>opponent</th>\n      <th>xg</th>\n      <th>...</th>\n      <th>notes</th>\n      <th>sh</th>\n      <th>sot</th>\n      <th>dist</th>\n      <th>fk</th>\n      <th>pk</th>\n      <th>pkatt</th>\n      <th>season</th>\n      <th>team</th>\n      <th>venue_code</th>\n    </tr>\n    <tr>\n      <th>date</th>\n      <th></th>\n      <th></th>\n      <th></th>\n      <th></th>\n      <th></th>\n      <th></th>\n      <th></th>\n      <th></th>\n      <th></th>\n      <th></th>\n      <th></th>\n      <th></th>\n      <th></th>\n      <th></th>\n      <th></th>\n      <th></th>\n      <th></th>\n      <th></th>\n      <th></th>\n      <th></th>\n      <th></th>\n    </tr>\n  </thead>\n  <tbody>\n    <tr>\n      <th>2023-08-19</th>\n      <td>15:30</td>\n      <td>Bundesliga</td>\n      <td>Matchweek 1</td>\n      <td>Sat</td>\n      <td>Home</td>\n      <td>W</td>\n      <td>3</td>\n      <td>2</td>\n      <td>RB Leipzig</td>\n      <td>1.4</td>\n      <td>...</td>\n      <td>NaN</td>\n      <td>11</td>\n      <td>7</td>\n      <td>19.0</td>\n      <td>0.0</td>\n      <td>0</td>\n      <td>0</td>\n      <td>2024</td>\n      <td>Bayer Leverkusen</td>\n      <td>1</td>\n    </tr>\n    <tr>\n      <th>2023-08-26</th>\n      <td>18:30</td>\n      <td>Bundesliga</td>\n      <td>Matchweek 2</td>\n      <td>Sat</td>\n      <td>Away</td>\n      <td>W</td>\n      <td>3</td>\n      <td>0</td>\n      <td>M'Gladbach</td>\n      <td>2.7</td>\n      <td>...</td>\n      <td>NaN</td>\n      <td>24</td>\n      <td>11</td>\n      <td>15.8</td>\n      <td>0.0</td>\n      <td>0</td>\n      <td>0</td>\n      <td>2024</td>\n      <td>Bayer Leverkusen</td>\n      <td>0</td>\n    </tr>\n    <tr>\n      <th>2023-09-02</th>\n      <td>15:30</td>\n      <td>Bundesliga</td>\n      <td>Matchweek 3</td>\n      <td>Sat</td>\n      <td>Home</td>\n      <td>W</td>\n      <td>5</td>\n      <td>1</td>\n      <td>Darmstadt 98</td>\n      <td>2.8</td>\n      <td>...</td>\n      <td>NaN</td>\n      <td>25</td>\n      <td>13</td>\n      <td>17.3</td>\n      <td>1.0</td>\n      <td>0</td>\n      <td>0</td>\n      <td>2024</td>\n      <td>Bayer Leverkusen</td>\n      <td>1</td>\n    </tr>\n    <tr>\n      <th>2023-09-15</th>\n      <td>20:30</td>\n      <td>Bundesliga</td>\n      <td>Matchweek 4</td>\n      <td>Fri</td>\n      <td>Away</td>\n      <td>D</td>\n      <td>2</td>\n      <td>2</td>\n      <td>Bayern Munich</td>\n      <td>2.1</td>\n      <td>...</td>\n      <td>NaN</td>\n      <td>12</td>\n      <td>4</td>\n      <td>20.7</td>\n      <td>1.0</td>\n      <td>1</td>\n      <td>1</td>\n      <td>2024</td>\n      <td>Bayer Leverkusen</td>\n      <td>0</td>\n    </tr>\n    <tr>\n      <th>2023-09-24</th>\n      <td>15:30</td>\n      <td>Bundesliga</td>\n      <td>Matchweek 5</td>\n      <td>Sun</td>\n      <td>Home</td>\n      <td>W</td>\n      <td>4</td>\n      <td>1</td>\n      <td>Heidenheim</td>\n      <td>3.4</td>\n      <td>...</td>\n      <td>NaN</td>\n      <td>20</td>\n      <td>9</td>\n      <td>16.7</td>\n      <td>0.0</td>\n      <td>1</td>\n      <td>1</td>\n      <td>2024</td>\n      <td>Bayer Leverkusen</td>\n      <td>1</td>\n    </tr>\n    <tr>\n      <th>...</th>\n      <td>...</td>\n      <td>...</td>\n      <td>...</td>\n      <td>...</td>\n      <td>...</td>\n      <td>...</td>\n      <td>...</td>\n      <td>...</td>\n      <td>...</td>\n      <td>...</td>\n      <td>...</td>\n      <td>...</td>\n      <td>...</td>\n      <td>...</td>\n      <td>...</td>\n      <td>...</td>\n      <td>...</td>\n      <td>...</td>\n      <td>...</td>\n      <td>...</td>\n      <td>...</td>\n    </tr>\n    <tr>\n      <th>2019-04-28</th>\n      <td>15:00</td>\n      <td>Ligue 1</td>\n      <td>Matchweek 34</td>\n      <td>Sun</td>\n      <td>Away</td>\n      <td>L</td>\n      <td>0</td>\n      <td>3</td>\n      <td>Nice</td>\n      <td>0.8</td>\n      <td>...</td>\n      <td>NaN</td>\n      <td>13</td>\n      <td>3</td>\n      <td>21.4</td>\n      <td>1.0</td>\n      <td>0</td>\n      <td>0</td>\n      <td>string</td>\n      <td>Guingamp</td>\n      <td>0</td>\n    </tr>\n    <tr>\n      <th>2019-05-04</th>\n      <td>20:00</td>\n      <td>Ligue 1</td>\n      <td>Matchweek 35</td>\n      <td>Sat</td>\n      <td>Home</td>\n      <td>D</td>\n      <td>0</td>\n      <td>0</td>\n      <td>Caen</td>\n      <td>0.5</td>\n      <td>...</td>\n      <td>NaN</td>\n      <td>10</td>\n      <td>1</td>\n      <td>20.0</td>\n      <td>0.0</td>\n      <td>0</td>\n      <td>0</td>\n      <td>string</td>\n      <td>Guingamp</td>\n      <td>1</td>\n    </tr>\n    <tr>\n      <th>2019-05-12</th>\n      <td>15:00</td>\n      <td>Ligue 1</td>\n      <td>Matchweek 36</td>\n      <td>Sun</td>\n      <td>Away</td>\n      <td>D</td>\n      <td>1</td>\n      <td>1</td>\n      <td>Rennes</td>\n      <td>2.7</td>\n      <td>...</td>\n      <td>NaN</td>\n      <td>22</td>\n      <td>8</td>\n      <td>17.1</td>\n      <td>0.0</td>\n      <td>0</td>\n      <td>1</td>\n      <td>string</td>\n      <td>Guingamp</td>\n      <td>0</td>\n    </tr>\n    <tr>\n      <th>2019-05-18</th>\n      <td>21:00</td>\n      <td>Ligue 1</td>\n      <td>Matchweek 37</td>\n      <td>Sat</td>\n      <td>Home</td>\n      <td>D</td>\n      <td>2</td>\n      <td>2</td>\n      <td>Nîmes</td>\n      <td>2.9</td>\n      <td>...</td>\n      <td>NaN</td>\n      <td>19</td>\n      <td>9</td>\n      <td>16.2</td>\n      <td>0.0</td>\n      <td>0</td>\n      <td>0</td>\n      <td>string</td>\n      <td>Guingamp</td>\n      <td>1</td>\n    </tr>\n    <tr>\n      <th>2019-05-24</th>\n      <td>21:05</td>\n      <td>Ligue 1</td>\n      <td>Matchweek 38</td>\n      <td>Fri</td>\n      <td>Away</td>\n      <td>L</td>\n      <td>1</td>\n      <td>2</td>\n      <td>Amiens</td>\n      <td>1.1</td>\n      <td>...</td>\n      <td>NaN</td>\n      <td>16</td>\n      <td>4</td>\n      <td>22.9</td>\n      <td>0.0</td>\n      <td>0</td>\n      <td>0</td>\n      <td>string</td>\n      <td>Guingamp</td>\n      <td>0</td>\n    </tr>\n  </tbody>\n</table>\n<p>19304 rows × 27 columns</p>\n</div>"
     },
     "execution_count": 8,
     "metadata": {},
     "output_type": "execute_result"
    }
   ],
   "source": [
    "matches"
   ]
  },
  {
   "cell_type": "code",
   "execution_count": 9,
   "id": "18b03c79",
   "metadata": {
    "ExecuteTime": {
     "end_time": "2023-12-01T14:22:14.395770100Z",
     "start_time": "2023-12-01T14:22:14.390580100Z"
    }
   },
   "outputs": [],
   "source": [
    "matches[\"opp_code\"] = matches[\"opponent\"].astype(\"category\").cat.codes"
   ]
  },
  {
   "cell_type": "code",
   "execution_count": 10,
   "id": "fe65ceb7",
   "metadata": {
    "ExecuteTime": {
     "end_time": "2023-12-01T14:22:14.923781200Z",
     "start_time": "2023-12-01T14:22:14.902950800Z"
    }
   },
   "outputs": [
    {
     "data": {
      "text/plain": "             time        comp         round  day venue result  gf  ga  \\\ndate                                                                    \n2023-08-19  15:30  Bundesliga   Matchweek 1  Sat  Home      W   3   2   \n2023-08-26  18:30  Bundesliga   Matchweek 2  Sat  Away      W   3   0   \n2023-09-02  15:30  Bundesliga   Matchweek 3  Sat  Home      W   5   1   \n2023-09-15  20:30  Bundesliga   Matchweek 4  Fri  Away      D   2   2   \n2023-09-24  15:30  Bundesliga   Matchweek 5  Sun  Home      W   4   1   \n...           ...         ...           ...  ...   ...    ...  ..  ..   \n2019-04-28  15:00     Ligue 1  Matchweek 34  Sun  Away      L   0   3   \n2019-05-04  20:00     Ligue 1  Matchweek 35  Sat  Home      D   0   0   \n2019-05-12  15:00     Ligue 1  Matchweek 36  Sun  Away      D   1   1   \n2019-05-18  21:00     Ligue 1  Matchweek 37  Sat  Home      D   2   2   \n2019-05-24  21:05     Ligue 1  Matchweek 38  Fri  Away      L   1   2   \n\n                 opponent   xg  ...  sh  sot  dist   fk pk pkatt  season  \\\ndate                            ...                                        \n2023-08-19     RB Leipzig  1.4  ...  11    7  19.0  0.0  0     0    2024   \n2023-08-26     M'Gladbach  2.7  ...  24   11  15.8  0.0  0     0    2024   \n2023-09-02   Darmstadt 98  2.8  ...  25   13  17.3  1.0  0     0    2024   \n2023-09-15  Bayern Munich  2.1  ...  12    4  20.7  1.0  1     1    2024   \n2023-09-24     Heidenheim  3.4  ...  20    9  16.7  0.0  1     1    2024   \n...                   ...  ...  ...  ..  ...   ...  ... ..   ...     ...   \n2019-04-28           Nice  0.8  ...  13    3  21.4  1.0  0     0  string   \n2019-05-04           Caen  0.5  ...  10    1  20.0  0.0  0     0  string   \n2019-05-12         Rennes  2.7  ...  22    8  17.1  0.0  0     1  string   \n2019-05-18          Nîmes  2.9  ...  19    9  16.2  0.0  0     0  string   \n2019-05-24         Amiens  1.1  ...  16    4  22.9  0.0  0     0  string   \n\n                        team  venue_code  opp_code  \ndate                                                \n2023-08-19  Bayer Leverkusen           1       105  \n2023-08-26  Bayer Leverkusen           0        82  \n2023-09-02  Bayer Leverkusen           1        37  \n2023-09-15  Bayer Leverkusen           0        14  \n2023-09-24  Bayer Leverkusen           1        58  \n...                      ...         ...       ...  \n2019-04-28          Guingamp           0        96  \n2019-05-04          Guingamp           1        26  \n2019-05-12          Guingamp           0       110  \n2019-05-18          Guingamp           1        99  \n2019-05-24          Guingamp           0         3  \n\n[19304 rows x 28 columns]",
      "text/html": "<div>\n<style scoped>\n    .dataframe tbody tr th:only-of-type {\n        vertical-align: middle;\n    }\n\n    .dataframe tbody tr th {\n        vertical-align: top;\n    }\n\n    .dataframe thead th {\n        text-align: right;\n    }\n</style>\n<table border=\"1\" class=\"dataframe\">\n  <thead>\n    <tr style=\"text-align: right;\">\n      <th></th>\n      <th>time</th>\n      <th>comp</th>\n      <th>round</th>\n      <th>day</th>\n      <th>venue</th>\n      <th>result</th>\n      <th>gf</th>\n      <th>ga</th>\n      <th>opponent</th>\n      <th>xg</th>\n      <th>...</th>\n      <th>sh</th>\n      <th>sot</th>\n      <th>dist</th>\n      <th>fk</th>\n      <th>pk</th>\n      <th>pkatt</th>\n      <th>season</th>\n      <th>team</th>\n      <th>venue_code</th>\n      <th>opp_code</th>\n    </tr>\n    <tr>\n      <th>date</th>\n      <th></th>\n      <th></th>\n      <th></th>\n      <th></th>\n      <th></th>\n      <th></th>\n      <th></th>\n      <th></th>\n      <th></th>\n      <th></th>\n      <th></th>\n      <th></th>\n      <th></th>\n      <th></th>\n      <th></th>\n      <th></th>\n      <th></th>\n      <th></th>\n      <th></th>\n      <th></th>\n      <th></th>\n    </tr>\n  </thead>\n  <tbody>\n    <tr>\n      <th>2023-08-19</th>\n      <td>15:30</td>\n      <td>Bundesliga</td>\n      <td>Matchweek 1</td>\n      <td>Sat</td>\n      <td>Home</td>\n      <td>W</td>\n      <td>3</td>\n      <td>2</td>\n      <td>RB Leipzig</td>\n      <td>1.4</td>\n      <td>...</td>\n      <td>11</td>\n      <td>7</td>\n      <td>19.0</td>\n      <td>0.0</td>\n      <td>0</td>\n      <td>0</td>\n      <td>2024</td>\n      <td>Bayer Leverkusen</td>\n      <td>1</td>\n      <td>105</td>\n    </tr>\n    <tr>\n      <th>2023-08-26</th>\n      <td>18:30</td>\n      <td>Bundesliga</td>\n      <td>Matchweek 2</td>\n      <td>Sat</td>\n      <td>Away</td>\n      <td>W</td>\n      <td>3</td>\n      <td>0</td>\n      <td>M'Gladbach</td>\n      <td>2.7</td>\n      <td>...</td>\n      <td>24</td>\n      <td>11</td>\n      <td>15.8</td>\n      <td>0.0</td>\n      <td>0</td>\n      <td>0</td>\n      <td>2024</td>\n      <td>Bayer Leverkusen</td>\n      <td>0</td>\n      <td>82</td>\n    </tr>\n    <tr>\n      <th>2023-09-02</th>\n      <td>15:30</td>\n      <td>Bundesliga</td>\n      <td>Matchweek 3</td>\n      <td>Sat</td>\n      <td>Home</td>\n      <td>W</td>\n      <td>5</td>\n      <td>1</td>\n      <td>Darmstadt 98</td>\n      <td>2.8</td>\n      <td>...</td>\n      <td>25</td>\n      <td>13</td>\n      <td>17.3</td>\n      <td>1.0</td>\n      <td>0</td>\n      <td>0</td>\n      <td>2024</td>\n      <td>Bayer Leverkusen</td>\n      <td>1</td>\n      <td>37</td>\n    </tr>\n    <tr>\n      <th>2023-09-15</th>\n      <td>20:30</td>\n      <td>Bundesliga</td>\n      <td>Matchweek 4</td>\n      <td>Fri</td>\n      <td>Away</td>\n      <td>D</td>\n      <td>2</td>\n      <td>2</td>\n      <td>Bayern Munich</td>\n      <td>2.1</td>\n      <td>...</td>\n      <td>12</td>\n      <td>4</td>\n      <td>20.7</td>\n      <td>1.0</td>\n      <td>1</td>\n      <td>1</td>\n      <td>2024</td>\n      <td>Bayer Leverkusen</td>\n      <td>0</td>\n      <td>14</td>\n    </tr>\n    <tr>\n      <th>2023-09-24</th>\n      <td>15:30</td>\n      <td>Bundesliga</td>\n      <td>Matchweek 5</td>\n      <td>Sun</td>\n      <td>Home</td>\n      <td>W</td>\n      <td>4</td>\n      <td>1</td>\n      <td>Heidenheim</td>\n      <td>3.4</td>\n      <td>...</td>\n      <td>20</td>\n      <td>9</td>\n      <td>16.7</td>\n      <td>0.0</td>\n      <td>1</td>\n      <td>1</td>\n      <td>2024</td>\n      <td>Bayer Leverkusen</td>\n      <td>1</td>\n      <td>58</td>\n    </tr>\n    <tr>\n      <th>...</th>\n      <td>...</td>\n      <td>...</td>\n      <td>...</td>\n      <td>...</td>\n      <td>...</td>\n      <td>...</td>\n      <td>...</td>\n      <td>...</td>\n      <td>...</td>\n      <td>...</td>\n      <td>...</td>\n      <td>...</td>\n      <td>...</td>\n      <td>...</td>\n      <td>...</td>\n      <td>...</td>\n      <td>...</td>\n      <td>...</td>\n      <td>...</td>\n      <td>...</td>\n      <td>...</td>\n    </tr>\n    <tr>\n      <th>2019-04-28</th>\n      <td>15:00</td>\n      <td>Ligue 1</td>\n      <td>Matchweek 34</td>\n      <td>Sun</td>\n      <td>Away</td>\n      <td>L</td>\n      <td>0</td>\n      <td>3</td>\n      <td>Nice</td>\n      <td>0.8</td>\n      <td>...</td>\n      <td>13</td>\n      <td>3</td>\n      <td>21.4</td>\n      <td>1.0</td>\n      <td>0</td>\n      <td>0</td>\n      <td>string</td>\n      <td>Guingamp</td>\n      <td>0</td>\n      <td>96</td>\n    </tr>\n    <tr>\n      <th>2019-05-04</th>\n      <td>20:00</td>\n      <td>Ligue 1</td>\n      <td>Matchweek 35</td>\n      <td>Sat</td>\n      <td>Home</td>\n      <td>D</td>\n      <td>0</td>\n      <td>0</td>\n      <td>Caen</td>\n      <td>0.5</td>\n      <td>...</td>\n      <td>10</td>\n      <td>1</td>\n      <td>20.0</td>\n      <td>0.0</td>\n      <td>0</td>\n      <td>0</td>\n      <td>string</td>\n      <td>Guingamp</td>\n      <td>1</td>\n      <td>26</td>\n    </tr>\n    <tr>\n      <th>2019-05-12</th>\n      <td>15:00</td>\n      <td>Ligue 1</td>\n      <td>Matchweek 36</td>\n      <td>Sun</td>\n      <td>Away</td>\n      <td>D</td>\n      <td>1</td>\n      <td>1</td>\n      <td>Rennes</td>\n      <td>2.7</td>\n      <td>...</td>\n      <td>22</td>\n      <td>8</td>\n      <td>17.1</td>\n      <td>0.0</td>\n      <td>0</td>\n      <td>1</td>\n      <td>string</td>\n      <td>Guingamp</td>\n      <td>0</td>\n      <td>110</td>\n    </tr>\n    <tr>\n      <th>2019-05-18</th>\n      <td>21:00</td>\n      <td>Ligue 1</td>\n      <td>Matchweek 37</td>\n      <td>Sat</td>\n      <td>Home</td>\n      <td>D</td>\n      <td>2</td>\n      <td>2</td>\n      <td>Nîmes</td>\n      <td>2.9</td>\n      <td>...</td>\n      <td>19</td>\n      <td>9</td>\n      <td>16.2</td>\n      <td>0.0</td>\n      <td>0</td>\n      <td>0</td>\n      <td>string</td>\n      <td>Guingamp</td>\n      <td>1</td>\n      <td>99</td>\n    </tr>\n    <tr>\n      <th>2019-05-24</th>\n      <td>21:05</td>\n      <td>Ligue 1</td>\n      <td>Matchweek 38</td>\n      <td>Fri</td>\n      <td>Away</td>\n      <td>L</td>\n      <td>1</td>\n      <td>2</td>\n      <td>Amiens</td>\n      <td>1.1</td>\n      <td>...</td>\n      <td>16</td>\n      <td>4</td>\n      <td>22.9</td>\n      <td>0.0</td>\n      <td>0</td>\n      <td>0</td>\n      <td>string</td>\n      <td>Guingamp</td>\n      <td>0</td>\n      <td>3</td>\n    </tr>\n  </tbody>\n</table>\n<p>19304 rows × 28 columns</p>\n</div>"
     },
     "execution_count": 10,
     "metadata": {},
     "output_type": "execute_result"
    }
   ],
   "source": [
    "matches"
   ]
  },
  {
   "cell_type": "code",
   "execution_count": 11,
   "id": "78ffbe9c",
   "metadata": {
    "ExecuteTime": {
     "end_time": "2023-12-01T14:22:16.526738700Z",
     "start_time": "2023-12-01T14:22:16.508195Z"
    }
   },
   "outputs": [],
   "source": [
    "matches[\"hour\"] = matches[\"time\"].str.replace(\":.+\", \"\", regex=True).astype(\"int\")"
   ]
  },
  {
   "cell_type": "code",
   "execution_count": 12,
   "id": "b2f08a58",
   "metadata": {
    "ExecuteTime": {
     "end_time": "2023-12-01T14:22:17.729853400Z",
     "start_time": "2023-12-01T14:22:17.081267100Z"
    }
   },
   "outputs": [
    {
     "ename": "KeyError",
     "evalue": "'date'",
     "output_type": "error",
     "traceback": [
      "\u001B[1;31m---------------------------------------------------------------------------\u001B[0m",
      "\u001B[1;31mKeyError\u001B[0m                                  Traceback (most recent call last)",
      "File \u001B[1;32m~\\PycharmProjects\\teamproject\\venv\\Lib\\site-packages\\pandas\\core\\indexes\\base.py:3790\u001B[0m, in \u001B[0;36mIndex.get_loc\u001B[1;34m(self, key)\u001B[0m\n\u001B[0;32m   3789\u001B[0m \u001B[38;5;28;01mtry\u001B[39;00m:\n\u001B[1;32m-> 3790\u001B[0m     \u001B[38;5;28;01mreturn\u001B[39;00m \u001B[38;5;28;43mself\u001B[39;49m\u001B[38;5;241;43m.\u001B[39;49m\u001B[43m_engine\u001B[49m\u001B[38;5;241;43m.\u001B[39;49m\u001B[43mget_loc\u001B[49m\u001B[43m(\u001B[49m\u001B[43mcasted_key\u001B[49m\u001B[43m)\u001B[49m\n\u001B[0;32m   3791\u001B[0m \u001B[38;5;28;01mexcept\u001B[39;00m \u001B[38;5;167;01mKeyError\u001B[39;00m \u001B[38;5;28;01mas\u001B[39;00m err:\n",
      "File \u001B[1;32mindex.pyx:152\u001B[0m, in \u001B[0;36mpandas._libs.index.IndexEngine.get_loc\u001B[1;34m()\u001B[0m\n",
      "File \u001B[1;32mindex.pyx:181\u001B[0m, in \u001B[0;36mpandas._libs.index.IndexEngine.get_loc\u001B[1;34m()\u001B[0m\n",
      "File \u001B[1;32mpandas\\_libs\\hashtable_class_helper.pxi:7080\u001B[0m, in \u001B[0;36mpandas._libs.hashtable.PyObjectHashTable.get_item\u001B[1;34m()\u001B[0m\n",
      "File \u001B[1;32mpandas\\_libs\\hashtable_class_helper.pxi:7088\u001B[0m, in \u001B[0;36mpandas._libs.hashtable.PyObjectHashTable.get_item\u001B[1;34m()\u001B[0m\n",
      "\u001B[1;31mKeyError\u001B[0m: 'date'",
      "\nThe above exception was the direct cause of the following exception:\n",
      "\u001B[1;31mKeyError\u001B[0m                                  Traceback (most recent call last)",
      "Cell \u001B[1;32mIn[12], line 1\u001B[0m\n\u001B[1;32m----> 1\u001B[0m matches[\u001B[38;5;124m\"\u001B[39m\u001B[38;5;124mday_code\u001B[39m\u001B[38;5;124m\"\u001B[39m] \u001B[38;5;241m=\u001B[39m \u001B[43mmatches\u001B[49m\u001B[43m[\u001B[49m\u001B[38;5;124;43m\"\u001B[39;49m\u001B[38;5;124;43mdate\u001B[39;49m\u001B[38;5;124;43m\"\u001B[39;49m\u001B[43m]\u001B[49m\u001B[38;5;241m.\u001B[39mdt\u001B[38;5;241m.\u001B[39mdayofweek\n",
      "File \u001B[1;32m~\\PycharmProjects\\teamproject\\venv\\Lib\\site-packages\\pandas\\core\\frame.py:3893\u001B[0m, in \u001B[0;36mDataFrame.__getitem__\u001B[1;34m(self, key)\u001B[0m\n\u001B[0;32m   3891\u001B[0m \u001B[38;5;28;01mif\u001B[39;00m \u001B[38;5;28mself\u001B[39m\u001B[38;5;241m.\u001B[39mcolumns\u001B[38;5;241m.\u001B[39mnlevels \u001B[38;5;241m>\u001B[39m \u001B[38;5;241m1\u001B[39m:\n\u001B[0;32m   3892\u001B[0m     \u001B[38;5;28;01mreturn\u001B[39;00m \u001B[38;5;28mself\u001B[39m\u001B[38;5;241m.\u001B[39m_getitem_multilevel(key)\n\u001B[1;32m-> 3893\u001B[0m indexer \u001B[38;5;241m=\u001B[39m \u001B[38;5;28;43mself\u001B[39;49m\u001B[38;5;241;43m.\u001B[39;49m\u001B[43mcolumns\u001B[49m\u001B[38;5;241;43m.\u001B[39;49m\u001B[43mget_loc\u001B[49m\u001B[43m(\u001B[49m\u001B[43mkey\u001B[49m\u001B[43m)\u001B[49m\n\u001B[0;32m   3894\u001B[0m \u001B[38;5;28;01mif\u001B[39;00m is_integer(indexer):\n\u001B[0;32m   3895\u001B[0m     indexer \u001B[38;5;241m=\u001B[39m [indexer]\n",
      "File \u001B[1;32m~\\PycharmProjects\\teamproject\\venv\\Lib\\site-packages\\pandas\\core\\indexes\\base.py:3797\u001B[0m, in \u001B[0;36mIndex.get_loc\u001B[1;34m(self, key)\u001B[0m\n\u001B[0;32m   3792\u001B[0m     \u001B[38;5;28;01mif\u001B[39;00m \u001B[38;5;28misinstance\u001B[39m(casted_key, \u001B[38;5;28mslice\u001B[39m) \u001B[38;5;129;01mor\u001B[39;00m (\n\u001B[0;32m   3793\u001B[0m         \u001B[38;5;28misinstance\u001B[39m(casted_key, abc\u001B[38;5;241m.\u001B[39mIterable)\n\u001B[0;32m   3794\u001B[0m         \u001B[38;5;129;01mand\u001B[39;00m \u001B[38;5;28many\u001B[39m(\u001B[38;5;28misinstance\u001B[39m(x, \u001B[38;5;28mslice\u001B[39m) \u001B[38;5;28;01mfor\u001B[39;00m x \u001B[38;5;129;01min\u001B[39;00m casted_key)\n\u001B[0;32m   3795\u001B[0m     ):\n\u001B[0;32m   3796\u001B[0m         \u001B[38;5;28;01mraise\u001B[39;00m InvalidIndexError(key)\n\u001B[1;32m-> 3797\u001B[0m     \u001B[38;5;28;01mraise\u001B[39;00m \u001B[38;5;167;01mKeyError\u001B[39;00m(key) \u001B[38;5;28;01mfrom\u001B[39;00m \u001B[38;5;21;01merr\u001B[39;00m\n\u001B[0;32m   3798\u001B[0m \u001B[38;5;28;01mexcept\u001B[39;00m \u001B[38;5;167;01mTypeError\u001B[39;00m:\n\u001B[0;32m   3799\u001B[0m     \u001B[38;5;66;03m# If we have a listlike key, _check_indexing_error will raise\u001B[39;00m\n\u001B[0;32m   3800\u001B[0m     \u001B[38;5;66;03m#  InvalidIndexError. Otherwise we fall through and re-raise\u001B[39;00m\n\u001B[0;32m   3801\u001B[0m     \u001B[38;5;66;03m#  the TypeError.\u001B[39;00m\n\u001B[0;32m   3802\u001B[0m     \u001B[38;5;28mself\u001B[39m\u001B[38;5;241m.\u001B[39m_check_indexing_error(key)\n",
      "\u001B[1;31mKeyError\u001B[0m: 'date'"
     ]
    }
   ],
   "source": [
    "matches[\"day_code\"] = matches[\"date\"].dt.dayofweek"
   ]
  },
  {
   "cell_type": "code",
   "execution_count": 13,
   "id": "f2d09037",
   "metadata": {
    "ExecuteTime": {
     "end_time": "2023-12-01T14:22:17.916959Z",
     "start_time": "2023-12-01T14:22:17.892623700Z"
    }
   },
   "outputs": [
    {
     "data": {
      "text/plain": "             time        comp         round  day venue result  gf  ga  \\\ndate                                                                    \n2023-08-19  15:30  Bundesliga   Matchweek 1  Sat  Home      W   3   2   \n2023-08-26  18:30  Bundesliga   Matchweek 2  Sat  Away      W   3   0   \n2023-09-02  15:30  Bundesliga   Matchweek 3  Sat  Home      W   5   1   \n2023-09-15  20:30  Bundesliga   Matchweek 4  Fri  Away      D   2   2   \n2023-09-24  15:30  Bundesliga   Matchweek 5  Sun  Home      W   4   1   \n...           ...         ...           ...  ...   ...    ...  ..  ..   \n2019-04-28  15:00     Ligue 1  Matchweek 34  Sun  Away      L   0   3   \n2019-05-04  20:00     Ligue 1  Matchweek 35  Sat  Home      D   0   0   \n2019-05-12  15:00     Ligue 1  Matchweek 36  Sun  Away      D   1   1   \n2019-05-18  21:00     Ligue 1  Matchweek 37  Sat  Home      D   2   2   \n2019-05-24  21:05     Ligue 1  Matchweek 38  Fri  Away      L   1   2   \n\n                 opponent   xg  ...  sot  dist   fk pk pkatt  season  \\\ndate                            ...                                    \n2023-08-19     RB Leipzig  1.4  ...    7  19.0  0.0  0     0    2024   \n2023-08-26     M'Gladbach  2.7  ...   11  15.8  0.0  0     0    2024   \n2023-09-02   Darmstadt 98  2.8  ...   13  17.3  1.0  0     0    2024   \n2023-09-15  Bayern Munich  2.1  ...    4  20.7  1.0  1     1    2024   \n2023-09-24     Heidenheim  3.4  ...    9  16.7  0.0  1     1    2024   \n...                   ...  ...  ...  ...   ...  ... ..   ...     ...   \n2019-04-28           Nice  0.8  ...    3  21.4  1.0  0     0  string   \n2019-05-04           Caen  0.5  ...    1  20.0  0.0  0     0  string   \n2019-05-12         Rennes  2.7  ...    8  17.1  0.0  0     1  string   \n2019-05-18          Nîmes  2.9  ...    9  16.2  0.0  0     0  string   \n2019-05-24         Amiens  1.1  ...    4  22.9  0.0  0     0  string   \n\n                        team venue_code  opp_code  hour  \ndate                                                     \n2023-08-19  Bayer Leverkusen          1       105    15  \n2023-08-26  Bayer Leverkusen          0        82    18  \n2023-09-02  Bayer Leverkusen          1        37    15  \n2023-09-15  Bayer Leverkusen          0        14    20  \n2023-09-24  Bayer Leverkusen          1        58    15  \n...                      ...        ...       ...   ...  \n2019-04-28          Guingamp          0        96    15  \n2019-05-04          Guingamp          1        26    20  \n2019-05-12          Guingamp          0       110    15  \n2019-05-18          Guingamp          1        99    21  \n2019-05-24          Guingamp          0         3    21  \n\n[19304 rows x 29 columns]",
      "text/html": "<div>\n<style scoped>\n    .dataframe tbody tr th:only-of-type {\n        vertical-align: middle;\n    }\n\n    .dataframe tbody tr th {\n        vertical-align: top;\n    }\n\n    .dataframe thead th {\n        text-align: right;\n    }\n</style>\n<table border=\"1\" class=\"dataframe\">\n  <thead>\n    <tr style=\"text-align: right;\">\n      <th></th>\n      <th>time</th>\n      <th>comp</th>\n      <th>round</th>\n      <th>day</th>\n      <th>venue</th>\n      <th>result</th>\n      <th>gf</th>\n      <th>ga</th>\n      <th>opponent</th>\n      <th>xg</th>\n      <th>...</th>\n      <th>sot</th>\n      <th>dist</th>\n      <th>fk</th>\n      <th>pk</th>\n      <th>pkatt</th>\n      <th>season</th>\n      <th>team</th>\n      <th>venue_code</th>\n      <th>opp_code</th>\n      <th>hour</th>\n    </tr>\n    <tr>\n      <th>date</th>\n      <th></th>\n      <th></th>\n      <th></th>\n      <th></th>\n      <th></th>\n      <th></th>\n      <th></th>\n      <th></th>\n      <th></th>\n      <th></th>\n      <th></th>\n      <th></th>\n      <th></th>\n      <th></th>\n      <th></th>\n      <th></th>\n      <th></th>\n      <th></th>\n      <th></th>\n      <th></th>\n      <th></th>\n    </tr>\n  </thead>\n  <tbody>\n    <tr>\n      <th>2023-08-19</th>\n      <td>15:30</td>\n      <td>Bundesliga</td>\n      <td>Matchweek 1</td>\n      <td>Sat</td>\n      <td>Home</td>\n      <td>W</td>\n      <td>3</td>\n      <td>2</td>\n      <td>RB Leipzig</td>\n      <td>1.4</td>\n      <td>...</td>\n      <td>7</td>\n      <td>19.0</td>\n      <td>0.0</td>\n      <td>0</td>\n      <td>0</td>\n      <td>2024</td>\n      <td>Bayer Leverkusen</td>\n      <td>1</td>\n      <td>105</td>\n      <td>15</td>\n    </tr>\n    <tr>\n      <th>2023-08-26</th>\n      <td>18:30</td>\n      <td>Bundesliga</td>\n      <td>Matchweek 2</td>\n      <td>Sat</td>\n      <td>Away</td>\n      <td>W</td>\n      <td>3</td>\n      <td>0</td>\n      <td>M'Gladbach</td>\n      <td>2.7</td>\n      <td>...</td>\n      <td>11</td>\n      <td>15.8</td>\n      <td>0.0</td>\n      <td>0</td>\n      <td>0</td>\n      <td>2024</td>\n      <td>Bayer Leverkusen</td>\n      <td>0</td>\n      <td>82</td>\n      <td>18</td>\n    </tr>\n    <tr>\n      <th>2023-09-02</th>\n      <td>15:30</td>\n      <td>Bundesliga</td>\n      <td>Matchweek 3</td>\n      <td>Sat</td>\n      <td>Home</td>\n      <td>W</td>\n      <td>5</td>\n      <td>1</td>\n      <td>Darmstadt 98</td>\n      <td>2.8</td>\n      <td>...</td>\n      <td>13</td>\n      <td>17.3</td>\n      <td>1.0</td>\n      <td>0</td>\n      <td>0</td>\n      <td>2024</td>\n      <td>Bayer Leverkusen</td>\n      <td>1</td>\n      <td>37</td>\n      <td>15</td>\n    </tr>\n    <tr>\n      <th>2023-09-15</th>\n      <td>20:30</td>\n      <td>Bundesliga</td>\n      <td>Matchweek 4</td>\n      <td>Fri</td>\n      <td>Away</td>\n      <td>D</td>\n      <td>2</td>\n      <td>2</td>\n      <td>Bayern Munich</td>\n      <td>2.1</td>\n      <td>...</td>\n      <td>4</td>\n      <td>20.7</td>\n      <td>1.0</td>\n      <td>1</td>\n      <td>1</td>\n      <td>2024</td>\n      <td>Bayer Leverkusen</td>\n      <td>0</td>\n      <td>14</td>\n      <td>20</td>\n    </tr>\n    <tr>\n      <th>2023-09-24</th>\n      <td>15:30</td>\n      <td>Bundesliga</td>\n      <td>Matchweek 5</td>\n      <td>Sun</td>\n      <td>Home</td>\n      <td>W</td>\n      <td>4</td>\n      <td>1</td>\n      <td>Heidenheim</td>\n      <td>3.4</td>\n      <td>...</td>\n      <td>9</td>\n      <td>16.7</td>\n      <td>0.0</td>\n      <td>1</td>\n      <td>1</td>\n      <td>2024</td>\n      <td>Bayer Leverkusen</td>\n      <td>1</td>\n      <td>58</td>\n      <td>15</td>\n    </tr>\n    <tr>\n      <th>...</th>\n      <td>...</td>\n      <td>...</td>\n      <td>...</td>\n      <td>...</td>\n      <td>...</td>\n      <td>...</td>\n      <td>...</td>\n      <td>...</td>\n      <td>...</td>\n      <td>...</td>\n      <td>...</td>\n      <td>...</td>\n      <td>...</td>\n      <td>...</td>\n      <td>...</td>\n      <td>...</td>\n      <td>...</td>\n      <td>...</td>\n      <td>...</td>\n      <td>...</td>\n      <td>...</td>\n    </tr>\n    <tr>\n      <th>2019-04-28</th>\n      <td>15:00</td>\n      <td>Ligue 1</td>\n      <td>Matchweek 34</td>\n      <td>Sun</td>\n      <td>Away</td>\n      <td>L</td>\n      <td>0</td>\n      <td>3</td>\n      <td>Nice</td>\n      <td>0.8</td>\n      <td>...</td>\n      <td>3</td>\n      <td>21.4</td>\n      <td>1.0</td>\n      <td>0</td>\n      <td>0</td>\n      <td>string</td>\n      <td>Guingamp</td>\n      <td>0</td>\n      <td>96</td>\n      <td>15</td>\n    </tr>\n    <tr>\n      <th>2019-05-04</th>\n      <td>20:00</td>\n      <td>Ligue 1</td>\n      <td>Matchweek 35</td>\n      <td>Sat</td>\n      <td>Home</td>\n      <td>D</td>\n      <td>0</td>\n      <td>0</td>\n      <td>Caen</td>\n      <td>0.5</td>\n      <td>...</td>\n      <td>1</td>\n      <td>20.0</td>\n      <td>0.0</td>\n      <td>0</td>\n      <td>0</td>\n      <td>string</td>\n      <td>Guingamp</td>\n      <td>1</td>\n      <td>26</td>\n      <td>20</td>\n    </tr>\n    <tr>\n      <th>2019-05-12</th>\n      <td>15:00</td>\n      <td>Ligue 1</td>\n      <td>Matchweek 36</td>\n      <td>Sun</td>\n      <td>Away</td>\n      <td>D</td>\n      <td>1</td>\n      <td>1</td>\n      <td>Rennes</td>\n      <td>2.7</td>\n      <td>...</td>\n      <td>8</td>\n      <td>17.1</td>\n      <td>0.0</td>\n      <td>0</td>\n      <td>1</td>\n      <td>string</td>\n      <td>Guingamp</td>\n      <td>0</td>\n      <td>110</td>\n      <td>15</td>\n    </tr>\n    <tr>\n      <th>2019-05-18</th>\n      <td>21:00</td>\n      <td>Ligue 1</td>\n      <td>Matchweek 37</td>\n      <td>Sat</td>\n      <td>Home</td>\n      <td>D</td>\n      <td>2</td>\n      <td>2</td>\n      <td>Nîmes</td>\n      <td>2.9</td>\n      <td>...</td>\n      <td>9</td>\n      <td>16.2</td>\n      <td>0.0</td>\n      <td>0</td>\n      <td>0</td>\n      <td>string</td>\n      <td>Guingamp</td>\n      <td>1</td>\n      <td>99</td>\n      <td>21</td>\n    </tr>\n    <tr>\n      <th>2019-05-24</th>\n      <td>21:05</td>\n      <td>Ligue 1</td>\n      <td>Matchweek 38</td>\n      <td>Fri</td>\n      <td>Away</td>\n      <td>L</td>\n      <td>1</td>\n      <td>2</td>\n      <td>Amiens</td>\n      <td>1.1</td>\n      <td>...</td>\n      <td>4</td>\n      <td>22.9</td>\n      <td>0.0</td>\n      <td>0</td>\n      <td>0</td>\n      <td>string</td>\n      <td>Guingamp</td>\n      <td>0</td>\n      <td>3</td>\n      <td>21</td>\n    </tr>\n  </tbody>\n</table>\n<p>19304 rows × 29 columns</p>\n</div>"
     },
     "execution_count": 13,
     "metadata": {},
     "output_type": "execute_result"
    }
   ],
   "source": [
    "matches"
   ]
  },
  {
   "cell_type": "code",
   "execution_count": 18,
   "id": "fef7726b",
   "metadata": {
    "ExecuteTime": {
     "end_time": "2023-11-30T12:02:07.698428500Z",
     "start_time": "2023-11-30T12:02:07.693392Z"
    }
   },
   "outputs": [],
   "source": [
    "matches[\"target\"] = (matches[\"result\"] == \"W\").astype(\"int\")"
   ]
  },
  {
   "cell_type": "code",
   "execution_count": 20,
   "id": "a3aab1ca",
   "metadata": {
    "ExecuteTime": {
     "end_time": "2023-11-30T12:02:58.645532200Z",
     "start_time": "2023-11-30T12:02:58.625023100Z"
    }
   },
   "outputs": [
    {
     "data": {
      "text/plain": "         date   time            comp         round  day venue result  gf  ga  \\\n1  2023-08-11  20:00  Premier League   Matchweek 1  Fri  Away      W   3   0   \n3  2023-08-19  20:00  Premier League   Matchweek 2  Sat  Home      W   1   0   \n4  2023-08-27  14:00  Premier League   Matchweek 3  Sun  Away      W   2   1   \n5  2023-09-02  15:00  Premier League   Matchweek 4  Sat  Home      W   5   1   \n6  2023-09-16  15:00  Premier League   Matchweek 5  Sat  Away      W   3   1   \n..        ...    ...             ...           ...  ...   ...    ...  ..  ..   \n9  2023-10-22  15:00         Serie A   Matchweek 9  Sun  Home      D   2   2   \n10 2023-10-27  20:45         Serie A  Matchweek 10  Fri  Away      L   0   1   \n12 2023-11-04  15:00         Serie A  Matchweek 11  Sat  Home      L   0   2   \n13 2023-11-10  18:30         Serie A  Matchweek 12  Fri  Away      D   2   2   \n14 2023-11-25  15:00         Serie A  Matchweek 13  Sat  Home      W   2   1   \n\n            opponent  ...   fk  pk  pkatt  season             team venue_code  \\\n1            Burnley  ...  0.0   0      0    2023  Manchester City          0   \n3   Newcastle United  ...  0.0   0      0    2023  Manchester City          1   \n4   Sheffield United  ...  2.0   0      1    2023  Manchester City          0   \n5             Fulham  ...  0.0   1      1    2023  Manchester City          1   \n6           West Ham  ...  1.0   0      0    2023  Manchester City          0   \n..               ...  ...  ...  ..    ...     ...              ...        ...   \n9           Cagliari  ...  0.0   1      1    2024      Salernitana          1   \n10             Genoa  ...  1.0   0      0    2024      Salernitana          0   \n12            Napoli  ...  0.0   0      0    2024      Salernitana          1   \n13          Sassuolo  ...  1.0   0      0    2024      Salernitana          0   \n14             Lazio  ...  0.0   0      0    2024      Salernitana          1   \n\n   opp_code hour day_code  target  \n1        27   20        4       1  \n3        94   20        5       1  \n4       118   14        6       1  \n5        50   15        5       1  \n6       138   15        5       1  \n..      ...  ...      ...     ...  \n9        29   15        6       0  \n10       51   20        4       0  \n12       93   15        5       0  \n13      115   18        4       0  \n14       67   15        5       1  \n\n[13329 rows x 32 columns]",
      "text/html": "<div>\n<style scoped>\n    .dataframe tbody tr th:only-of-type {\n        vertical-align: middle;\n    }\n\n    .dataframe tbody tr th {\n        vertical-align: top;\n    }\n\n    .dataframe thead th {\n        text-align: right;\n    }\n</style>\n<table border=\"1\" class=\"dataframe\">\n  <thead>\n    <tr style=\"text-align: right;\">\n      <th></th>\n      <th>date</th>\n      <th>time</th>\n      <th>comp</th>\n      <th>round</th>\n      <th>day</th>\n      <th>venue</th>\n      <th>result</th>\n      <th>gf</th>\n      <th>ga</th>\n      <th>opponent</th>\n      <th>...</th>\n      <th>fk</th>\n      <th>pk</th>\n      <th>pkatt</th>\n      <th>season</th>\n      <th>team</th>\n      <th>venue_code</th>\n      <th>opp_code</th>\n      <th>hour</th>\n      <th>day_code</th>\n      <th>target</th>\n    </tr>\n  </thead>\n  <tbody>\n    <tr>\n      <th>1</th>\n      <td>2023-08-11</td>\n      <td>20:00</td>\n      <td>Premier League</td>\n      <td>Matchweek 1</td>\n      <td>Fri</td>\n      <td>Away</td>\n      <td>W</td>\n      <td>3</td>\n      <td>0</td>\n      <td>Burnley</td>\n      <td>...</td>\n      <td>0.0</td>\n      <td>0</td>\n      <td>0</td>\n      <td>2023</td>\n      <td>Manchester City</td>\n      <td>0</td>\n      <td>27</td>\n      <td>20</td>\n      <td>4</td>\n      <td>1</td>\n    </tr>\n    <tr>\n      <th>3</th>\n      <td>2023-08-19</td>\n      <td>20:00</td>\n      <td>Premier League</td>\n      <td>Matchweek 2</td>\n      <td>Sat</td>\n      <td>Home</td>\n      <td>W</td>\n      <td>1</td>\n      <td>0</td>\n      <td>Newcastle United</td>\n      <td>...</td>\n      <td>0.0</td>\n      <td>0</td>\n      <td>0</td>\n      <td>2023</td>\n      <td>Manchester City</td>\n      <td>1</td>\n      <td>94</td>\n      <td>20</td>\n      <td>5</td>\n      <td>1</td>\n    </tr>\n    <tr>\n      <th>4</th>\n      <td>2023-08-27</td>\n      <td>14:00</td>\n      <td>Premier League</td>\n      <td>Matchweek 3</td>\n      <td>Sun</td>\n      <td>Away</td>\n      <td>W</td>\n      <td>2</td>\n      <td>1</td>\n      <td>Sheffield United</td>\n      <td>...</td>\n      <td>2.0</td>\n      <td>0</td>\n      <td>1</td>\n      <td>2023</td>\n      <td>Manchester City</td>\n      <td>0</td>\n      <td>118</td>\n      <td>14</td>\n      <td>6</td>\n      <td>1</td>\n    </tr>\n    <tr>\n      <th>5</th>\n      <td>2023-09-02</td>\n      <td>15:00</td>\n      <td>Premier League</td>\n      <td>Matchweek 4</td>\n      <td>Sat</td>\n      <td>Home</td>\n      <td>W</td>\n      <td>5</td>\n      <td>1</td>\n      <td>Fulham</td>\n      <td>...</td>\n      <td>0.0</td>\n      <td>1</td>\n      <td>1</td>\n      <td>2023</td>\n      <td>Manchester City</td>\n      <td>1</td>\n      <td>50</td>\n      <td>15</td>\n      <td>5</td>\n      <td>1</td>\n    </tr>\n    <tr>\n      <th>6</th>\n      <td>2023-09-16</td>\n      <td>15:00</td>\n      <td>Premier League</td>\n      <td>Matchweek 5</td>\n      <td>Sat</td>\n      <td>Away</td>\n      <td>W</td>\n      <td>3</td>\n      <td>1</td>\n      <td>West Ham</td>\n      <td>...</td>\n      <td>1.0</td>\n      <td>0</td>\n      <td>0</td>\n      <td>2023</td>\n      <td>Manchester City</td>\n      <td>0</td>\n      <td>138</td>\n      <td>15</td>\n      <td>5</td>\n      <td>1</td>\n    </tr>\n    <tr>\n      <th>...</th>\n      <td>...</td>\n      <td>...</td>\n      <td>...</td>\n      <td>...</td>\n      <td>...</td>\n      <td>...</td>\n      <td>...</td>\n      <td>...</td>\n      <td>...</td>\n      <td>...</td>\n      <td>...</td>\n      <td>...</td>\n      <td>...</td>\n      <td>...</td>\n      <td>...</td>\n      <td>...</td>\n      <td>...</td>\n      <td>...</td>\n      <td>...</td>\n      <td>...</td>\n      <td>...</td>\n    </tr>\n    <tr>\n      <th>9</th>\n      <td>2023-10-22</td>\n      <td>15:00</td>\n      <td>Serie A</td>\n      <td>Matchweek 9</td>\n      <td>Sun</td>\n      <td>Home</td>\n      <td>D</td>\n      <td>2</td>\n      <td>2</td>\n      <td>Cagliari</td>\n      <td>...</td>\n      <td>0.0</td>\n      <td>1</td>\n      <td>1</td>\n      <td>2024</td>\n      <td>Salernitana</td>\n      <td>1</td>\n      <td>29</td>\n      <td>15</td>\n      <td>6</td>\n      <td>0</td>\n    </tr>\n    <tr>\n      <th>10</th>\n      <td>2023-10-27</td>\n      <td>20:45</td>\n      <td>Serie A</td>\n      <td>Matchweek 10</td>\n      <td>Fri</td>\n      <td>Away</td>\n      <td>L</td>\n      <td>0</td>\n      <td>1</td>\n      <td>Genoa</td>\n      <td>...</td>\n      <td>1.0</td>\n      <td>0</td>\n      <td>0</td>\n      <td>2024</td>\n      <td>Salernitana</td>\n      <td>0</td>\n      <td>51</td>\n      <td>20</td>\n      <td>4</td>\n      <td>0</td>\n    </tr>\n    <tr>\n      <th>12</th>\n      <td>2023-11-04</td>\n      <td>15:00</td>\n      <td>Serie A</td>\n      <td>Matchweek 11</td>\n      <td>Sat</td>\n      <td>Home</td>\n      <td>L</td>\n      <td>0</td>\n      <td>2</td>\n      <td>Napoli</td>\n      <td>...</td>\n      <td>0.0</td>\n      <td>0</td>\n      <td>0</td>\n      <td>2024</td>\n      <td>Salernitana</td>\n      <td>1</td>\n      <td>93</td>\n      <td>15</td>\n      <td>5</td>\n      <td>0</td>\n    </tr>\n    <tr>\n      <th>13</th>\n      <td>2023-11-10</td>\n      <td>18:30</td>\n      <td>Serie A</td>\n      <td>Matchweek 12</td>\n      <td>Fri</td>\n      <td>Away</td>\n      <td>D</td>\n      <td>2</td>\n      <td>2</td>\n      <td>Sassuolo</td>\n      <td>...</td>\n      <td>1.0</td>\n      <td>0</td>\n      <td>0</td>\n      <td>2024</td>\n      <td>Salernitana</td>\n      <td>0</td>\n      <td>115</td>\n      <td>18</td>\n      <td>4</td>\n      <td>0</td>\n    </tr>\n    <tr>\n      <th>14</th>\n      <td>2023-11-25</td>\n      <td>15:00</td>\n      <td>Serie A</td>\n      <td>Matchweek 13</td>\n      <td>Sat</td>\n      <td>Home</td>\n      <td>W</td>\n      <td>2</td>\n      <td>1</td>\n      <td>Lazio</td>\n      <td>...</td>\n      <td>0.0</td>\n      <td>0</td>\n      <td>0</td>\n      <td>2024</td>\n      <td>Salernitana</td>\n      <td>1</td>\n      <td>67</td>\n      <td>15</td>\n      <td>5</td>\n      <td>1</td>\n    </tr>\n  </tbody>\n</table>\n<p>13329 rows × 32 columns</p>\n</div>"
     },
     "execution_count": 20,
     "metadata": {},
     "output_type": "execute_result"
    }
   ],
   "source": [
    "matches"
   ]
  },
  {
   "cell_type": "code",
   "execution_count": 21,
   "id": "f3409759",
   "metadata": {
    "ExecuteTime": {
     "end_time": "2023-11-30T12:02:59.669586100Z",
     "start_time": "2023-11-30T12:02:59.255255300Z"
    }
   },
   "outputs": [],
   "source": [
    "from sklearn.ensemble import RandomForestClassifier"
   ]
  },
  {
   "cell_type": "code",
   "execution_count": 22,
   "id": "59c4c326",
   "metadata": {
    "ExecuteTime": {
     "end_time": "2023-11-30T12:02:59.679457300Z",
     "start_time": "2023-11-30T12:02:59.670875700Z"
    }
   },
   "outputs": [],
   "source": [
    "rf = RandomForestClassifier(n_estimators=550, min_samples_split=45, random_state=1)"
   ]
  },
  {
   "cell_type": "code",
   "execution_count": 24,
   "id": "b8575357",
   "metadata": {
    "ExecuteTime": {
     "end_time": "2023-11-30T12:03:04.209753700Z",
     "start_time": "2023-11-30T12:03:04.189937800Z"
    }
   },
   "outputs": [],
   "source": [
    "train = matches[matches[\"date\"] < '2024-11-11']"
   ]
  },
  {
   "cell_type": "code",
   "execution_count": 25,
   "id": "a8a1b98b",
   "metadata": {
    "ExecuteTime": {
     "end_time": "2023-11-30T12:03:04.538237200Z",
     "start_time": "2023-11-30T12:03:04.523636500Z"
    }
   },
   "outputs": [],
   "source": [
    "test = matches[matches[\"date\"] > '2020-01-01']"
   ]
  },
  {
   "cell_type": "code",
   "execution_count": 26,
   "id": "a7b3dcc4",
   "metadata": {
    "ExecuteTime": {
     "end_time": "2023-11-30T12:03:05.311150600Z",
     "start_time": "2023-11-30T12:03:05.304951700Z"
    }
   },
   "outputs": [],
   "source": [
    "predictors = [\"venue_code\", \"opp_code\",\"hour\", \"day_code\"]"
   ]
  },
  {
   "cell_type": "code",
   "execution_count": 27,
   "id": "0219176b",
   "metadata": {
    "ExecuteTime": {
     "end_time": "2023-11-30T12:03:09.173911600Z",
     "start_time": "2023-11-30T12:03:05.896163Z"
    }
   },
   "outputs": [
    {
     "data": {
      "text/plain": "RandomForestClassifier(min_samples_split=45, n_estimators=550, random_state=1)",
      "text/html": "<style>#sk-container-id-1 {color: black;}#sk-container-id-1 pre{padding: 0;}#sk-container-id-1 div.sk-toggleable {background-color: white;}#sk-container-id-1 label.sk-toggleable__label {cursor: pointer;display: block;width: 100%;margin-bottom: 0;padding: 0.3em;box-sizing: border-box;text-align: center;}#sk-container-id-1 label.sk-toggleable__label-arrow:before {content: \"▸\";float: left;margin-right: 0.25em;color: #696969;}#sk-container-id-1 label.sk-toggleable__label-arrow:hover:before {color: black;}#sk-container-id-1 div.sk-estimator:hover label.sk-toggleable__label-arrow:before {color: black;}#sk-container-id-1 div.sk-toggleable__content {max-height: 0;max-width: 0;overflow: hidden;text-align: left;background-color: #f0f8ff;}#sk-container-id-1 div.sk-toggleable__content pre {margin: 0.2em;color: black;border-radius: 0.25em;background-color: #f0f8ff;}#sk-container-id-1 input.sk-toggleable__control:checked~div.sk-toggleable__content {max-height: 200px;max-width: 100%;overflow: auto;}#sk-container-id-1 input.sk-toggleable__control:checked~label.sk-toggleable__label-arrow:before {content: \"▾\";}#sk-container-id-1 div.sk-estimator input.sk-toggleable__control:checked~label.sk-toggleable__label {background-color: #d4ebff;}#sk-container-id-1 div.sk-label input.sk-toggleable__control:checked~label.sk-toggleable__label {background-color: #d4ebff;}#sk-container-id-1 input.sk-hidden--visually {border: 0;clip: rect(1px 1px 1px 1px);clip: rect(1px, 1px, 1px, 1px);height: 1px;margin: -1px;overflow: hidden;padding: 0;position: absolute;width: 1px;}#sk-container-id-1 div.sk-estimator {font-family: monospace;background-color: #f0f8ff;border: 1px dotted black;border-radius: 0.25em;box-sizing: border-box;margin-bottom: 0.5em;}#sk-container-id-1 div.sk-estimator:hover {background-color: #d4ebff;}#sk-container-id-1 div.sk-parallel-item::after {content: \"\";width: 100%;border-bottom: 1px solid gray;flex-grow: 1;}#sk-container-id-1 div.sk-label:hover label.sk-toggleable__label {background-color: #d4ebff;}#sk-container-id-1 div.sk-serial::before {content: \"\";position: absolute;border-left: 1px solid gray;box-sizing: border-box;top: 0;bottom: 0;left: 50%;z-index: 0;}#sk-container-id-1 div.sk-serial {display: flex;flex-direction: column;align-items: center;background-color: white;padding-right: 0.2em;padding-left: 0.2em;position: relative;}#sk-container-id-1 div.sk-item {position: relative;z-index: 1;}#sk-container-id-1 div.sk-parallel {display: flex;align-items: stretch;justify-content: center;background-color: white;position: relative;}#sk-container-id-1 div.sk-item::before, #sk-container-id-1 div.sk-parallel-item::before {content: \"\";position: absolute;border-left: 1px solid gray;box-sizing: border-box;top: 0;bottom: 0;left: 50%;z-index: -1;}#sk-container-id-1 div.sk-parallel-item {display: flex;flex-direction: column;z-index: 1;position: relative;background-color: white;}#sk-container-id-1 div.sk-parallel-item:first-child::after {align-self: flex-end;width: 50%;}#sk-container-id-1 div.sk-parallel-item:last-child::after {align-self: flex-start;width: 50%;}#sk-container-id-1 div.sk-parallel-item:only-child::after {width: 0;}#sk-container-id-1 div.sk-dashed-wrapped {border: 1px dashed gray;margin: 0 0.4em 0.5em 0.4em;box-sizing: border-box;padding-bottom: 0.4em;background-color: white;}#sk-container-id-1 div.sk-label label {font-family: monospace;font-weight: bold;display: inline-block;line-height: 1.2em;}#sk-container-id-1 div.sk-label-container {text-align: center;}#sk-container-id-1 div.sk-container {/* jupyter's `normalize.less` sets `[hidden] { display: none; }` but bootstrap.min.css set `[hidden] { display: none !important; }` so we also need the `!important` here to be able to override the default hidden behavior on the sphinx rendered scikit-learn.org. See: https://github.com/scikit-learn/scikit-learn/issues/21755 */display: inline-block !important;position: relative;}#sk-container-id-1 div.sk-text-repr-fallback {display: none;}</style><div id=\"sk-container-id-1\" class=\"sk-top-container\"><div class=\"sk-text-repr-fallback\"><pre>RandomForestClassifier(min_samples_split=45, n_estimators=550, random_state=1)</pre><b>In a Jupyter environment, please rerun this cell to show the HTML representation or trust the notebook. <br />On GitHub, the HTML representation is unable to render, please try loading this page with nbviewer.org.</b></div><div class=\"sk-container\" hidden><div class=\"sk-item\"><div class=\"sk-estimator sk-toggleable\"><input class=\"sk-toggleable__control sk-hidden--visually\" id=\"sk-estimator-id-1\" type=\"checkbox\" checked><label for=\"sk-estimator-id-1\" class=\"sk-toggleable__label sk-toggleable__label-arrow\">RandomForestClassifier</label><div class=\"sk-toggleable__content\"><pre>RandomForestClassifier(min_samples_split=45, n_estimators=550, random_state=1)</pre></div></div></div></div></div>"
     },
     "execution_count": 27,
     "metadata": {},
     "output_type": "execute_result"
    }
   ],
   "source": [
    "rf.fit(train[predictors],train[\"target\"])"
   ]
  },
  {
   "cell_type": "code",
   "execution_count": 28,
   "id": "0f5f1c93",
   "metadata": {
    "ExecuteTime": {
     "end_time": "2023-11-30T12:03:09.847646300Z",
     "start_time": "2023-11-30T12:03:09.177103400Z"
    }
   },
   "outputs": [],
   "source": [
    "preds = rf.predict(test[predictors])"
   ]
  },
  {
   "cell_type": "code",
   "execution_count": 29,
   "id": "fcce16b3",
   "metadata": {
    "ExecuteTime": {
     "end_time": "2023-11-30T12:03:09.859775200Z",
     "start_time": "2023-11-30T12:03:09.849909700Z"
    }
   },
   "outputs": [],
   "source": [
    "from sklearn.metrics import accuracy_score"
   ]
  },
  {
   "cell_type": "code",
   "execution_count": 30,
   "id": "a8141608",
   "metadata": {
    "ExecuteTime": {
     "end_time": "2023-11-30T12:03:09.859775200Z",
     "start_time": "2023-11-30T12:03:09.853419900Z"
    }
   },
   "outputs": [],
   "source": [
    "acc = accuracy_score(test[\"target\"], preds)"
   ]
  },
  {
   "cell_type": "code",
   "execution_count": 31,
   "id": "7c4ec2c7",
   "metadata": {
    "ExecuteTime": {
     "end_time": "2023-11-30T12:03:09.863843600Z",
     "start_time": "2023-11-30T12:03:09.858775300Z"
    }
   },
   "outputs": [
    {
     "data": {
      "text/plain": "0.6975016880486158"
     },
     "execution_count": 31,
     "metadata": {},
     "output_type": "execute_result"
    }
   ],
   "source": [
    "acc"
   ]
  },
  {
   "cell_type": "code",
   "execution_count": 32,
   "id": "ebb0a486",
   "metadata": {
    "ExecuteTime": {
     "end_time": "2023-11-30T12:03:10.912055500Z",
     "start_time": "2023-11-30T12:03:10.906875100Z"
    }
   },
   "outputs": [],
   "source": [
    "combined = pd.DataFrame(dict(actual=test[\"target\"], prediction=preds))"
   ]
  },
  {
   "cell_type": "code",
   "execution_count": 33,
   "id": "d243e701",
   "metadata": {
    "ExecuteTime": {
     "end_time": "2023-11-30T12:03:11.713179300Z",
     "start_time": "2023-11-30T12:03:11.698808700Z"
    }
   },
   "outputs": [
    {
     "data": {
      "text/plain": "prediction     0     1\nactual                \n0           7586   739\n1           3293  1711",
      "text/html": "<div>\n<style scoped>\n    .dataframe tbody tr th:only-of-type {\n        vertical-align: middle;\n    }\n\n    .dataframe tbody tr th {\n        vertical-align: top;\n    }\n\n    .dataframe thead th {\n        text-align: right;\n    }\n</style>\n<table border=\"1\" class=\"dataframe\">\n  <thead>\n    <tr style=\"text-align: right;\">\n      <th>prediction</th>\n      <th>0</th>\n      <th>1</th>\n    </tr>\n    <tr>\n      <th>actual</th>\n      <th></th>\n      <th></th>\n    </tr>\n  </thead>\n  <tbody>\n    <tr>\n      <th>0</th>\n      <td>7586</td>\n      <td>739</td>\n    </tr>\n    <tr>\n      <th>1</th>\n      <td>3293</td>\n      <td>1711</td>\n    </tr>\n  </tbody>\n</table>\n</div>"
     },
     "execution_count": 33,
     "metadata": {},
     "output_type": "execute_result"
    }
   ],
   "source": [
    "pd.crosstab(index=combined[\"actual\"], columns=combined[\"prediction\"])"
   ]
  },
  {
   "cell_type": "code",
   "execution_count": 34,
   "id": "091c5ad8",
   "metadata": {
    "ExecuteTime": {
     "end_time": "2023-11-30T12:03:12.454420200Z",
     "start_time": "2023-11-30T12:03:12.444334900Z"
    }
   },
   "outputs": [],
   "source": [
    "from sklearn.metrics import precision_score"
   ]
  },
  {
   "cell_type": "code",
   "execution_count": 35,
   "id": "201b453d",
   "metadata": {
    "ExecuteTime": {
     "end_time": "2023-11-30T12:03:13.387720400Z",
     "start_time": "2023-11-30T12:03:13.370988500Z"
    }
   },
   "outputs": [
    {
     "data": {
      "text/plain": "0.6983673469387756"
     },
     "execution_count": 35,
     "metadata": {},
     "output_type": "execute_result"
    }
   ],
   "source": [
    "precision_score(test[\"target\"],preds)"
   ]
  },
  {
   "cell_type": "code",
   "execution_count": 39,
   "id": "5f53c877",
   "metadata": {
    "ExecuteTime": {
     "end_time": "2023-12-01T14:28:13.066818700Z",
     "start_time": "2023-12-01T14:28:13.061987700Z"
    }
   },
   "outputs": [],
   "source": [
    "grouped_matches = matches.groupby(\"team\")"
   ]
  },
  {
   "cell_type": "raw",
   "id": "c05e84cf",
   "metadata": {},
   "source": []
  },
  {
   "cell_type": "code",
   "execution_count": 37,
   "id": "f30be72e",
   "metadata": {
    "ExecuteTime": {
     "end_time": "2023-11-30T12:03:19.522351800Z",
     "start_time": "2023-11-30T12:03:19.515929100Z"
    }
   },
   "outputs": [],
   "source": [
    "def rolling_averages(group, cols, new_cols):\n",
    "    group = group.sort_values(\"date\")\n",
    "    rolling_stats = group[cols].rolling(5, closed=\"left\").mean()\n",
    "    group[new_cols] = rolling_stats\n",
    "    group = group.dropna(subset=new_cols)\n",
    "    return group"
   ]
  },
  {
   "cell_type": "code",
   "execution_count": 38,
   "id": "902ebfd2",
   "metadata": {
    "ExecuteTime": {
     "end_time": "2023-11-30T12:03:20.962045500Z",
     "start_time": "2023-11-30T12:03:20.945998600Z"
    }
   },
   "outputs": [],
   "source": [
    "group = grouped_matches.get_group(\"Manchester United\")"
   ]
  },
  {
   "cell_type": "code",
   "execution_count": 39,
   "id": "c019805b",
   "metadata": {
    "ExecuteTime": {
     "end_time": "2023-11-30T12:03:21.427008400Z",
     "start_time": "2023-11-30T12:03:21.421434400Z"
    }
   },
   "outputs": [],
   "source": [
    "cols = [\"gf\", \"ga\",\"sh\",\"sot\",\"dist\",\"fk\",\"pk\",\"pkatt\"]\n",
    "new_cols = [f\"{c}_rolling\" for c in cols]"
   ]
  },
  {
   "cell_type": "code",
   "execution_count": 40,
   "id": "993809c5",
   "metadata": {
    "ExecuteTime": {
     "end_time": "2023-11-30T12:03:21.858514Z",
     "start_time": "2023-11-30T12:03:21.851965600Z"
    }
   },
   "outputs": [
    {
     "data": {
      "text/plain": "['gf_rolling',\n 'ga_rolling',\n 'sh_rolling',\n 'sot_rolling',\n 'dist_rolling',\n 'fk_rolling',\n 'pk_rolling',\n 'pkatt_rolling']"
     },
     "execution_count": 40,
     "metadata": {},
     "output_type": "execute_result"
    }
   ],
   "source": [
    "new_cols"
   ]
  },
  {
   "cell_type": "code",
   "execution_count": 41,
   "id": "40f35228",
   "metadata": {
    "ExecuteTime": {
     "end_time": "2023-11-30T12:03:22.572798500Z",
     "start_time": "2023-11-30T12:03:22.549832200Z"
    }
   },
   "outputs": [
    {
     "data": {
      "text/plain": "         date   time            comp         round  day venue result  gf  ga  \\\n9  2020-11-01  16:30  Premier League   Matchweek 7  Sun  Home      L   0   1   \n11 2020-11-07  12:30  Premier League   Matchweek 8  Sat  Away      W   3   1   \n12 2020-11-21  20:00  Premier League   Matchweek 9  Sat  Home      W   1   0   \n14 2020-11-29  14:00  Premier League  Matchweek 10  Sun  Away      W   3   2   \n16 2020-12-05  17:30  Premier League  Matchweek 11  Sat  Away      W   3   1   \n..        ...    ...             ...           ...  ...   ...    ...  ..  ..   \n7  2023-09-26  20:00         EFL Cup   Third round  Tue  Home      W   3   0   \n11 2023-10-21  20:00  Premier League   Matchweek 9  Sat  Away      W   2   1   \n13 2023-10-29  15:30  Premier League  Matchweek 10  Sun  Home      L   0   3   \n13 2023-10-29  15:30  Premier League  Matchweek 10  Sun  Home      L   0   3   \n14 2023-11-01  20:15         EFL Cup  Fourth round  Wed  Home      L   0   3   \n\n            opponent  ...  day_code  target  gf_rolling  ga_rolling  \\\n9            Arsenal  ...         6       0         1.8         2.4   \n11           Everton  ...         5       1         1.6         2.0   \n12         West Brom  ...         5       1         1.6         1.8   \n14       Southampton  ...         6       1         1.6         0.6   \n16          West Ham  ...         5       1         1.4         0.8   \n..               ...  ...       ...     ...         ...         ...   \n7     Crystal Palace  ...         1       1         1.0         1.8   \n11  Sheffield United  ...         5       1         1.2         1.0   \n13   Manchester City  ...         6       0         1.6         1.0   \n13   Manchester City  ...         6       0         1.6         1.4   \n14  Newcastle United  ...         2       0         1.2         1.8   \n\n   sh_rolling sot_rolling dist_rolling fk_rolling pk_rolling  pkatt_rolling  \n9        13.6         4.4        20.44        0.2        0.4            0.6  \n11       11.8         4.0        20.38        0.0        0.4            0.6  \n12       13.2         4.6        20.96        0.4        0.2            0.4  \n14       15.6         5.6        19.56        0.6        0.2            0.4  \n16       13.2         4.6        18.70        0.6        0.2            0.2  \n..        ...         ...          ...        ...        ...            ...  \n7        12.0         3.6        16.74        0.4        0.0            0.0  \n11       18.8         5.4        17.64        0.6        0.0            0.0  \n13       17.8         5.8        18.66        0.8        0.0            0.0  \n13       15.4         5.8        18.60        0.8        0.0            0.0  \n14       12.6         4.8        17.98        0.6        0.0            0.0  \n\n[126 rows x 40 columns]",
      "text/html": "<div>\n<style scoped>\n    .dataframe tbody tr th:only-of-type {\n        vertical-align: middle;\n    }\n\n    .dataframe tbody tr th {\n        vertical-align: top;\n    }\n\n    .dataframe thead th {\n        text-align: right;\n    }\n</style>\n<table border=\"1\" class=\"dataframe\">\n  <thead>\n    <tr style=\"text-align: right;\">\n      <th></th>\n      <th>date</th>\n      <th>time</th>\n      <th>comp</th>\n      <th>round</th>\n      <th>day</th>\n      <th>venue</th>\n      <th>result</th>\n      <th>gf</th>\n      <th>ga</th>\n      <th>opponent</th>\n      <th>...</th>\n      <th>day_code</th>\n      <th>target</th>\n      <th>gf_rolling</th>\n      <th>ga_rolling</th>\n      <th>sh_rolling</th>\n      <th>sot_rolling</th>\n      <th>dist_rolling</th>\n      <th>fk_rolling</th>\n      <th>pk_rolling</th>\n      <th>pkatt_rolling</th>\n    </tr>\n  </thead>\n  <tbody>\n    <tr>\n      <th>9</th>\n      <td>2020-11-01</td>\n      <td>16:30</td>\n      <td>Premier League</td>\n      <td>Matchweek 7</td>\n      <td>Sun</td>\n      <td>Home</td>\n      <td>L</td>\n      <td>0</td>\n      <td>1</td>\n      <td>Arsenal</td>\n      <td>...</td>\n      <td>6</td>\n      <td>0</td>\n      <td>1.8</td>\n      <td>2.4</td>\n      <td>13.6</td>\n      <td>4.4</td>\n      <td>20.44</td>\n      <td>0.2</td>\n      <td>0.4</td>\n      <td>0.6</td>\n    </tr>\n    <tr>\n      <th>11</th>\n      <td>2020-11-07</td>\n      <td>12:30</td>\n      <td>Premier League</td>\n      <td>Matchweek 8</td>\n      <td>Sat</td>\n      <td>Away</td>\n      <td>W</td>\n      <td>3</td>\n      <td>1</td>\n      <td>Everton</td>\n      <td>...</td>\n      <td>5</td>\n      <td>1</td>\n      <td>1.6</td>\n      <td>2.0</td>\n      <td>11.8</td>\n      <td>4.0</td>\n      <td>20.38</td>\n      <td>0.0</td>\n      <td>0.4</td>\n      <td>0.6</td>\n    </tr>\n    <tr>\n      <th>12</th>\n      <td>2020-11-21</td>\n      <td>20:00</td>\n      <td>Premier League</td>\n      <td>Matchweek 9</td>\n      <td>Sat</td>\n      <td>Home</td>\n      <td>W</td>\n      <td>1</td>\n      <td>0</td>\n      <td>West Brom</td>\n      <td>...</td>\n      <td>5</td>\n      <td>1</td>\n      <td>1.6</td>\n      <td>1.8</td>\n      <td>13.2</td>\n      <td>4.6</td>\n      <td>20.96</td>\n      <td>0.4</td>\n      <td>0.2</td>\n      <td>0.4</td>\n    </tr>\n    <tr>\n      <th>14</th>\n      <td>2020-11-29</td>\n      <td>14:00</td>\n      <td>Premier League</td>\n      <td>Matchweek 10</td>\n      <td>Sun</td>\n      <td>Away</td>\n      <td>W</td>\n      <td>3</td>\n      <td>2</td>\n      <td>Southampton</td>\n      <td>...</td>\n      <td>6</td>\n      <td>1</td>\n      <td>1.6</td>\n      <td>0.6</td>\n      <td>15.6</td>\n      <td>5.6</td>\n      <td>19.56</td>\n      <td>0.6</td>\n      <td>0.2</td>\n      <td>0.4</td>\n    </tr>\n    <tr>\n      <th>16</th>\n      <td>2020-12-05</td>\n      <td>17:30</td>\n      <td>Premier League</td>\n      <td>Matchweek 11</td>\n      <td>Sat</td>\n      <td>Away</td>\n      <td>W</td>\n      <td>3</td>\n      <td>1</td>\n      <td>West Ham</td>\n      <td>...</td>\n      <td>5</td>\n      <td>1</td>\n      <td>1.4</td>\n      <td>0.8</td>\n      <td>13.2</td>\n      <td>4.6</td>\n      <td>18.70</td>\n      <td>0.6</td>\n      <td>0.2</td>\n      <td>0.2</td>\n    </tr>\n    <tr>\n      <th>...</th>\n      <td>...</td>\n      <td>...</td>\n      <td>...</td>\n      <td>...</td>\n      <td>...</td>\n      <td>...</td>\n      <td>...</td>\n      <td>...</td>\n      <td>...</td>\n      <td>...</td>\n      <td>...</td>\n      <td>...</td>\n      <td>...</td>\n      <td>...</td>\n      <td>...</td>\n      <td>...</td>\n      <td>...</td>\n      <td>...</td>\n      <td>...</td>\n      <td>...</td>\n      <td>...</td>\n    </tr>\n    <tr>\n      <th>7</th>\n      <td>2023-09-26</td>\n      <td>20:00</td>\n      <td>EFL Cup</td>\n      <td>Third round</td>\n      <td>Tue</td>\n      <td>Home</td>\n      <td>W</td>\n      <td>3</td>\n      <td>0</td>\n      <td>Crystal Palace</td>\n      <td>...</td>\n      <td>1</td>\n      <td>1</td>\n      <td>1.0</td>\n      <td>1.8</td>\n      <td>12.0</td>\n      <td>3.6</td>\n      <td>16.74</td>\n      <td>0.4</td>\n      <td>0.0</td>\n      <td>0.0</td>\n    </tr>\n    <tr>\n      <th>11</th>\n      <td>2023-10-21</td>\n      <td>20:00</td>\n      <td>Premier League</td>\n      <td>Matchweek 9</td>\n      <td>Sat</td>\n      <td>Away</td>\n      <td>W</td>\n      <td>2</td>\n      <td>1</td>\n      <td>Sheffield United</td>\n      <td>...</td>\n      <td>5</td>\n      <td>1</td>\n      <td>1.2</td>\n      <td>1.0</td>\n      <td>18.8</td>\n      <td>5.4</td>\n      <td>17.64</td>\n      <td>0.6</td>\n      <td>0.0</td>\n      <td>0.0</td>\n    </tr>\n    <tr>\n      <th>13</th>\n      <td>2023-10-29</td>\n      <td>15:30</td>\n      <td>Premier League</td>\n      <td>Matchweek 10</td>\n      <td>Sun</td>\n      <td>Home</td>\n      <td>L</td>\n      <td>0</td>\n      <td>3</td>\n      <td>Manchester City</td>\n      <td>...</td>\n      <td>6</td>\n      <td>0</td>\n      <td>1.6</td>\n      <td>1.0</td>\n      <td>17.8</td>\n      <td>5.8</td>\n      <td>18.66</td>\n      <td>0.8</td>\n      <td>0.0</td>\n      <td>0.0</td>\n    </tr>\n    <tr>\n      <th>13</th>\n      <td>2023-10-29</td>\n      <td>15:30</td>\n      <td>Premier League</td>\n      <td>Matchweek 10</td>\n      <td>Sun</td>\n      <td>Home</td>\n      <td>L</td>\n      <td>0</td>\n      <td>3</td>\n      <td>Manchester City</td>\n      <td>...</td>\n      <td>6</td>\n      <td>0</td>\n      <td>1.6</td>\n      <td>1.4</td>\n      <td>15.4</td>\n      <td>5.8</td>\n      <td>18.60</td>\n      <td>0.8</td>\n      <td>0.0</td>\n      <td>0.0</td>\n    </tr>\n    <tr>\n      <th>14</th>\n      <td>2023-11-01</td>\n      <td>20:15</td>\n      <td>EFL Cup</td>\n      <td>Fourth round</td>\n      <td>Wed</td>\n      <td>Home</td>\n      <td>L</td>\n      <td>0</td>\n      <td>3</td>\n      <td>Newcastle United</td>\n      <td>...</td>\n      <td>2</td>\n      <td>0</td>\n      <td>1.2</td>\n      <td>1.8</td>\n      <td>12.6</td>\n      <td>4.8</td>\n      <td>17.98</td>\n      <td>0.6</td>\n      <td>0.0</td>\n      <td>0.0</td>\n    </tr>\n  </tbody>\n</table>\n<p>126 rows × 40 columns</p>\n</div>"
     },
     "execution_count": 41,
     "metadata": {},
     "output_type": "execute_result"
    }
   ],
   "source": [
    "rolling_averages(group, cols, new_cols)"
   ]
  },
  {
   "cell_type": "code",
   "execution_count": 42,
   "id": "e60b4481",
   "metadata": {
    "ExecuteTime": {
     "end_time": "2023-11-30T12:03:24.082750600Z",
     "start_time": "2023-11-30T12:03:23.779695100Z"
    }
   },
   "outputs": [],
   "source": [
    "matches_rolling = matches.groupby(\"team\").apply(lambda x:rolling_averages(x, cols, new_cols))"
   ]
  },
  {
   "cell_type": "code",
   "execution_count": 43,
   "id": "6a10ce67",
   "metadata": {
    "ExecuteTime": {
     "end_time": "2023-11-30T12:03:24.451728500Z",
     "start_time": "2023-11-30T12:03:24.426623500Z"
    }
   },
   "outputs": [
    {
     "data": {
      "text/plain": "                 date   time            comp         round  day venue result  \\\nteam                                                                           \nAjaccio 5  2022-09-04  15:00         Ligue 1   Matchweek 6  Sun  Home      L   \n        6  2022-09-11  15:00         Ligue 1   Matchweek 7  Sun  Home      L   \n        7  2022-09-18  15:00         Ligue 1   Matchweek 8  Sun  Away      W   \n        8  2022-10-02  15:00         Ligue 1   Matchweek 9  Sun  Home      L   \n        9  2022-10-08  17:00         Ligue 1  Matchweek 10  Sat  Away      W   \n...               ...    ...             ...           ...  ...   ...    ...   \nWolves  11 2023-10-28  17:30  Premier League  Matchweek 10  Sat  Home      D   \n        12 2023-11-04  15:00  Premier League  Matchweek 11  Sat  Away      L   \n        12 2023-11-04  15:00  Premier League  Matchweek 11  Sat  Away      L   \n        13 2023-11-11  12:30  Premier League  Matchweek 12  Sat  Home      W   \n        14 2023-11-27  20:00  Premier League  Matchweek 13  Mon  Away      L   \n\n            gf  ga          opponent  ...  day_code  target  gf_rolling  \\\nteam                                  ...                                 \nAjaccio 5    0   1           Lorient  ...         6       0         0.6   \n        6    0   1              Nice  ...         6       0         0.4   \n        7    1   0             Brest  ...         6       1         0.4   \n        8    1   3     Clermont Foot  ...         6       0         0.4   \n        9    2   1         Marseille  ...         5       1         0.4   \n...         ..  ..               ...  ...       ...     ...         ...   \nWolves  11   2   2  Newcastle United  ...         5       0         1.6   \n        12   1   2  Sheffield United  ...         5       0         1.8   \n        12   1   2  Sheffield United  ...         5       0         1.8   \n        13   2   1         Tottenham  ...         5       1         1.6   \n        14   2   3            Fulham  ...         0       0         1.6   \n\n            ga_rolling sh_rolling sot_rolling dist_rolling fk_rolling  \\\nteam                                                                    \nAjaccio 5          1.8       10.8         1.8        17.34        0.2   \n        6          1.6       12.6         1.8        17.96        0.6   \n        7          1.8       12.6         2.0        17.88        0.6   \n        8          1.4       12.0         2.4        17.60        0.6   \n        9          1.4       11.6         2.6        17.94        0.6   \n...                ...        ...         ...          ...        ...   \nWolves  11         1.2       13.8         5.2        16.32        0.2   \n        12         1.4       14.4         5.8        16.56        0.4   \n        12         1.6       14.8         5.8        16.86        0.6   \n        13         1.8       12.6         5.0        17.12        0.8   \n        14         1.8       11.8         4.4        17.58        0.8   \n\n           pk_rolling  pkatt_rolling  \nteam                                  \nAjaccio 5         0.2            0.4  \n        6         0.0            0.2  \n        7         0.0            0.2  \n        8         0.0            0.0  \n        9         0.0            0.0  \n...               ...            ...  \nWolves  11        0.0            0.0  \n        12        0.0            0.0  \n        12        0.0            0.0  \n        13        0.0            0.0  \n        14        0.0            0.0  \n\n[12457 rows x 40 columns]",
      "text/html": "<div>\n<style scoped>\n    .dataframe tbody tr th:only-of-type {\n        vertical-align: middle;\n    }\n\n    .dataframe tbody tr th {\n        vertical-align: top;\n    }\n\n    .dataframe thead th {\n        text-align: right;\n    }\n</style>\n<table border=\"1\" class=\"dataframe\">\n  <thead>\n    <tr style=\"text-align: right;\">\n      <th></th>\n      <th></th>\n      <th>date</th>\n      <th>time</th>\n      <th>comp</th>\n      <th>round</th>\n      <th>day</th>\n      <th>venue</th>\n      <th>result</th>\n      <th>gf</th>\n      <th>ga</th>\n      <th>opponent</th>\n      <th>...</th>\n      <th>day_code</th>\n      <th>target</th>\n      <th>gf_rolling</th>\n      <th>ga_rolling</th>\n      <th>sh_rolling</th>\n      <th>sot_rolling</th>\n      <th>dist_rolling</th>\n      <th>fk_rolling</th>\n      <th>pk_rolling</th>\n      <th>pkatt_rolling</th>\n    </tr>\n    <tr>\n      <th>team</th>\n      <th></th>\n      <th></th>\n      <th></th>\n      <th></th>\n      <th></th>\n      <th></th>\n      <th></th>\n      <th></th>\n      <th></th>\n      <th></th>\n      <th></th>\n      <th></th>\n      <th></th>\n      <th></th>\n      <th></th>\n      <th></th>\n      <th></th>\n      <th></th>\n      <th></th>\n      <th></th>\n      <th></th>\n      <th></th>\n    </tr>\n  </thead>\n  <tbody>\n    <tr>\n      <th rowspan=\"5\" valign=\"top\">Ajaccio</th>\n      <th>5</th>\n      <td>2022-09-04</td>\n      <td>15:00</td>\n      <td>Ligue 1</td>\n      <td>Matchweek 6</td>\n      <td>Sun</td>\n      <td>Home</td>\n      <td>L</td>\n      <td>0</td>\n      <td>1</td>\n      <td>Lorient</td>\n      <td>...</td>\n      <td>6</td>\n      <td>0</td>\n      <td>0.6</td>\n      <td>1.8</td>\n      <td>10.8</td>\n      <td>1.8</td>\n      <td>17.34</td>\n      <td>0.2</td>\n      <td>0.2</td>\n      <td>0.4</td>\n    </tr>\n    <tr>\n      <th>6</th>\n      <td>2022-09-11</td>\n      <td>15:00</td>\n      <td>Ligue 1</td>\n      <td>Matchweek 7</td>\n      <td>Sun</td>\n      <td>Home</td>\n      <td>L</td>\n      <td>0</td>\n      <td>1</td>\n      <td>Nice</td>\n      <td>...</td>\n      <td>6</td>\n      <td>0</td>\n      <td>0.4</td>\n      <td>1.6</td>\n      <td>12.6</td>\n      <td>1.8</td>\n      <td>17.96</td>\n      <td>0.6</td>\n      <td>0.0</td>\n      <td>0.2</td>\n    </tr>\n    <tr>\n      <th>7</th>\n      <td>2022-09-18</td>\n      <td>15:00</td>\n      <td>Ligue 1</td>\n      <td>Matchweek 8</td>\n      <td>Sun</td>\n      <td>Away</td>\n      <td>W</td>\n      <td>1</td>\n      <td>0</td>\n      <td>Brest</td>\n      <td>...</td>\n      <td>6</td>\n      <td>1</td>\n      <td>0.4</td>\n      <td>1.8</td>\n      <td>12.6</td>\n      <td>2.0</td>\n      <td>17.88</td>\n      <td>0.6</td>\n      <td>0.0</td>\n      <td>0.2</td>\n    </tr>\n    <tr>\n      <th>8</th>\n      <td>2022-10-02</td>\n      <td>15:00</td>\n      <td>Ligue 1</td>\n      <td>Matchweek 9</td>\n      <td>Sun</td>\n      <td>Home</td>\n      <td>L</td>\n      <td>1</td>\n      <td>3</td>\n      <td>Clermont Foot</td>\n      <td>...</td>\n      <td>6</td>\n      <td>0</td>\n      <td>0.4</td>\n      <td>1.4</td>\n      <td>12.0</td>\n      <td>2.4</td>\n      <td>17.60</td>\n      <td>0.6</td>\n      <td>0.0</td>\n      <td>0.0</td>\n    </tr>\n    <tr>\n      <th>9</th>\n      <td>2022-10-08</td>\n      <td>17:00</td>\n      <td>Ligue 1</td>\n      <td>Matchweek 10</td>\n      <td>Sat</td>\n      <td>Away</td>\n      <td>W</td>\n      <td>2</td>\n      <td>1</td>\n      <td>Marseille</td>\n      <td>...</td>\n      <td>5</td>\n      <td>1</td>\n      <td>0.4</td>\n      <td>1.4</td>\n      <td>11.6</td>\n      <td>2.6</td>\n      <td>17.94</td>\n      <td>0.6</td>\n      <td>0.0</td>\n      <td>0.0</td>\n    </tr>\n    <tr>\n      <th>...</th>\n      <th>...</th>\n      <td>...</td>\n      <td>...</td>\n      <td>...</td>\n      <td>...</td>\n      <td>...</td>\n      <td>...</td>\n      <td>...</td>\n      <td>...</td>\n      <td>...</td>\n      <td>...</td>\n      <td>...</td>\n      <td>...</td>\n      <td>...</td>\n      <td>...</td>\n      <td>...</td>\n      <td>...</td>\n      <td>...</td>\n      <td>...</td>\n      <td>...</td>\n      <td>...</td>\n      <td>...</td>\n    </tr>\n    <tr>\n      <th rowspan=\"5\" valign=\"top\">Wolves</th>\n      <th>11</th>\n      <td>2023-10-28</td>\n      <td>17:30</td>\n      <td>Premier League</td>\n      <td>Matchweek 10</td>\n      <td>Sat</td>\n      <td>Home</td>\n      <td>D</td>\n      <td>2</td>\n      <td>2</td>\n      <td>Newcastle United</td>\n      <td>...</td>\n      <td>5</td>\n      <td>0</td>\n      <td>1.6</td>\n      <td>1.2</td>\n      <td>13.8</td>\n      <td>5.2</td>\n      <td>16.32</td>\n      <td>0.2</td>\n      <td>0.0</td>\n      <td>0.0</td>\n    </tr>\n    <tr>\n      <th>12</th>\n      <td>2023-11-04</td>\n      <td>15:00</td>\n      <td>Premier League</td>\n      <td>Matchweek 11</td>\n      <td>Sat</td>\n      <td>Away</td>\n      <td>L</td>\n      <td>1</td>\n      <td>2</td>\n      <td>Sheffield United</td>\n      <td>...</td>\n      <td>5</td>\n      <td>0</td>\n      <td>1.8</td>\n      <td>1.4</td>\n      <td>14.4</td>\n      <td>5.8</td>\n      <td>16.56</td>\n      <td>0.4</td>\n      <td>0.0</td>\n      <td>0.0</td>\n    </tr>\n    <tr>\n      <th>12</th>\n      <td>2023-11-04</td>\n      <td>15:00</td>\n      <td>Premier League</td>\n      <td>Matchweek 11</td>\n      <td>Sat</td>\n      <td>Away</td>\n      <td>L</td>\n      <td>1</td>\n      <td>2</td>\n      <td>Sheffield United</td>\n      <td>...</td>\n      <td>5</td>\n      <td>0</td>\n      <td>1.8</td>\n      <td>1.6</td>\n      <td>14.8</td>\n      <td>5.8</td>\n      <td>16.86</td>\n      <td>0.6</td>\n      <td>0.0</td>\n      <td>0.0</td>\n    </tr>\n    <tr>\n      <th>13</th>\n      <td>2023-11-11</td>\n      <td>12:30</td>\n      <td>Premier League</td>\n      <td>Matchweek 12</td>\n      <td>Sat</td>\n      <td>Home</td>\n      <td>W</td>\n      <td>2</td>\n      <td>1</td>\n      <td>Tottenham</td>\n      <td>...</td>\n      <td>5</td>\n      <td>1</td>\n      <td>1.6</td>\n      <td>1.8</td>\n      <td>12.6</td>\n      <td>5.0</td>\n      <td>17.12</td>\n      <td>0.8</td>\n      <td>0.0</td>\n      <td>0.0</td>\n    </tr>\n    <tr>\n      <th>14</th>\n      <td>2023-11-27</td>\n      <td>20:00</td>\n      <td>Premier League</td>\n      <td>Matchweek 13</td>\n      <td>Mon</td>\n      <td>Away</td>\n      <td>L</td>\n      <td>2</td>\n      <td>3</td>\n      <td>Fulham</td>\n      <td>...</td>\n      <td>0</td>\n      <td>0</td>\n      <td>1.6</td>\n      <td>1.8</td>\n      <td>11.8</td>\n      <td>4.4</td>\n      <td>17.58</td>\n      <td>0.8</td>\n      <td>0.0</td>\n      <td>0.0</td>\n    </tr>\n  </tbody>\n</table>\n<p>12457 rows × 40 columns</p>\n</div>"
     },
     "execution_count": 43,
     "metadata": {},
     "output_type": "execute_result"
    }
   ],
   "source": [
    "matches_rolling"
   ]
  },
  {
   "cell_type": "code",
   "execution_count": 44,
   "id": "a2924670",
   "metadata": {
    "ExecuteTime": {
     "end_time": "2023-11-30T12:03:24.878590700Z",
     "start_time": "2023-11-30T12:03:24.854417600Z"
    }
   },
   "outputs": [],
   "source": [
    "matches_rolling = matches_rolling.droplevel(\"team\")"
   ]
  },
  {
   "cell_type": "code",
   "execution_count": 45,
   "id": "743de906",
   "metadata": {
    "ExecuteTime": {
     "end_time": "2023-11-30T12:03:25.447531400Z",
     "start_time": "2023-11-30T12:03:25.413012700Z"
    }
   },
   "outputs": [
    {
     "data": {
      "text/plain": "         date   time            comp         round  day venue result  gf  ga  \\\n5  2022-09-04  15:00         Ligue 1   Matchweek 6  Sun  Home      L   0   1   \n6  2022-09-11  15:00         Ligue 1   Matchweek 7  Sun  Home      L   0   1   \n7  2022-09-18  15:00         Ligue 1   Matchweek 8  Sun  Away      W   1   0   \n8  2022-10-02  15:00         Ligue 1   Matchweek 9  Sun  Home      L   1   3   \n9  2022-10-08  17:00         Ligue 1  Matchweek 10  Sat  Away      W   2   1   \n..        ...    ...             ...           ...  ...   ...    ...  ..  ..   \n11 2023-10-28  17:30  Premier League  Matchweek 10  Sat  Home      D   2   2   \n12 2023-11-04  15:00  Premier League  Matchweek 11  Sat  Away      L   1   2   \n12 2023-11-04  15:00  Premier League  Matchweek 11  Sat  Away      L   1   2   \n13 2023-11-11  12:30  Premier League  Matchweek 12  Sat  Home      W   2   1   \n14 2023-11-27  20:00  Premier League  Matchweek 13  Mon  Away      L   2   3   \n\n            opponent  ...  day_code  target  gf_rolling  ga_rolling  \\\n5            Lorient  ...         6       0         0.6         1.8   \n6               Nice  ...         6       0         0.4         1.6   \n7              Brest  ...         6       1         0.4         1.8   \n8      Clermont Foot  ...         6       0         0.4         1.4   \n9          Marseille  ...         5       1         0.4         1.4   \n..               ...  ...       ...     ...         ...         ...   \n11  Newcastle United  ...         5       0         1.6         1.2   \n12  Sheffield United  ...         5       0         1.8         1.4   \n12  Sheffield United  ...         5       0         1.8         1.6   \n13         Tottenham  ...         5       1         1.6         1.8   \n14            Fulham  ...         0       0         1.6         1.8   \n\n   sh_rolling sot_rolling dist_rolling fk_rolling pk_rolling  pkatt_rolling  \n5        10.8         1.8        17.34        0.2        0.2            0.4  \n6        12.6         1.8        17.96        0.6        0.0            0.2  \n7        12.6         2.0        17.88        0.6        0.0            0.2  \n8        12.0         2.4        17.60        0.6        0.0            0.0  \n9        11.6         2.6        17.94        0.6        0.0            0.0  \n..        ...         ...          ...        ...        ...            ...  \n11       13.8         5.2        16.32        0.2        0.0            0.0  \n12       14.4         5.8        16.56        0.4        0.0            0.0  \n12       14.8         5.8        16.86        0.6        0.0            0.0  \n13       12.6         5.0        17.12        0.8        0.0            0.0  \n14       11.8         4.4        17.58        0.8        0.0            0.0  \n\n[12457 rows x 40 columns]",
      "text/html": "<div>\n<style scoped>\n    .dataframe tbody tr th:only-of-type {\n        vertical-align: middle;\n    }\n\n    .dataframe tbody tr th {\n        vertical-align: top;\n    }\n\n    .dataframe thead th {\n        text-align: right;\n    }\n</style>\n<table border=\"1\" class=\"dataframe\">\n  <thead>\n    <tr style=\"text-align: right;\">\n      <th></th>\n      <th>date</th>\n      <th>time</th>\n      <th>comp</th>\n      <th>round</th>\n      <th>day</th>\n      <th>venue</th>\n      <th>result</th>\n      <th>gf</th>\n      <th>ga</th>\n      <th>opponent</th>\n      <th>...</th>\n      <th>day_code</th>\n      <th>target</th>\n      <th>gf_rolling</th>\n      <th>ga_rolling</th>\n      <th>sh_rolling</th>\n      <th>sot_rolling</th>\n      <th>dist_rolling</th>\n      <th>fk_rolling</th>\n      <th>pk_rolling</th>\n      <th>pkatt_rolling</th>\n    </tr>\n  </thead>\n  <tbody>\n    <tr>\n      <th>5</th>\n      <td>2022-09-04</td>\n      <td>15:00</td>\n      <td>Ligue 1</td>\n      <td>Matchweek 6</td>\n      <td>Sun</td>\n      <td>Home</td>\n      <td>L</td>\n      <td>0</td>\n      <td>1</td>\n      <td>Lorient</td>\n      <td>...</td>\n      <td>6</td>\n      <td>0</td>\n      <td>0.6</td>\n      <td>1.8</td>\n      <td>10.8</td>\n      <td>1.8</td>\n      <td>17.34</td>\n      <td>0.2</td>\n      <td>0.2</td>\n      <td>0.4</td>\n    </tr>\n    <tr>\n      <th>6</th>\n      <td>2022-09-11</td>\n      <td>15:00</td>\n      <td>Ligue 1</td>\n      <td>Matchweek 7</td>\n      <td>Sun</td>\n      <td>Home</td>\n      <td>L</td>\n      <td>0</td>\n      <td>1</td>\n      <td>Nice</td>\n      <td>...</td>\n      <td>6</td>\n      <td>0</td>\n      <td>0.4</td>\n      <td>1.6</td>\n      <td>12.6</td>\n      <td>1.8</td>\n      <td>17.96</td>\n      <td>0.6</td>\n      <td>0.0</td>\n      <td>0.2</td>\n    </tr>\n    <tr>\n      <th>7</th>\n      <td>2022-09-18</td>\n      <td>15:00</td>\n      <td>Ligue 1</td>\n      <td>Matchweek 8</td>\n      <td>Sun</td>\n      <td>Away</td>\n      <td>W</td>\n      <td>1</td>\n      <td>0</td>\n      <td>Brest</td>\n      <td>...</td>\n      <td>6</td>\n      <td>1</td>\n      <td>0.4</td>\n      <td>1.8</td>\n      <td>12.6</td>\n      <td>2.0</td>\n      <td>17.88</td>\n      <td>0.6</td>\n      <td>0.0</td>\n      <td>0.2</td>\n    </tr>\n    <tr>\n      <th>8</th>\n      <td>2022-10-02</td>\n      <td>15:00</td>\n      <td>Ligue 1</td>\n      <td>Matchweek 9</td>\n      <td>Sun</td>\n      <td>Home</td>\n      <td>L</td>\n      <td>1</td>\n      <td>3</td>\n      <td>Clermont Foot</td>\n      <td>...</td>\n      <td>6</td>\n      <td>0</td>\n      <td>0.4</td>\n      <td>1.4</td>\n      <td>12.0</td>\n      <td>2.4</td>\n      <td>17.60</td>\n      <td>0.6</td>\n      <td>0.0</td>\n      <td>0.0</td>\n    </tr>\n    <tr>\n      <th>9</th>\n      <td>2022-10-08</td>\n      <td>17:00</td>\n      <td>Ligue 1</td>\n      <td>Matchweek 10</td>\n      <td>Sat</td>\n      <td>Away</td>\n      <td>W</td>\n      <td>2</td>\n      <td>1</td>\n      <td>Marseille</td>\n      <td>...</td>\n      <td>5</td>\n      <td>1</td>\n      <td>0.4</td>\n      <td>1.4</td>\n      <td>11.6</td>\n      <td>2.6</td>\n      <td>17.94</td>\n      <td>0.6</td>\n      <td>0.0</td>\n      <td>0.0</td>\n    </tr>\n    <tr>\n      <th>...</th>\n      <td>...</td>\n      <td>...</td>\n      <td>...</td>\n      <td>...</td>\n      <td>...</td>\n      <td>...</td>\n      <td>...</td>\n      <td>...</td>\n      <td>...</td>\n      <td>...</td>\n      <td>...</td>\n      <td>...</td>\n      <td>...</td>\n      <td>...</td>\n      <td>...</td>\n      <td>...</td>\n      <td>...</td>\n      <td>...</td>\n      <td>...</td>\n      <td>...</td>\n      <td>...</td>\n    </tr>\n    <tr>\n      <th>11</th>\n      <td>2023-10-28</td>\n      <td>17:30</td>\n      <td>Premier League</td>\n      <td>Matchweek 10</td>\n      <td>Sat</td>\n      <td>Home</td>\n      <td>D</td>\n      <td>2</td>\n      <td>2</td>\n      <td>Newcastle United</td>\n      <td>...</td>\n      <td>5</td>\n      <td>0</td>\n      <td>1.6</td>\n      <td>1.2</td>\n      <td>13.8</td>\n      <td>5.2</td>\n      <td>16.32</td>\n      <td>0.2</td>\n      <td>0.0</td>\n      <td>0.0</td>\n    </tr>\n    <tr>\n      <th>12</th>\n      <td>2023-11-04</td>\n      <td>15:00</td>\n      <td>Premier League</td>\n      <td>Matchweek 11</td>\n      <td>Sat</td>\n      <td>Away</td>\n      <td>L</td>\n      <td>1</td>\n      <td>2</td>\n      <td>Sheffield United</td>\n      <td>...</td>\n      <td>5</td>\n      <td>0</td>\n      <td>1.8</td>\n      <td>1.4</td>\n      <td>14.4</td>\n      <td>5.8</td>\n      <td>16.56</td>\n      <td>0.4</td>\n      <td>0.0</td>\n      <td>0.0</td>\n    </tr>\n    <tr>\n      <th>12</th>\n      <td>2023-11-04</td>\n      <td>15:00</td>\n      <td>Premier League</td>\n      <td>Matchweek 11</td>\n      <td>Sat</td>\n      <td>Away</td>\n      <td>L</td>\n      <td>1</td>\n      <td>2</td>\n      <td>Sheffield United</td>\n      <td>...</td>\n      <td>5</td>\n      <td>0</td>\n      <td>1.8</td>\n      <td>1.6</td>\n      <td>14.8</td>\n      <td>5.8</td>\n      <td>16.86</td>\n      <td>0.6</td>\n      <td>0.0</td>\n      <td>0.0</td>\n    </tr>\n    <tr>\n      <th>13</th>\n      <td>2023-11-11</td>\n      <td>12:30</td>\n      <td>Premier League</td>\n      <td>Matchweek 12</td>\n      <td>Sat</td>\n      <td>Home</td>\n      <td>W</td>\n      <td>2</td>\n      <td>1</td>\n      <td>Tottenham</td>\n      <td>...</td>\n      <td>5</td>\n      <td>1</td>\n      <td>1.6</td>\n      <td>1.8</td>\n      <td>12.6</td>\n      <td>5.0</td>\n      <td>17.12</td>\n      <td>0.8</td>\n      <td>0.0</td>\n      <td>0.0</td>\n    </tr>\n    <tr>\n      <th>14</th>\n      <td>2023-11-27</td>\n      <td>20:00</td>\n      <td>Premier League</td>\n      <td>Matchweek 13</td>\n      <td>Mon</td>\n      <td>Away</td>\n      <td>L</td>\n      <td>2</td>\n      <td>3</td>\n      <td>Fulham</td>\n      <td>...</td>\n      <td>0</td>\n      <td>0</td>\n      <td>1.6</td>\n      <td>1.8</td>\n      <td>11.8</td>\n      <td>4.4</td>\n      <td>17.58</td>\n      <td>0.8</td>\n      <td>0.0</td>\n      <td>0.0</td>\n    </tr>\n  </tbody>\n</table>\n<p>12457 rows × 40 columns</p>\n</div>"
     },
     "execution_count": 45,
     "metadata": {},
     "output_type": "execute_result"
    }
   ],
   "source": [
    "matches_rolling"
   ]
  },
  {
   "cell_type": "code",
   "execution_count": 46,
   "id": "d4a8f3c3",
   "metadata": {
    "ExecuteTime": {
     "end_time": "2023-11-30T12:03:29.256730900Z",
     "start_time": "2023-11-30T12:03:29.250188600Z"
    }
   },
   "outputs": [],
   "source": [
    "matches_rolling.index = range(matches_rolling.shape[0])"
   ]
  },
  {
   "cell_type": "code",
   "execution_count": 47,
   "id": "f78ccebf",
   "metadata": {
    "ExecuteTime": {
     "end_time": "2023-11-30T12:03:29.924573700Z",
     "start_time": "2023-11-30T12:03:29.900538900Z"
    }
   },
   "outputs": [
    {
     "data": {
      "text/plain": "            date   time            comp         round  day venue result  gf  \\\n0     2022-09-04  15:00         Ligue 1   Matchweek 6  Sun  Home      L   0   \n1     2022-09-11  15:00         Ligue 1   Matchweek 7  Sun  Home      L   0   \n2     2022-09-18  15:00         Ligue 1   Matchweek 8  Sun  Away      W   1   \n3     2022-10-02  15:00         Ligue 1   Matchweek 9  Sun  Home      L   1   \n4     2022-10-08  17:00         Ligue 1  Matchweek 10  Sat  Away      W   2   \n...          ...    ...             ...           ...  ...   ...    ...  ..   \n12452 2023-10-28  17:30  Premier League  Matchweek 10  Sat  Home      D   2   \n12453 2023-11-04  15:00  Premier League  Matchweek 11  Sat  Away      L   1   \n12454 2023-11-04  15:00  Premier League  Matchweek 11  Sat  Away      L   1   \n12455 2023-11-11  12:30  Premier League  Matchweek 12  Sat  Home      W   2   \n12456 2023-11-27  20:00  Premier League  Matchweek 13  Mon  Away      L   2   \n\n       ga          opponent  ...  day_code  target  gf_rolling  ga_rolling  \\\n0       1           Lorient  ...         6       0         0.6         1.8   \n1       1              Nice  ...         6       0         0.4         1.6   \n2       0             Brest  ...         6       1         0.4         1.8   \n3       3     Clermont Foot  ...         6       0         0.4         1.4   \n4       1         Marseille  ...         5       1         0.4         1.4   \n...    ..               ...  ...       ...     ...         ...         ...   \n12452   2  Newcastle United  ...         5       0         1.6         1.2   \n12453   2  Sheffield United  ...         5       0         1.8         1.4   \n12454   2  Sheffield United  ...         5       0         1.8         1.6   \n12455   1         Tottenham  ...         5       1         1.6         1.8   \n12456   3            Fulham  ...         0       0         1.6         1.8   \n\n      sh_rolling sot_rolling dist_rolling fk_rolling pk_rolling  pkatt_rolling  \n0           10.8         1.8        17.34        0.2        0.2            0.4  \n1           12.6         1.8        17.96        0.6        0.0            0.2  \n2           12.6         2.0        17.88        0.6        0.0            0.2  \n3           12.0         2.4        17.60        0.6        0.0            0.0  \n4           11.6         2.6        17.94        0.6        0.0            0.0  \n...          ...         ...          ...        ...        ...            ...  \n12452       13.8         5.2        16.32        0.2        0.0            0.0  \n12453       14.4         5.8        16.56        0.4        0.0            0.0  \n12454       14.8         5.8        16.86        0.6        0.0            0.0  \n12455       12.6         5.0        17.12        0.8        0.0            0.0  \n12456       11.8         4.4        17.58        0.8        0.0            0.0  \n\n[12457 rows x 40 columns]",
      "text/html": "<div>\n<style scoped>\n    .dataframe tbody tr th:only-of-type {\n        vertical-align: middle;\n    }\n\n    .dataframe tbody tr th {\n        vertical-align: top;\n    }\n\n    .dataframe thead th {\n        text-align: right;\n    }\n</style>\n<table border=\"1\" class=\"dataframe\">\n  <thead>\n    <tr style=\"text-align: right;\">\n      <th></th>\n      <th>date</th>\n      <th>time</th>\n      <th>comp</th>\n      <th>round</th>\n      <th>day</th>\n      <th>venue</th>\n      <th>result</th>\n      <th>gf</th>\n      <th>ga</th>\n      <th>opponent</th>\n      <th>...</th>\n      <th>day_code</th>\n      <th>target</th>\n      <th>gf_rolling</th>\n      <th>ga_rolling</th>\n      <th>sh_rolling</th>\n      <th>sot_rolling</th>\n      <th>dist_rolling</th>\n      <th>fk_rolling</th>\n      <th>pk_rolling</th>\n      <th>pkatt_rolling</th>\n    </tr>\n  </thead>\n  <tbody>\n    <tr>\n      <th>0</th>\n      <td>2022-09-04</td>\n      <td>15:00</td>\n      <td>Ligue 1</td>\n      <td>Matchweek 6</td>\n      <td>Sun</td>\n      <td>Home</td>\n      <td>L</td>\n      <td>0</td>\n      <td>1</td>\n      <td>Lorient</td>\n      <td>...</td>\n      <td>6</td>\n      <td>0</td>\n      <td>0.6</td>\n      <td>1.8</td>\n      <td>10.8</td>\n      <td>1.8</td>\n      <td>17.34</td>\n      <td>0.2</td>\n      <td>0.2</td>\n      <td>0.4</td>\n    </tr>\n    <tr>\n      <th>1</th>\n      <td>2022-09-11</td>\n      <td>15:00</td>\n      <td>Ligue 1</td>\n      <td>Matchweek 7</td>\n      <td>Sun</td>\n      <td>Home</td>\n      <td>L</td>\n      <td>0</td>\n      <td>1</td>\n      <td>Nice</td>\n      <td>...</td>\n      <td>6</td>\n      <td>0</td>\n      <td>0.4</td>\n      <td>1.6</td>\n      <td>12.6</td>\n      <td>1.8</td>\n      <td>17.96</td>\n      <td>0.6</td>\n      <td>0.0</td>\n      <td>0.2</td>\n    </tr>\n    <tr>\n      <th>2</th>\n      <td>2022-09-18</td>\n      <td>15:00</td>\n      <td>Ligue 1</td>\n      <td>Matchweek 8</td>\n      <td>Sun</td>\n      <td>Away</td>\n      <td>W</td>\n      <td>1</td>\n      <td>0</td>\n      <td>Brest</td>\n      <td>...</td>\n      <td>6</td>\n      <td>1</td>\n      <td>0.4</td>\n      <td>1.8</td>\n      <td>12.6</td>\n      <td>2.0</td>\n      <td>17.88</td>\n      <td>0.6</td>\n      <td>0.0</td>\n      <td>0.2</td>\n    </tr>\n    <tr>\n      <th>3</th>\n      <td>2022-10-02</td>\n      <td>15:00</td>\n      <td>Ligue 1</td>\n      <td>Matchweek 9</td>\n      <td>Sun</td>\n      <td>Home</td>\n      <td>L</td>\n      <td>1</td>\n      <td>3</td>\n      <td>Clermont Foot</td>\n      <td>...</td>\n      <td>6</td>\n      <td>0</td>\n      <td>0.4</td>\n      <td>1.4</td>\n      <td>12.0</td>\n      <td>2.4</td>\n      <td>17.60</td>\n      <td>0.6</td>\n      <td>0.0</td>\n      <td>0.0</td>\n    </tr>\n    <tr>\n      <th>4</th>\n      <td>2022-10-08</td>\n      <td>17:00</td>\n      <td>Ligue 1</td>\n      <td>Matchweek 10</td>\n      <td>Sat</td>\n      <td>Away</td>\n      <td>W</td>\n      <td>2</td>\n      <td>1</td>\n      <td>Marseille</td>\n      <td>...</td>\n      <td>5</td>\n      <td>1</td>\n      <td>0.4</td>\n      <td>1.4</td>\n      <td>11.6</td>\n      <td>2.6</td>\n      <td>17.94</td>\n      <td>0.6</td>\n      <td>0.0</td>\n      <td>0.0</td>\n    </tr>\n    <tr>\n      <th>...</th>\n      <td>...</td>\n      <td>...</td>\n      <td>...</td>\n      <td>...</td>\n      <td>...</td>\n      <td>...</td>\n      <td>...</td>\n      <td>...</td>\n      <td>...</td>\n      <td>...</td>\n      <td>...</td>\n      <td>...</td>\n      <td>...</td>\n      <td>...</td>\n      <td>...</td>\n      <td>...</td>\n      <td>...</td>\n      <td>...</td>\n      <td>...</td>\n      <td>...</td>\n      <td>...</td>\n    </tr>\n    <tr>\n      <th>12452</th>\n      <td>2023-10-28</td>\n      <td>17:30</td>\n      <td>Premier League</td>\n      <td>Matchweek 10</td>\n      <td>Sat</td>\n      <td>Home</td>\n      <td>D</td>\n      <td>2</td>\n      <td>2</td>\n      <td>Newcastle United</td>\n      <td>...</td>\n      <td>5</td>\n      <td>0</td>\n      <td>1.6</td>\n      <td>1.2</td>\n      <td>13.8</td>\n      <td>5.2</td>\n      <td>16.32</td>\n      <td>0.2</td>\n      <td>0.0</td>\n      <td>0.0</td>\n    </tr>\n    <tr>\n      <th>12453</th>\n      <td>2023-11-04</td>\n      <td>15:00</td>\n      <td>Premier League</td>\n      <td>Matchweek 11</td>\n      <td>Sat</td>\n      <td>Away</td>\n      <td>L</td>\n      <td>1</td>\n      <td>2</td>\n      <td>Sheffield United</td>\n      <td>...</td>\n      <td>5</td>\n      <td>0</td>\n      <td>1.8</td>\n      <td>1.4</td>\n      <td>14.4</td>\n      <td>5.8</td>\n      <td>16.56</td>\n      <td>0.4</td>\n      <td>0.0</td>\n      <td>0.0</td>\n    </tr>\n    <tr>\n      <th>12454</th>\n      <td>2023-11-04</td>\n      <td>15:00</td>\n      <td>Premier League</td>\n      <td>Matchweek 11</td>\n      <td>Sat</td>\n      <td>Away</td>\n      <td>L</td>\n      <td>1</td>\n      <td>2</td>\n      <td>Sheffield United</td>\n      <td>...</td>\n      <td>5</td>\n      <td>0</td>\n      <td>1.8</td>\n      <td>1.6</td>\n      <td>14.8</td>\n      <td>5.8</td>\n      <td>16.86</td>\n      <td>0.6</td>\n      <td>0.0</td>\n      <td>0.0</td>\n    </tr>\n    <tr>\n      <th>12455</th>\n      <td>2023-11-11</td>\n      <td>12:30</td>\n      <td>Premier League</td>\n      <td>Matchweek 12</td>\n      <td>Sat</td>\n      <td>Home</td>\n      <td>W</td>\n      <td>2</td>\n      <td>1</td>\n      <td>Tottenham</td>\n      <td>...</td>\n      <td>5</td>\n      <td>1</td>\n      <td>1.6</td>\n      <td>1.8</td>\n      <td>12.6</td>\n      <td>5.0</td>\n      <td>17.12</td>\n      <td>0.8</td>\n      <td>0.0</td>\n      <td>0.0</td>\n    </tr>\n    <tr>\n      <th>12456</th>\n      <td>2023-11-27</td>\n      <td>20:00</td>\n      <td>Premier League</td>\n      <td>Matchweek 13</td>\n      <td>Mon</td>\n      <td>Away</td>\n      <td>L</td>\n      <td>2</td>\n      <td>3</td>\n      <td>Fulham</td>\n      <td>...</td>\n      <td>0</td>\n      <td>0</td>\n      <td>1.6</td>\n      <td>1.8</td>\n      <td>11.8</td>\n      <td>4.4</td>\n      <td>17.58</td>\n      <td>0.8</td>\n      <td>0.0</td>\n      <td>0.0</td>\n    </tr>\n  </tbody>\n</table>\n<p>12457 rows × 40 columns</p>\n</div>"
     },
     "execution_count": 47,
     "metadata": {},
     "output_type": "execute_result"
    }
   ],
   "source": [
    "matches_rolling"
   ]
  },
  {
   "cell_type": "code",
   "execution_count": 51,
   "id": "29872616",
   "metadata": {
    "ExecuteTime": {
     "end_time": "2023-11-30T12:03:45.151311800Z",
     "start_time": "2023-11-30T12:03:45.133249800Z"
    }
   },
   "outputs": [],
   "source": [
    "def make_predictions(data, predictors):\n",
    "    train = data[data[\"date\"] < '2024-11-11']\n",
    "    test = data[data[\"date\"] > '2020-01-01']\n",
    "    rf.fit(train[predictors],train[\"target\"])\n",
    "    preds = rf.predict(test[predictors])\n",
    "    combined = pd.DataFrame(dict(actual=test[\"target\"], prediction=preds),index=test.index)\n",
    "    precision = precision_score(test[\"target\"],preds)\n",
    "    return combined, precision"
   ]
  },
  {
   "cell_type": "code",
   "execution_count": 52,
   "id": "4488b1e0",
   "metadata": {
    "ExecuteTime": {
     "end_time": "2023-11-30T12:03:52.995441600Z",
     "start_time": "2023-11-30T12:03:45.561840700Z"
    }
   },
   "outputs": [],
   "source": [
    "combined, precision = make_predictions(matches_rolling, predictors + new_cols)"
   ]
  },
  {
   "cell_type": "code",
   "execution_count": 53,
   "id": "3dd21777",
   "metadata": {
    "ExecuteTime": {
     "end_time": "2023-11-30T12:03:53.004400400Z",
     "start_time": "2023-11-30T12:03:52.996442200Z"
    }
   },
   "outputs": [
    {
     "data": {
      "text/plain": "0.8605482717520858"
     },
     "execution_count": 53,
     "metadata": {},
     "output_type": "execute_result"
    }
   ],
   "source": [
    "precision"
   ]
  },
  {
   "cell_type": "code",
   "execution_count": 54,
   "id": "4d26e198",
   "metadata": {
    "ExecuteTime": {
     "end_time": "2023-11-30T12:03:53.009624300Z",
     "start_time": "2023-11-30T12:03:53.002341300Z"
    }
   },
   "outputs": [
    {
     "data": {
      "text/plain": "       actual  prediction\n0           0           0\n1           0           0\n2           1           0\n3           0           0\n4           1           0\n...       ...         ...\n12452       0           0\n12453       0           0\n12454       0           0\n12455       1           0\n12456       0           0\n\n[12457 rows x 2 columns]",
      "text/html": "<div>\n<style scoped>\n    .dataframe tbody tr th:only-of-type {\n        vertical-align: middle;\n    }\n\n    .dataframe tbody tr th {\n        vertical-align: top;\n    }\n\n    .dataframe thead th {\n        text-align: right;\n    }\n</style>\n<table border=\"1\" class=\"dataframe\">\n  <thead>\n    <tr style=\"text-align: right;\">\n      <th></th>\n      <th>actual</th>\n      <th>prediction</th>\n    </tr>\n  </thead>\n  <tbody>\n    <tr>\n      <th>0</th>\n      <td>0</td>\n      <td>0</td>\n    </tr>\n    <tr>\n      <th>1</th>\n      <td>0</td>\n      <td>0</td>\n    </tr>\n    <tr>\n      <th>2</th>\n      <td>1</td>\n      <td>0</td>\n    </tr>\n    <tr>\n      <th>3</th>\n      <td>0</td>\n      <td>0</td>\n    </tr>\n    <tr>\n      <th>4</th>\n      <td>1</td>\n      <td>0</td>\n    </tr>\n    <tr>\n      <th>...</th>\n      <td>...</td>\n      <td>...</td>\n    </tr>\n    <tr>\n      <th>12452</th>\n      <td>0</td>\n      <td>0</td>\n    </tr>\n    <tr>\n      <th>12453</th>\n      <td>0</td>\n      <td>0</td>\n    </tr>\n    <tr>\n      <th>12454</th>\n      <td>0</td>\n      <td>0</td>\n    </tr>\n    <tr>\n      <th>12455</th>\n      <td>1</td>\n      <td>0</td>\n    </tr>\n    <tr>\n      <th>12456</th>\n      <td>0</td>\n      <td>0</td>\n    </tr>\n  </tbody>\n</table>\n<p>12457 rows × 2 columns</p>\n</div>"
     },
     "execution_count": 54,
     "metadata": {},
     "output_type": "execute_result"
    }
   ],
   "source": [
    "combined"
   ]
  },
  {
   "cell_type": "code",
   "execution_count": 68,
   "id": "7ad5b686",
   "metadata": {
    "ExecuteTime": {
     "end_time": "2023-11-30T12:04:48.033593600Z",
     "start_time": "2023-11-30T12:04:48.028174700Z"
    }
   },
   "outputs": [],
   "source": [
    "combined = combined.merge(matches_rolling[[\"date\",\"team\",\"opponent\",\"result\"]], left_index=True, right_index=True)"
   ]
  },
  {
   "cell_type": "markdown",
   "id": "ceb9953d",
   "metadata": {},
   "source": []
  },
  {
   "cell_type": "code",
   "execution_count": 69,
   "id": "cc4e9fcb",
   "metadata": {
    "ExecuteTime": {
     "end_time": "2023-11-30T12:04:49.202792200Z",
     "start_time": "2023-11-30T12:04:49.186039700Z"
    }
   },
   "outputs": [
    {
     "data": {
      "text/plain": "       actual  prediction     date_x   team_x        opponent_x result_x  \\\n0           0           0 2022-09-04  Ajaccio           Lorient        L   \n1           0           0 2022-09-11  Ajaccio              Nice        L   \n2           1           0 2022-09-18  Ajaccio             Brest        W   \n3           0           0 2022-10-02  Ajaccio     Clermont Foot        L   \n4           1           0 2022-10-08  Ajaccio         Marseille        W   \n...       ...         ...        ...      ...               ...      ...   \n12452       0           0 2023-10-28   Wolves  Newcastle United        D   \n12453       0           0 2023-11-04   Wolves  Sheffield United        L   \n12454       0           0 2023-11-04   Wolves  Sheffield United        L   \n12455       1           0 2023-11-11   Wolves         Tottenham        W   \n12456       0           0 2023-11-27   Wolves            Fulham        L   \n\n          date_y   team_y        opponent_y result_y       date     team  \\\n0     2022-09-04  Ajaccio           Lorient        L 2022-09-04  Ajaccio   \n1     2022-09-11  Ajaccio              Nice        L 2022-09-11  Ajaccio   \n2     2022-09-18  Ajaccio             Brest        W 2022-09-18  Ajaccio   \n3     2022-10-02  Ajaccio     Clermont Foot        L 2022-10-02  Ajaccio   \n4     2022-10-08  Ajaccio         Marseille        W 2022-10-08  Ajaccio   \n...          ...      ...               ...      ...        ...      ...   \n12452 2023-10-28   Wolves  Newcastle United        D 2023-10-28   Wolves   \n12453 2023-11-04   Wolves  Sheffield United        L 2023-11-04   Wolves   \n12454 2023-11-04   Wolves  Sheffield United        L 2023-11-04   Wolves   \n12455 2023-11-11   Wolves         Tottenham        W 2023-11-11   Wolves   \n12456 2023-11-27   Wolves            Fulham        L 2023-11-27   Wolves   \n\n               opponent result  \n0               Lorient      L  \n1                  Nice      L  \n2                 Brest      W  \n3         Clermont Foot      L  \n4             Marseille      W  \n...                 ...    ...  \n12452  Newcastle United      D  \n12453  Sheffield United      L  \n12454  Sheffield United      L  \n12455         Tottenham      W  \n12456            Fulham      L  \n\n[12457 rows x 14 columns]",
      "text/html": "<div>\n<style scoped>\n    .dataframe tbody tr th:only-of-type {\n        vertical-align: middle;\n    }\n\n    .dataframe tbody tr th {\n        vertical-align: top;\n    }\n\n    .dataframe thead th {\n        text-align: right;\n    }\n</style>\n<table border=\"1\" class=\"dataframe\">\n  <thead>\n    <tr style=\"text-align: right;\">\n      <th></th>\n      <th>actual</th>\n      <th>prediction</th>\n      <th>date_x</th>\n      <th>team_x</th>\n      <th>opponent_x</th>\n      <th>result_x</th>\n      <th>date_y</th>\n      <th>team_y</th>\n      <th>opponent_y</th>\n      <th>result_y</th>\n      <th>date</th>\n      <th>team</th>\n      <th>opponent</th>\n      <th>result</th>\n    </tr>\n  </thead>\n  <tbody>\n    <tr>\n      <th>0</th>\n      <td>0</td>\n      <td>0</td>\n      <td>2022-09-04</td>\n      <td>Ajaccio</td>\n      <td>Lorient</td>\n      <td>L</td>\n      <td>2022-09-04</td>\n      <td>Ajaccio</td>\n      <td>Lorient</td>\n      <td>L</td>\n      <td>2022-09-04</td>\n      <td>Ajaccio</td>\n      <td>Lorient</td>\n      <td>L</td>\n    </tr>\n    <tr>\n      <th>1</th>\n      <td>0</td>\n      <td>0</td>\n      <td>2022-09-11</td>\n      <td>Ajaccio</td>\n      <td>Nice</td>\n      <td>L</td>\n      <td>2022-09-11</td>\n      <td>Ajaccio</td>\n      <td>Nice</td>\n      <td>L</td>\n      <td>2022-09-11</td>\n      <td>Ajaccio</td>\n      <td>Nice</td>\n      <td>L</td>\n    </tr>\n    <tr>\n      <th>2</th>\n      <td>1</td>\n      <td>0</td>\n      <td>2022-09-18</td>\n      <td>Ajaccio</td>\n      <td>Brest</td>\n      <td>W</td>\n      <td>2022-09-18</td>\n      <td>Ajaccio</td>\n      <td>Brest</td>\n      <td>W</td>\n      <td>2022-09-18</td>\n      <td>Ajaccio</td>\n      <td>Brest</td>\n      <td>W</td>\n    </tr>\n    <tr>\n      <th>3</th>\n      <td>0</td>\n      <td>0</td>\n      <td>2022-10-02</td>\n      <td>Ajaccio</td>\n      <td>Clermont Foot</td>\n      <td>L</td>\n      <td>2022-10-02</td>\n      <td>Ajaccio</td>\n      <td>Clermont Foot</td>\n      <td>L</td>\n      <td>2022-10-02</td>\n      <td>Ajaccio</td>\n      <td>Clermont Foot</td>\n      <td>L</td>\n    </tr>\n    <tr>\n      <th>4</th>\n      <td>1</td>\n      <td>0</td>\n      <td>2022-10-08</td>\n      <td>Ajaccio</td>\n      <td>Marseille</td>\n      <td>W</td>\n      <td>2022-10-08</td>\n      <td>Ajaccio</td>\n      <td>Marseille</td>\n      <td>W</td>\n      <td>2022-10-08</td>\n      <td>Ajaccio</td>\n      <td>Marseille</td>\n      <td>W</td>\n    </tr>\n    <tr>\n      <th>...</th>\n      <td>...</td>\n      <td>...</td>\n      <td>...</td>\n      <td>...</td>\n      <td>...</td>\n      <td>...</td>\n      <td>...</td>\n      <td>...</td>\n      <td>...</td>\n      <td>...</td>\n      <td>...</td>\n      <td>...</td>\n      <td>...</td>\n      <td>...</td>\n    </tr>\n    <tr>\n      <th>12452</th>\n      <td>0</td>\n      <td>0</td>\n      <td>2023-10-28</td>\n      <td>Wolves</td>\n      <td>Newcastle United</td>\n      <td>D</td>\n      <td>2023-10-28</td>\n      <td>Wolves</td>\n      <td>Newcastle United</td>\n      <td>D</td>\n      <td>2023-10-28</td>\n      <td>Wolves</td>\n      <td>Newcastle United</td>\n      <td>D</td>\n    </tr>\n    <tr>\n      <th>12453</th>\n      <td>0</td>\n      <td>0</td>\n      <td>2023-11-04</td>\n      <td>Wolves</td>\n      <td>Sheffield United</td>\n      <td>L</td>\n      <td>2023-11-04</td>\n      <td>Wolves</td>\n      <td>Sheffield United</td>\n      <td>L</td>\n      <td>2023-11-04</td>\n      <td>Wolves</td>\n      <td>Sheffield United</td>\n      <td>L</td>\n    </tr>\n    <tr>\n      <th>12454</th>\n      <td>0</td>\n      <td>0</td>\n      <td>2023-11-04</td>\n      <td>Wolves</td>\n      <td>Sheffield United</td>\n      <td>L</td>\n      <td>2023-11-04</td>\n      <td>Wolves</td>\n      <td>Sheffield United</td>\n      <td>L</td>\n      <td>2023-11-04</td>\n      <td>Wolves</td>\n      <td>Sheffield United</td>\n      <td>L</td>\n    </tr>\n    <tr>\n      <th>12455</th>\n      <td>1</td>\n      <td>0</td>\n      <td>2023-11-11</td>\n      <td>Wolves</td>\n      <td>Tottenham</td>\n      <td>W</td>\n      <td>2023-11-11</td>\n      <td>Wolves</td>\n      <td>Tottenham</td>\n      <td>W</td>\n      <td>2023-11-11</td>\n      <td>Wolves</td>\n      <td>Tottenham</td>\n      <td>W</td>\n    </tr>\n    <tr>\n      <th>12456</th>\n      <td>0</td>\n      <td>0</td>\n      <td>2023-11-27</td>\n      <td>Wolves</td>\n      <td>Fulham</td>\n      <td>L</td>\n      <td>2023-11-27</td>\n      <td>Wolves</td>\n      <td>Fulham</td>\n      <td>L</td>\n      <td>2023-11-27</td>\n      <td>Wolves</td>\n      <td>Fulham</td>\n      <td>L</td>\n    </tr>\n  </tbody>\n</table>\n<p>12457 rows × 14 columns</p>\n</div>"
     },
     "execution_count": 69,
     "metadata": {},
     "output_type": "execute_result"
    }
   ],
   "source": [
    "combined"
   ]
  },
  {
   "cell_type": "code",
   "execution_count": 70,
   "id": "6ab703da",
   "metadata": {
    "ExecuteTime": {
     "end_time": "2023-11-30T12:04:49.775403800Z",
     "start_time": "2023-11-30T12:04:49.767733300Z"
    }
   },
   "outputs": [],
   "source": [
    "class MissingDict(dict):\n",
    "    __missing__ = lambda self, key: key\n",
    "    \n",
    "map_values = {\"Brighton and Hove Albion\": \"Brighton\", \n",
    "              \"Manchester United\": \"Manchester Utd\", \n",
    "              \"Newcastle United\": \"Newcastle Utd\", \n",
    "              \"Tottenham Hotspur\": \"Tottenham\", \n",
    "              \"West Ham United\": \"West Ham\", \n",
    "              \"Wolverhampton Wanderers\": \"Wolves\"\n",
    "             }\n",
    "mapping = MissingDict(**map_values)\n"
   ]
  },
  {
   "cell_type": "code",
   "execution_count": 71,
   "id": "86241018",
   "metadata": {
    "ExecuteTime": {
     "end_time": "2023-11-30T12:04:50.541943600Z",
     "start_time": "2023-11-30T12:04:50.536503800Z"
    }
   },
   "outputs": [],
   "source": [
    "combined[\"new_team\"] = combined[\"team\"].map(mapping)"
   ]
  },
  {
   "cell_type": "code",
   "execution_count": 72,
   "id": "9571cfed",
   "metadata": {
    "ExecuteTime": {
     "end_time": "2023-11-30T12:04:51.520787800Z",
     "start_time": "2023-11-30T12:04:51.504850Z"
    }
   },
   "outputs": [],
   "source": [
    "merged = combined.merge(combined, left_on=[\"date\", \"new_team\"], right_on=[\"date\", \"opponent\"])"
   ]
  },
  {
   "cell_type": "code",
   "execution_count": 73,
   "id": "e3a4380b",
   "metadata": {
    "ExecuteTime": {
     "end_time": "2023-11-30T12:04:52.415773100Z",
     "start_time": "2023-11-30T12:04:52.400009900Z"
    }
   },
   "outputs": [
    {
     "data": {
      "text/plain": "       actual_x  prediction_x   date_x_x team_x_x      opponent_x_x  \\\n0             0             0 2022-09-04  Ajaccio           Lorient   \n1             0             0 2022-09-11  Ajaccio              Nice   \n2             1             0 2022-09-18  Ajaccio             Brest   \n3             0             0 2022-10-02  Ajaccio     Clermont Foot   \n4             1             0 2022-10-08  Ajaccio         Marseille   \n...         ...           ...        ...      ...               ...   \n12953         0             0 2023-11-04   Wolves  Sheffield United   \n12954         0             0 2023-11-04   Wolves  Sheffield United   \n12955         0             0 2023-11-04   Wolves  Sheffield United   \n12956         0             0 2023-11-04   Wolves  Sheffield United   \n12957         1             0 2023-11-11   Wolves         Tottenham   \n\n      result_x_x   date_y_x team_y_x      opponent_y_x result_y_x  ...  \\\n0              L 2022-09-04  Ajaccio           Lorient          L  ...   \n1              L 2022-09-11  Ajaccio              Nice          L  ...   \n2              W 2022-09-18  Ajaccio             Brest          W  ...   \n3              L 2022-10-02  Ajaccio     Clermont Foot          L  ...   \n4              W 2022-10-08  Ajaccio         Marseille          W  ...   \n...          ...        ...      ...               ...        ...  ...   \n12953          L 2023-11-04   Wolves  Sheffield United          L  ...   \n12954          L 2023-11-04   Wolves  Sheffield United          L  ...   \n12955          L 2023-11-04   Wolves  Sheffield United          L  ...   \n12956          L 2023-11-04   Wolves  Sheffield United          L  ...   \n12957          W 2023-11-11   Wolves         Tottenham          W  ...   \n\n      opponent_x_y result_x_y   date_y_y          team_y_y opponent_y_y  \\\n0          Ajaccio          W 2022-09-04           Lorient      Ajaccio   \n1          Ajaccio          W 2022-09-11              Nice      Ajaccio   \n2          Ajaccio          L 2022-09-18             Brest      Ajaccio   \n3          Ajaccio          W 2022-10-02     Clermont Foot      Ajaccio   \n4          Ajaccio          L 2022-10-08         Marseille      Ajaccio   \n...            ...        ...        ...               ...          ...   \n12953       Wolves          W 2023-11-04  Sheffield United       Wolves   \n12954       Wolves          W 2023-11-04  Sheffield United       Wolves   \n12955       Wolves          W 2023-11-04  Sheffield United       Wolves   \n12956       Wolves          W 2023-11-04  Sheffield United       Wolves   \n12957       Wolves          L 2023-11-11         Tottenham       Wolves   \n\n       result_y_y            team_y opponent_y result_y        new_team_y  \n0               W           Lorient    Ajaccio        W           Lorient  \n1               W              Nice    Ajaccio        W              Nice  \n2               L             Brest    Ajaccio        L             Brest  \n3               W     Clermont Foot    Ajaccio        W     Clermont Foot  \n4               L         Marseille    Ajaccio        L         Marseille  \n...           ...               ...        ...      ...               ...  \n12953           W  Sheffield United     Wolves        W  Sheffield United  \n12954           W  Sheffield United     Wolves        W  Sheffield United  \n12955           W  Sheffield United     Wolves        W  Sheffield United  \n12956           W  Sheffield United     Wolves        W  Sheffield United  \n12957           L         Tottenham     Wolves        L         Tottenham  \n\n[12958 rows x 29 columns]",
      "text/html": "<div>\n<style scoped>\n    .dataframe tbody tr th:only-of-type {\n        vertical-align: middle;\n    }\n\n    .dataframe tbody tr th {\n        vertical-align: top;\n    }\n\n    .dataframe thead th {\n        text-align: right;\n    }\n</style>\n<table border=\"1\" class=\"dataframe\">\n  <thead>\n    <tr style=\"text-align: right;\">\n      <th></th>\n      <th>actual_x</th>\n      <th>prediction_x</th>\n      <th>date_x_x</th>\n      <th>team_x_x</th>\n      <th>opponent_x_x</th>\n      <th>result_x_x</th>\n      <th>date_y_x</th>\n      <th>team_y_x</th>\n      <th>opponent_y_x</th>\n      <th>result_y_x</th>\n      <th>...</th>\n      <th>opponent_x_y</th>\n      <th>result_x_y</th>\n      <th>date_y_y</th>\n      <th>team_y_y</th>\n      <th>opponent_y_y</th>\n      <th>result_y_y</th>\n      <th>team_y</th>\n      <th>opponent_y</th>\n      <th>result_y</th>\n      <th>new_team_y</th>\n    </tr>\n  </thead>\n  <tbody>\n    <tr>\n      <th>0</th>\n      <td>0</td>\n      <td>0</td>\n      <td>2022-09-04</td>\n      <td>Ajaccio</td>\n      <td>Lorient</td>\n      <td>L</td>\n      <td>2022-09-04</td>\n      <td>Ajaccio</td>\n      <td>Lorient</td>\n      <td>L</td>\n      <td>...</td>\n      <td>Ajaccio</td>\n      <td>W</td>\n      <td>2022-09-04</td>\n      <td>Lorient</td>\n      <td>Ajaccio</td>\n      <td>W</td>\n      <td>Lorient</td>\n      <td>Ajaccio</td>\n      <td>W</td>\n      <td>Lorient</td>\n    </tr>\n    <tr>\n      <th>1</th>\n      <td>0</td>\n      <td>0</td>\n      <td>2022-09-11</td>\n      <td>Ajaccio</td>\n      <td>Nice</td>\n      <td>L</td>\n      <td>2022-09-11</td>\n      <td>Ajaccio</td>\n      <td>Nice</td>\n      <td>L</td>\n      <td>...</td>\n      <td>Ajaccio</td>\n      <td>W</td>\n      <td>2022-09-11</td>\n      <td>Nice</td>\n      <td>Ajaccio</td>\n      <td>W</td>\n      <td>Nice</td>\n      <td>Ajaccio</td>\n      <td>W</td>\n      <td>Nice</td>\n    </tr>\n    <tr>\n      <th>2</th>\n      <td>1</td>\n      <td>0</td>\n      <td>2022-09-18</td>\n      <td>Ajaccio</td>\n      <td>Brest</td>\n      <td>W</td>\n      <td>2022-09-18</td>\n      <td>Ajaccio</td>\n      <td>Brest</td>\n      <td>W</td>\n      <td>...</td>\n      <td>Ajaccio</td>\n      <td>L</td>\n      <td>2022-09-18</td>\n      <td>Brest</td>\n      <td>Ajaccio</td>\n      <td>L</td>\n      <td>Brest</td>\n      <td>Ajaccio</td>\n      <td>L</td>\n      <td>Brest</td>\n    </tr>\n    <tr>\n      <th>3</th>\n      <td>0</td>\n      <td>0</td>\n      <td>2022-10-02</td>\n      <td>Ajaccio</td>\n      <td>Clermont Foot</td>\n      <td>L</td>\n      <td>2022-10-02</td>\n      <td>Ajaccio</td>\n      <td>Clermont Foot</td>\n      <td>L</td>\n      <td>...</td>\n      <td>Ajaccio</td>\n      <td>W</td>\n      <td>2022-10-02</td>\n      <td>Clermont Foot</td>\n      <td>Ajaccio</td>\n      <td>W</td>\n      <td>Clermont Foot</td>\n      <td>Ajaccio</td>\n      <td>W</td>\n      <td>Clermont Foot</td>\n    </tr>\n    <tr>\n      <th>4</th>\n      <td>1</td>\n      <td>0</td>\n      <td>2022-10-08</td>\n      <td>Ajaccio</td>\n      <td>Marseille</td>\n      <td>W</td>\n      <td>2022-10-08</td>\n      <td>Ajaccio</td>\n      <td>Marseille</td>\n      <td>W</td>\n      <td>...</td>\n      <td>Ajaccio</td>\n      <td>L</td>\n      <td>2022-10-08</td>\n      <td>Marseille</td>\n      <td>Ajaccio</td>\n      <td>L</td>\n      <td>Marseille</td>\n      <td>Ajaccio</td>\n      <td>L</td>\n      <td>Marseille</td>\n    </tr>\n    <tr>\n      <th>...</th>\n      <td>...</td>\n      <td>...</td>\n      <td>...</td>\n      <td>...</td>\n      <td>...</td>\n      <td>...</td>\n      <td>...</td>\n      <td>...</td>\n      <td>...</td>\n      <td>...</td>\n      <td>...</td>\n      <td>...</td>\n      <td>...</td>\n      <td>...</td>\n      <td>...</td>\n      <td>...</td>\n      <td>...</td>\n      <td>...</td>\n      <td>...</td>\n      <td>...</td>\n      <td>...</td>\n    </tr>\n    <tr>\n      <th>12953</th>\n      <td>0</td>\n      <td>0</td>\n      <td>2023-11-04</td>\n      <td>Wolves</td>\n      <td>Sheffield United</td>\n      <td>L</td>\n      <td>2023-11-04</td>\n      <td>Wolves</td>\n      <td>Sheffield United</td>\n      <td>L</td>\n      <td>...</td>\n      <td>Wolves</td>\n      <td>W</td>\n      <td>2023-11-04</td>\n      <td>Sheffield United</td>\n      <td>Wolves</td>\n      <td>W</td>\n      <td>Sheffield United</td>\n      <td>Wolves</td>\n      <td>W</td>\n      <td>Sheffield United</td>\n    </tr>\n    <tr>\n      <th>12954</th>\n      <td>0</td>\n      <td>0</td>\n      <td>2023-11-04</td>\n      <td>Wolves</td>\n      <td>Sheffield United</td>\n      <td>L</td>\n      <td>2023-11-04</td>\n      <td>Wolves</td>\n      <td>Sheffield United</td>\n      <td>L</td>\n      <td>...</td>\n      <td>Wolves</td>\n      <td>W</td>\n      <td>2023-11-04</td>\n      <td>Sheffield United</td>\n      <td>Wolves</td>\n      <td>W</td>\n      <td>Sheffield United</td>\n      <td>Wolves</td>\n      <td>W</td>\n      <td>Sheffield United</td>\n    </tr>\n    <tr>\n      <th>12955</th>\n      <td>0</td>\n      <td>0</td>\n      <td>2023-11-04</td>\n      <td>Wolves</td>\n      <td>Sheffield United</td>\n      <td>L</td>\n      <td>2023-11-04</td>\n      <td>Wolves</td>\n      <td>Sheffield United</td>\n      <td>L</td>\n      <td>...</td>\n      <td>Wolves</td>\n      <td>W</td>\n      <td>2023-11-04</td>\n      <td>Sheffield United</td>\n      <td>Wolves</td>\n      <td>W</td>\n      <td>Sheffield United</td>\n      <td>Wolves</td>\n      <td>W</td>\n      <td>Sheffield United</td>\n    </tr>\n    <tr>\n      <th>12956</th>\n      <td>0</td>\n      <td>0</td>\n      <td>2023-11-04</td>\n      <td>Wolves</td>\n      <td>Sheffield United</td>\n      <td>L</td>\n      <td>2023-11-04</td>\n      <td>Wolves</td>\n      <td>Sheffield United</td>\n      <td>L</td>\n      <td>...</td>\n      <td>Wolves</td>\n      <td>W</td>\n      <td>2023-11-04</td>\n      <td>Sheffield United</td>\n      <td>Wolves</td>\n      <td>W</td>\n      <td>Sheffield United</td>\n      <td>Wolves</td>\n      <td>W</td>\n      <td>Sheffield United</td>\n    </tr>\n    <tr>\n      <th>12957</th>\n      <td>1</td>\n      <td>0</td>\n      <td>2023-11-11</td>\n      <td>Wolves</td>\n      <td>Tottenham</td>\n      <td>W</td>\n      <td>2023-11-11</td>\n      <td>Wolves</td>\n      <td>Tottenham</td>\n      <td>W</td>\n      <td>...</td>\n      <td>Wolves</td>\n      <td>L</td>\n      <td>2023-11-11</td>\n      <td>Tottenham</td>\n      <td>Wolves</td>\n      <td>L</td>\n      <td>Tottenham</td>\n      <td>Wolves</td>\n      <td>L</td>\n      <td>Tottenham</td>\n    </tr>\n  </tbody>\n</table>\n<p>12958 rows × 29 columns</p>\n</div>"
     },
     "execution_count": 73,
     "metadata": {},
     "output_type": "execute_result"
    }
   ],
   "source": [
    "merged"
   ]
  },
  {
   "cell_type": "markdown",
   "source": [],
   "metadata": {
    "collapsed": false
   },
   "id": "d219ba4d5495671a"
  },
  {
   "cell_type": "code",
   "execution_count": 175,
   "id": "88ceb436",
   "metadata": {
    "scrolled": false,
    "ExecuteTime": {
     "end_time": "2023-11-23T16:57:44.560350500Z",
     "start_time": "2023-11-23T16:57:44.531402400Z"
    }
   },
   "outputs": [
    {
     "data": {
      "text/plain": "actual_x\n1    448\n0     66\nName: count, dtype: int64"
     },
     "execution_count": 175,
     "metadata": {},
     "output_type": "execute_result"
    }
   ],
   "source": [
    "merged[(merged[\"prediction_x\"] == 1) & (merged[\"prediction_y\"] ==0)][\"actual_x\"].value_counts()"
   ]
  },
  {
   "cell_type": "code",
   "execution_count": 176,
   "id": "15920712",
   "metadata": {
    "ExecuteTime": {
     "end_time": "2023-11-23T16:57:45.436659600Z",
     "start_time": "2023-11-23T16:57:45.432351800Z"
    }
   },
   "outputs": [
    {
     "data": {
      "text/plain": "0.8715953307392996"
     },
     "execution_count": 176,
     "metadata": {},
     "output_type": "execute_result"
    }
   ],
   "source": [
    "448 / 514\n"
   ]
  },
  {
   "cell_type": "code",
   "execution_count": 177,
   "id": "7c819637",
   "metadata": {
    "ExecuteTime": {
     "end_time": "2023-11-23T16:57:53.084572500Z",
     "start_time": "2023-11-23T16:57:45.921122400Z"
    }
   },
   "outputs": [],
   "source": [
    "mreged, precision = make_predictions(matches_rolling, predictors + new_cols)"
   ]
  },
  {
   "cell_type": "code",
   "execution_count": 178,
   "outputs": [
    {
     "data": {
      "text/plain": "0.8459167950693375"
     },
     "execution_count": 178,
     "metadata": {},
     "output_type": "execute_result"
    }
   ],
   "source": [
    "precision"
   ],
   "metadata": {
    "collapsed": false,
    "ExecuteTime": {
     "end_time": "2023-11-23T16:57:53.090014800Z",
     "start_time": "2023-11-23T16:57:53.086572800Z"
    }
   },
   "id": "2dfc17c9222ab4de"
  },
  {
   "cell_type": "code",
   "execution_count": 74,
   "outputs": [
    {
     "data": {
      "text/plain": "       actual_x  prediction_x   date_x_x team_x_x      opponent_x_x  \\\n0             0             0 2022-09-04  Ajaccio           Lorient   \n1             0             0 2022-09-11  Ajaccio              Nice   \n2             1             0 2022-09-18  Ajaccio             Brest   \n3             0             0 2022-10-02  Ajaccio     Clermont Foot   \n4             1             0 2022-10-08  Ajaccio         Marseille   \n...         ...           ...        ...      ...               ...   \n12953         0             0 2023-11-04   Wolves  Sheffield United   \n12954         0             0 2023-11-04   Wolves  Sheffield United   \n12955         0             0 2023-11-04   Wolves  Sheffield United   \n12956         0             0 2023-11-04   Wolves  Sheffield United   \n12957         1             0 2023-11-11   Wolves         Tottenham   \n\n      result_x_x   date_y_x team_y_x      opponent_y_x result_y_x  ...  \\\n0              L 2022-09-04  Ajaccio           Lorient          L  ...   \n1              L 2022-09-11  Ajaccio              Nice          L  ...   \n2              W 2022-09-18  Ajaccio             Brest          W  ...   \n3              L 2022-10-02  Ajaccio     Clermont Foot          L  ...   \n4              W 2022-10-08  Ajaccio         Marseille          W  ...   \n...          ...        ...      ...               ...        ...  ...   \n12953          L 2023-11-04   Wolves  Sheffield United          L  ...   \n12954          L 2023-11-04   Wolves  Sheffield United          L  ...   \n12955          L 2023-11-04   Wolves  Sheffield United          L  ...   \n12956          L 2023-11-04   Wolves  Sheffield United          L  ...   \n12957          W 2023-11-11   Wolves         Tottenham          W  ...   \n\n      opponent_x_y result_x_y   date_y_y          team_y_y opponent_y_y  \\\n0          Ajaccio          W 2022-09-04           Lorient      Ajaccio   \n1          Ajaccio          W 2022-09-11              Nice      Ajaccio   \n2          Ajaccio          L 2022-09-18             Brest      Ajaccio   \n3          Ajaccio          W 2022-10-02     Clermont Foot      Ajaccio   \n4          Ajaccio          L 2022-10-08         Marseille      Ajaccio   \n...            ...        ...        ...               ...          ...   \n12953       Wolves          W 2023-11-04  Sheffield United       Wolves   \n12954       Wolves          W 2023-11-04  Sheffield United       Wolves   \n12955       Wolves          W 2023-11-04  Sheffield United       Wolves   \n12956       Wolves          W 2023-11-04  Sheffield United       Wolves   \n12957       Wolves          L 2023-11-11         Tottenham       Wolves   \n\n       result_y_y            team_y opponent_y result_y        new_team_y  \n0               W           Lorient    Ajaccio        W           Lorient  \n1               W              Nice    Ajaccio        W              Nice  \n2               L             Brest    Ajaccio        L             Brest  \n3               W     Clermont Foot    Ajaccio        W     Clermont Foot  \n4               L         Marseille    Ajaccio        L         Marseille  \n...           ...               ...        ...      ...               ...  \n12953           W  Sheffield United     Wolves        W  Sheffield United  \n12954           W  Sheffield United     Wolves        W  Sheffield United  \n12955           W  Sheffield United     Wolves        W  Sheffield United  \n12956           W  Sheffield United     Wolves        W  Sheffield United  \n12957           L         Tottenham     Wolves        L         Tottenham  \n\n[12958 rows x 29 columns]",
      "text/html": "<div>\n<style scoped>\n    .dataframe tbody tr th:only-of-type {\n        vertical-align: middle;\n    }\n\n    .dataframe tbody tr th {\n        vertical-align: top;\n    }\n\n    .dataframe thead th {\n        text-align: right;\n    }\n</style>\n<table border=\"1\" class=\"dataframe\">\n  <thead>\n    <tr style=\"text-align: right;\">\n      <th></th>\n      <th>actual_x</th>\n      <th>prediction_x</th>\n      <th>date_x_x</th>\n      <th>team_x_x</th>\n      <th>opponent_x_x</th>\n      <th>result_x_x</th>\n      <th>date_y_x</th>\n      <th>team_y_x</th>\n      <th>opponent_y_x</th>\n      <th>result_y_x</th>\n      <th>...</th>\n      <th>opponent_x_y</th>\n      <th>result_x_y</th>\n      <th>date_y_y</th>\n      <th>team_y_y</th>\n      <th>opponent_y_y</th>\n      <th>result_y_y</th>\n      <th>team_y</th>\n      <th>opponent_y</th>\n      <th>result_y</th>\n      <th>new_team_y</th>\n    </tr>\n  </thead>\n  <tbody>\n    <tr>\n      <th>0</th>\n      <td>0</td>\n      <td>0</td>\n      <td>2022-09-04</td>\n      <td>Ajaccio</td>\n      <td>Lorient</td>\n      <td>L</td>\n      <td>2022-09-04</td>\n      <td>Ajaccio</td>\n      <td>Lorient</td>\n      <td>L</td>\n      <td>...</td>\n      <td>Ajaccio</td>\n      <td>W</td>\n      <td>2022-09-04</td>\n      <td>Lorient</td>\n      <td>Ajaccio</td>\n      <td>W</td>\n      <td>Lorient</td>\n      <td>Ajaccio</td>\n      <td>W</td>\n      <td>Lorient</td>\n    </tr>\n    <tr>\n      <th>1</th>\n      <td>0</td>\n      <td>0</td>\n      <td>2022-09-11</td>\n      <td>Ajaccio</td>\n      <td>Nice</td>\n      <td>L</td>\n      <td>2022-09-11</td>\n      <td>Ajaccio</td>\n      <td>Nice</td>\n      <td>L</td>\n      <td>...</td>\n      <td>Ajaccio</td>\n      <td>W</td>\n      <td>2022-09-11</td>\n      <td>Nice</td>\n      <td>Ajaccio</td>\n      <td>W</td>\n      <td>Nice</td>\n      <td>Ajaccio</td>\n      <td>W</td>\n      <td>Nice</td>\n    </tr>\n    <tr>\n      <th>2</th>\n      <td>1</td>\n      <td>0</td>\n      <td>2022-09-18</td>\n      <td>Ajaccio</td>\n      <td>Brest</td>\n      <td>W</td>\n      <td>2022-09-18</td>\n      <td>Ajaccio</td>\n      <td>Brest</td>\n      <td>W</td>\n      <td>...</td>\n      <td>Ajaccio</td>\n      <td>L</td>\n      <td>2022-09-18</td>\n      <td>Brest</td>\n      <td>Ajaccio</td>\n      <td>L</td>\n      <td>Brest</td>\n      <td>Ajaccio</td>\n      <td>L</td>\n      <td>Brest</td>\n    </tr>\n    <tr>\n      <th>3</th>\n      <td>0</td>\n      <td>0</td>\n      <td>2022-10-02</td>\n      <td>Ajaccio</td>\n      <td>Clermont Foot</td>\n      <td>L</td>\n      <td>2022-10-02</td>\n      <td>Ajaccio</td>\n      <td>Clermont Foot</td>\n      <td>L</td>\n      <td>...</td>\n      <td>Ajaccio</td>\n      <td>W</td>\n      <td>2022-10-02</td>\n      <td>Clermont Foot</td>\n      <td>Ajaccio</td>\n      <td>W</td>\n      <td>Clermont Foot</td>\n      <td>Ajaccio</td>\n      <td>W</td>\n      <td>Clermont Foot</td>\n    </tr>\n    <tr>\n      <th>4</th>\n      <td>1</td>\n      <td>0</td>\n      <td>2022-10-08</td>\n      <td>Ajaccio</td>\n      <td>Marseille</td>\n      <td>W</td>\n      <td>2022-10-08</td>\n      <td>Ajaccio</td>\n      <td>Marseille</td>\n      <td>W</td>\n      <td>...</td>\n      <td>Ajaccio</td>\n      <td>L</td>\n      <td>2022-10-08</td>\n      <td>Marseille</td>\n      <td>Ajaccio</td>\n      <td>L</td>\n      <td>Marseille</td>\n      <td>Ajaccio</td>\n      <td>L</td>\n      <td>Marseille</td>\n    </tr>\n    <tr>\n      <th>...</th>\n      <td>...</td>\n      <td>...</td>\n      <td>...</td>\n      <td>...</td>\n      <td>...</td>\n      <td>...</td>\n      <td>...</td>\n      <td>...</td>\n      <td>...</td>\n      <td>...</td>\n      <td>...</td>\n      <td>...</td>\n      <td>...</td>\n      <td>...</td>\n      <td>...</td>\n      <td>...</td>\n      <td>...</td>\n      <td>...</td>\n      <td>...</td>\n      <td>...</td>\n      <td>...</td>\n    </tr>\n    <tr>\n      <th>12953</th>\n      <td>0</td>\n      <td>0</td>\n      <td>2023-11-04</td>\n      <td>Wolves</td>\n      <td>Sheffield United</td>\n      <td>L</td>\n      <td>2023-11-04</td>\n      <td>Wolves</td>\n      <td>Sheffield United</td>\n      <td>L</td>\n      <td>...</td>\n      <td>Wolves</td>\n      <td>W</td>\n      <td>2023-11-04</td>\n      <td>Sheffield United</td>\n      <td>Wolves</td>\n      <td>W</td>\n      <td>Sheffield United</td>\n      <td>Wolves</td>\n      <td>W</td>\n      <td>Sheffield United</td>\n    </tr>\n    <tr>\n      <th>12954</th>\n      <td>0</td>\n      <td>0</td>\n      <td>2023-11-04</td>\n      <td>Wolves</td>\n      <td>Sheffield United</td>\n      <td>L</td>\n      <td>2023-11-04</td>\n      <td>Wolves</td>\n      <td>Sheffield United</td>\n      <td>L</td>\n      <td>...</td>\n      <td>Wolves</td>\n      <td>W</td>\n      <td>2023-11-04</td>\n      <td>Sheffield United</td>\n      <td>Wolves</td>\n      <td>W</td>\n      <td>Sheffield United</td>\n      <td>Wolves</td>\n      <td>W</td>\n      <td>Sheffield United</td>\n    </tr>\n    <tr>\n      <th>12955</th>\n      <td>0</td>\n      <td>0</td>\n      <td>2023-11-04</td>\n      <td>Wolves</td>\n      <td>Sheffield United</td>\n      <td>L</td>\n      <td>2023-11-04</td>\n      <td>Wolves</td>\n      <td>Sheffield United</td>\n      <td>L</td>\n      <td>...</td>\n      <td>Wolves</td>\n      <td>W</td>\n      <td>2023-11-04</td>\n      <td>Sheffield United</td>\n      <td>Wolves</td>\n      <td>W</td>\n      <td>Sheffield United</td>\n      <td>Wolves</td>\n      <td>W</td>\n      <td>Sheffield United</td>\n    </tr>\n    <tr>\n      <th>12956</th>\n      <td>0</td>\n      <td>0</td>\n      <td>2023-11-04</td>\n      <td>Wolves</td>\n      <td>Sheffield United</td>\n      <td>L</td>\n      <td>2023-11-04</td>\n      <td>Wolves</td>\n      <td>Sheffield United</td>\n      <td>L</td>\n      <td>...</td>\n      <td>Wolves</td>\n      <td>W</td>\n      <td>2023-11-04</td>\n      <td>Sheffield United</td>\n      <td>Wolves</td>\n      <td>W</td>\n      <td>Sheffield United</td>\n      <td>Wolves</td>\n      <td>W</td>\n      <td>Sheffield United</td>\n    </tr>\n    <tr>\n      <th>12957</th>\n      <td>1</td>\n      <td>0</td>\n      <td>2023-11-11</td>\n      <td>Wolves</td>\n      <td>Tottenham</td>\n      <td>W</td>\n      <td>2023-11-11</td>\n      <td>Wolves</td>\n      <td>Tottenham</td>\n      <td>W</td>\n      <td>...</td>\n      <td>Wolves</td>\n      <td>L</td>\n      <td>2023-11-11</td>\n      <td>Tottenham</td>\n      <td>Wolves</td>\n      <td>L</td>\n      <td>Tottenham</td>\n      <td>Wolves</td>\n      <td>L</td>\n      <td>Tottenham</td>\n    </tr>\n  </tbody>\n</table>\n<p>12958 rows × 29 columns</p>\n</div>"
     },
     "execution_count": 74,
     "metadata": {},
     "output_type": "execute_result"
    }
   ],
   "source": [
    "merged"
   ],
   "metadata": {
    "collapsed": false,
    "ExecuteTime": {
     "end_time": "2023-11-30T12:14:30.180775Z",
     "start_time": "2023-11-30T12:14:30.149395500Z"
    }
   },
   "id": "504fccac6393a1dd"
  },
  {
   "cell_type": "code",
   "execution_count": 75,
   "outputs": [
    {
     "data": {
      "text/plain": "actual_x\n1    2161\n0     242\nName: count, dtype: int64"
     },
     "execution_count": 75,
     "metadata": {},
     "output_type": "execute_result"
    }
   ],
   "source": [
    "merged[(merged[\"prediction_x\"] == 1) & (merged[\"prediction_y\"] ==0)][\"actual_x\"].value_counts()"
   ],
   "metadata": {
    "collapsed": false,
    "ExecuteTime": {
     "end_time": "2023-11-30T12:14:31.045490200Z",
     "start_time": "2023-11-30T12:14:31.038616100Z"
    }
   },
   "id": "ccbcbd9215654e88"
  },
  {
   "cell_type": "code",
   "execution_count": 76,
   "outputs": [
    {
     "data": {
      "text/plain": "       actual  prediction     date_x   team_x        opponent_x result_x  \\\n0           0           0 2022-09-04  Ajaccio           Lorient        L   \n1           0           0 2022-09-11  Ajaccio              Nice        L   \n2           1           0 2022-09-18  Ajaccio             Brest        W   \n3           0           0 2022-10-02  Ajaccio     Clermont Foot        L   \n4           1           0 2022-10-08  Ajaccio         Marseille        W   \n...       ...         ...        ...      ...               ...      ...   \n12452       0           0 2023-10-28   Wolves  Newcastle United        D   \n12453       0           0 2023-11-04   Wolves  Sheffield United        L   \n12454       0           0 2023-11-04   Wolves  Sheffield United        L   \n12455       1           0 2023-11-11   Wolves         Tottenham        W   \n12456       0           0 2023-11-27   Wolves            Fulham        L   \n\n          date_y   team_y        opponent_y result_y       date     team  \\\n0     2022-09-04  Ajaccio           Lorient        L 2022-09-04  Ajaccio   \n1     2022-09-11  Ajaccio              Nice        L 2022-09-11  Ajaccio   \n2     2022-09-18  Ajaccio             Brest        W 2022-09-18  Ajaccio   \n3     2022-10-02  Ajaccio     Clermont Foot        L 2022-10-02  Ajaccio   \n4     2022-10-08  Ajaccio         Marseille        W 2022-10-08  Ajaccio   \n...          ...      ...               ...      ...        ...      ...   \n12452 2023-10-28   Wolves  Newcastle United        D 2023-10-28   Wolves   \n12453 2023-11-04   Wolves  Sheffield United        L 2023-11-04   Wolves   \n12454 2023-11-04   Wolves  Sheffield United        L 2023-11-04   Wolves   \n12455 2023-11-11   Wolves         Tottenham        W 2023-11-11   Wolves   \n12456 2023-11-27   Wolves            Fulham        L 2023-11-27   Wolves   \n\n               opponent result new_team  \n0               Lorient      L  Ajaccio  \n1                  Nice      L  Ajaccio  \n2                 Brest      W  Ajaccio  \n3         Clermont Foot      L  Ajaccio  \n4             Marseille      W  Ajaccio  \n...                 ...    ...      ...  \n12452  Newcastle United      D   Wolves  \n12453  Sheffield United      L   Wolves  \n12454  Sheffield United      L   Wolves  \n12455         Tottenham      W   Wolves  \n12456            Fulham      L   Wolves  \n\n[12457 rows x 15 columns]",
      "text/html": "<div>\n<style scoped>\n    .dataframe tbody tr th:only-of-type {\n        vertical-align: middle;\n    }\n\n    .dataframe tbody tr th {\n        vertical-align: top;\n    }\n\n    .dataframe thead th {\n        text-align: right;\n    }\n</style>\n<table border=\"1\" class=\"dataframe\">\n  <thead>\n    <tr style=\"text-align: right;\">\n      <th></th>\n      <th>actual</th>\n      <th>prediction</th>\n      <th>date_x</th>\n      <th>team_x</th>\n      <th>opponent_x</th>\n      <th>result_x</th>\n      <th>date_y</th>\n      <th>team_y</th>\n      <th>opponent_y</th>\n      <th>result_y</th>\n      <th>date</th>\n      <th>team</th>\n      <th>opponent</th>\n      <th>result</th>\n      <th>new_team</th>\n    </tr>\n  </thead>\n  <tbody>\n    <tr>\n      <th>0</th>\n      <td>0</td>\n      <td>0</td>\n      <td>2022-09-04</td>\n      <td>Ajaccio</td>\n      <td>Lorient</td>\n      <td>L</td>\n      <td>2022-09-04</td>\n      <td>Ajaccio</td>\n      <td>Lorient</td>\n      <td>L</td>\n      <td>2022-09-04</td>\n      <td>Ajaccio</td>\n      <td>Lorient</td>\n      <td>L</td>\n      <td>Ajaccio</td>\n    </tr>\n    <tr>\n      <th>1</th>\n      <td>0</td>\n      <td>0</td>\n      <td>2022-09-11</td>\n      <td>Ajaccio</td>\n      <td>Nice</td>\n      <td>L</td>\n      <td>2022-09-11</td>\n      <td>Ajaccio</td>\n      <td>Nice</td>\n      <td>L</td>\n      <td>2022-09-11</td>\n      <td>Ajaccio</td>\n      <td>Nice</td>\n      <td>L</td>\n      <td>Ajaccio</td>\n    </tr>\n    <tr>\n      <th>2</th>\n      <td>1</td>\n      <td>0</td>\n      <td>2022-09-18</td>\n      <td>Ajaccio</td>\n      <td>Brest</td>\n      <td>W</td>\n      <td>2022-09-18</td>\n      <td>Ajaccio</td>\n      <td>Brest</td>\n      <td>W</td>\n      <td>2022-09-18</td>\n      <td>Ajaccio</td>\n      <td>Brest</td>\n      <td>W</td>\n      <td>Ajaccio</td>\n    </tr>\n    <tr>\n      <th>3</th>\n      <td>0</td>\n      <td>0</td>\n      <td>2022-10-02</td>\n      <td>Ajaccio</td>\n      <td>Clermont Foot</td>\n      <td>L</td>\n      <td>2022-10-02</td>\n      <td>Ajaccio</td>\n      <td>Clermont Foot</td>\n      <td>L</td>\n      <td>2022-10-02</td>\n      <td>Ajaccio</td>\n      <td>Clermont Foot</td>\n      <td>L</td>\n      <td>Ajaccio</td>\n    </tr>\n    <tr>\n      <th>4</th>\n      <td>1</td>\n      <td>0</td>\n      <td>2022-10-08</td>\n      <td>Ajaccio</td>\n      <td>Marseille</td>\n      <td>W</td>\n      <td>2022-10-08</td>\n      <td>Ajaccio</td>\n      <td>Marseille</td>\n      <td>W</td>\n      <td>2022-10-08</td>\n      <td>Ajaccio</td>\n      <td>Marseille</td>\n      <td>W</td>\n      <td>Ajaccio</td>\n    </tr>\n    <tr>\n      <th>...</th>\n      <td>...</td>\n      <td>...</td>\n      <td>...</td>\n      <td>...</td>\n      <td>...</td>\n      <td>...</td>\n      <td>...</td>\n      <td>...</td>\n      <td>...</td>\n      <td>...</td>\n      <td>...</td>\n      <td>...</td>\n      <td>...</td>\n      <td>...</td>\n      <td>...</td>\n    </tr>\n    <tr>\n      <th>12452</th>\n      <td>0</td>\n      <td>0</td>\n      <td>2023-10-28</td>\n      <td>Wolves</td>\n      <td>Newcastle United</td>\n      <td>D</td>\n      <td>2023-10-28</td>\n      <td>Wolves</td>\n      <td>Newcastle United</td>\n      <td>D</td>\n      <td>2023-10-28</td>\n      <td>Wolves</td>\n      <td>Newcastle United</td>\n      <td>D</td>\n      <td>Wolves</td>\n    </tr>\n    <tr>\n      <th>12453</th>\n      <td>0</td>\n      <td>0</td>\n      <td>2023-11-04</td>\n      <td>Wolves</td>\n      <td>Sheffield United</td>\n      <td>L</td>\n      <td>2023-11-04</td>\n      <td>Wolves</td>\n      <td>Sheffield United</td>\n      <td>L</td>\n      <td>2023-11-04</td>\n      <td>Wolves</td>\n      <td>Sheffield United</td>\n      <td>L</td>\n      <td>Wolves</td>\n    </tr>\n    <tr>\n      <th>12454</th>\n      <td>0</td>\n      <td>0</td>\n      <td>2023-11-04</td>\n      <td>Wolves</td>\n      <td>Sheffield United</td>\n      <td>L</td>\n      <td>2023-11-04</td>\n      <td>Wolves</td>\n      <td>Sheffield United</td>\n      <td>L</td>\n      <td>2023-11-04</td>\n      <td>Wolves</td>\n      <td>Sheffield United</td>\n      <td>L</td>\n      <td>Wolves</td>\n    </tr>\n    <tr>\n      <th>12455</th>\n      <td>1</td>\n      <td>0</td>\n      <td>2023-11-11</td>\n      <td>Wolves</td>\n      <td>Tottenham</td>\n      <td>W</td>\n      <td>2023-11-11</td>\n      <td>Wolves</td>\n      <td>Tottenham</td>\n      <td>W</td>\n      <td>2023-11-11</td>\n      <td>Wolves</td>\n      <td>Tottenham</td>\n      <td>W</td>\n      <td>Wolves</td>\n    </tr>\n    <tr>\n      <th>12456</th>\n      <td>0</td>\n      <td>0</td>\n      <td>2023-11-27</td>\n      <td>Wolves</td>\n      <td>Fulham</td>\n      <td>L</td>\n      <td>2023-11-27</td>\n      <td>Wolves</td>\n      <td>Fulham</td>\n      <td>L</td>\n      <td>2023-11-27</td>\n      <td>Wolves</td>\n      <td>Fulham</td>\n      <td>L</td>\n      <td>Wolves</td>\n    </tr>\n  </tbody>\n</table>\n<p>12457 rows × 15 columns</p>\n</div>"
     },
     "execution_count": 76,
     "metadata": {},
     "output_type": "execute_result"
    }
   ],
   "source": [
    "combined"
   ],
   "metadata": {
    "collapsed": false,
    "ExecuteTime": {
     "end_time": "2023-11-30T12:14:31.644910200Z",
     "start_time": "2023-11-30T12:14:31.627381200Z"
    }
   },
   "id": "580496ddff82b007"
  },
  {
   "cell_type": "code",
   "execution_count": 77,
   "outputs": [],
   "source": [],
   "metadata": {
    "collapsed": false,
    "ExecuteTime": {
     "end_time": "2023-11-30T12:14:32.408222200Z",
     "start_time": "2023-11-30T12:14:32.403685800Z"
    }
   },
   "id": "82bd0377f45a379c"
  },
  {
   "cell_type": "code",
   "execution_count": 78,
   "outputs": [
    {
     "data": {
      "text/plain": "'Nottingham Forest is predicted to win 0.8214285714285714 & 1.0'"
     },
     "execution_count": 78,
     "metadata": {},
     "output_type": "execute_result"
    }
   ],
   "source": [],
   "metadata": {
    "collapsed": false,
    "ExecuteTime": {
     "end_time": "2023-11-30T12:14:33.486271800Z",
     "start_time": "2023-11-30T12:14:33.433965Z"
    }
   },
   "id": "9c66d5235c95c1e5"
  },
  {
   "cell_type": "code",
   "execution_count": null,
   "outputs": [],
   "source": [],
   "metadata": {
    "collapsed": false
   },
   "id": "699f1773a4bd6c50"
  }
 ],
 "metadata": {
  "kernelspec": {
   "display_name": "Python 3 (ipykernel)",
   "language": "python",
   "name": "python3"
  },
  "language_info": {
   "codemirror_mode": {
    "name": "ipython",
    "version": 3
   },
   "file_extension": ".py",
   "mimetype": "text/x-python",
   "name": "python",
   "nbconvert_exporter": "python",
   "pygments_lexer": "ipython3",
   "version": "3.11.5"
  }
 },
 "nbformat": 4,
 "nbformat_minor": 5
}
